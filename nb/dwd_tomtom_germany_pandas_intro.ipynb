{
 "cells": [
  {
   "cell_type": "code",
   "execution_count": 23,
   "metadata": {
    "collapsed": true
   },
   "outputs": [],
   "source": [
    "# This notebooks compars the distributions of all weather events\n",
    "# with the weather that occured at given incidents.\n",
    "#\n",
    "# Incidents are from TomTom. Weather is from DWD.\n",
    "#\n",
    "# It also doubles as gentle intro to how we can use Jupyter/Pandas\n",
    "# with the data.\n",
    "#\n",
    "# Author: Volker Hoffmann <volker@cheleb.net> <hoffmann@stcorp.no>\n",
    "# Update: 05 September 2016"
   ]
  },
  {
   "cell_type": "code",
   "execution_count": 2,
   "metadata": {
    "collapsed": false
   },
   "outputs": [],
   "source": [
    "%matplotlib inline"
   ]
  },
  {
   "cell_type": "code",
   "execution_count": 3,
   "metadata": {
    "collapsed": true
   },
   "outputs": [],
   "source": [
    "import pandas as pd\n",
    "import matplotlib as mpl; mpl.rcParams['savefig.dpi'] = 144\n",
    "# import matplotlib as mpl; mpl.rcParams['savefig.dpi'] = 72\n",
    "import matplotlib.pyplot as plt"
   ]
  },
  {
   "cell_type": "markdown",
   "metadata": {},
   "source": [
    "# Style\n",
    "\n",
    "First, let's style the figures a bit..."
   ]
  },
  {
   "cell_type": "code",
   "execution_count": 4,
   "metadata": {
    "collapsed": true
   },
   "outputs": [],
   "source": [
    "# Pretty Colour Cycle\n",
    "from cycler import cycler\n",
    "\n",
    "# E24A33 : red\n",
    "# 348ABD : blue\n",
    "# 988ED5 : purple\n",
    "# 777777 : gray\n",
    "# FBC15E : yellow\n",
    "# 8EBA42 : green\n",
    "# FFB5B8 : pink\n",
    "cycle_colours = \\\n",
    "    [ '#E24A33', '#348ABD', '#988ED5', \\\n",
    "      '#777777', '#FBC15E', '#8EBA42', \\\n",
    "      '#FFB5B8']\n",
    "\n",
    "\n",
    "# Set Cycle Colours\n",
    "mpl.rcParams['axes.prop_cycle'] = cycler('color', cycle_colours)\n",
    "\n",
    "# Axes Spines & Labels\n",
    "mpl.rcParams['axes.linewidth'] = 0.5\n",
    "# mpl.rcParams['axes.axisbelow'] = True       # grid/ticks below elements\n",
    "mpl.rcParams['axes.axisbelow'] = False       # grid/ticks below elements\n",
    "mpl.rcParams['xtick.color'] = '#555555'\n",
    "mpl.rcParams['ytick.color'] = '#555555'\n",
    "mpl.rcParams['axes.labelcolor'] = '#555555'\n",
    "# mpl.rcParams['xtick.color'] = '#222222'\n",
    "# mpl.rcParams['ytick.color'] = '#222222'\n",
    "# mpl.rcParams['axes.labelcolor'] = '#222222'\n",
    "mpl.rcParams['xtick.direction'] = 'in'\n",
    "mpl.rcParams['ytick.direction'] = 'in'\n",
    "# mpl.rcParams['xtick.direction'] = 'inout'\n",
    "# mpl.rcParams['ytick.direction'] = 'inout'\n",
    "\n",
    "# Fonts for PS/PDF Export\n",
    "mpl.rcParams['pdf.fonttype'] = 42\n",
    "mpl.rcParams['ps.fonttype'] = 42\n",
    "\n",
    "# Serif?\n",
    "mpl.rcParams['font.family'] = 'serif'\n",
    "\n",
    "# Lines\n",
    "mpl.rcParams['lines.linewidth'] = 1.0\n",
    "\n",
    "# Ticks\n",
    "mpl.rcParams['xtick.major.size'] = 2\n",
    "mpl.rcParams['xtick.minor.size'] = 0\n",
    "mpl.rcParams['ytick.major.size'] = 2\n",
    "mpl.rcParams['ytick.minor.size'] = 0\n",
    "\n",
    "# Font Sizes\n",
    "mpl.rcParams['xtick.labelsize']  = 'small'\n",
    "mpl.rcParams['ytick.labelsize']  = 'small'\n",
    "mpl.rcParams['axes.labelsize']   = 'small'\n",
    "mpl.rcParams['axes.titlesize']   = 'small'\n",
    "\n",
    "# Legend\n",
    "mpl.rcParams['legend.handlelength']  = 1.0\n",
    "mpl.rcParams['legend.frameon']       = False\n",
    "mpl.rcParams['legend.numpoints']     = 1\n",
    "mpl.rcParams['legend.scatterpoints'] = 1\n",
    "mpl.rcParams['legend.fontsize']      = 'small'"
   ]
  },
  {
   "cell_type": "markdown",
   "metadata": {},
   "source": [
    "# Load  Data\n",
    "\n",
    "The data is already processed into Pandas dataframes, which are stored wrapped in HDF5 files. So we simply load those dataframes back from these files."
   ]
  },
  {
   "cell_type": "markdown",
   "metadata": {},
   "source": [
    "## Traffic/Weather"
   ]
  },
  {
   "cell_type": "code",
   "execution_count": 5,
   "metadata": {
    "collapsed": true
   },
   "outputs": [],
   "source": [
    "# Location of Traffic Data\n",
    "basedir = '/Users/volker/Work_ST/Companion/Data/DE/TrafficWeather_Merged'\n",
    "# fname = \"%s/TrafficWeather_2015_01_04.pddf.hdf5\" % basedir\n",
    "fname = \"%s/TrafficWeather_2015_01.pddf.hdf5\" % basedir\n",
    "\n",
    "# Load Traffic Data\n",
    "df_traffic = pd.read_hdf(fname, 'df')\n",
    "\n",
    "# Invalid Data Replacements\n",
    "df_traffic[df_traffic.precipitation_amount<0.0] = np.nan\n",
    "df_traffic[df_traffic.temperature<-100.0] = np.nan\n",
    "df_traffic[df_traffic.wind_speed<-1.0] = np.nan\n",
    "df_traffic[df_traffic.relative_humidity<-100.0] = np.nan\n",
    "\n",
    "# Kick Out Invalid Data\n",
    "df_traffic = df_traffic[~np.isnan(df_traffic.temperature_closest_weather_station_id)]\n",
    "\n",
    "# Only Keep Subset of Stations (Stations with 2.0km of Incident)\n",
    "# df_traffic = df_traffic[df_traffic.temperature_closest_weather_station_dxdy<2.0]"
   ]
  },
  {
   "cell_type": "markdown",
   "metadata": {},
   "source": [
    "## Weather"
   ]
  },
  {
   "cell_type": "code",
   "execution_count": 6,
   "metadata": {
    "collapsed": true
   },
   "outputs": [],
   "source": [
    "# Location of Weather Data\n",
    "basedir = '/Users/volker/Work_ST/Companion/Data/DE/WeatherReduced'\n",
    "\n",
    "# Load Temperature Data, Remove Bad Fields\n",
    "df_obs_temp = pd.read_hdf(\"%s/weather_obs_temperature.pddf.hdf5\" % basedir, 'df')\n",
    "df_obs_temp[df_obs_temp.temperature<-100.0] = np.nan\n",
    "df_obs_temp[df_obs_temp.relative_humidity<-100.0] = np.nan\n",
    "\n",
    "# Rain Data\n",
    "df_obs_rain = pd.read_hdf(\"%s/weather_obs_precipitation.pddf.hdf5\" % basedir, 'df')\n",
    "df_obs_rain[df_obs_rain.precipitation_amount<-0.01] = np.nan\n",
    "\n",
    "# Filter Day/Month\n",
    "df_obs_temp = \\\n",
    "    df_obs_temp[(df_obs_temp.timestamp  < pd.to_datetime(\"2015020100\", format=\"%Y%m%d%H\")) & \\\n",
    "                (df_obs_temp.timestamp >= pd.to_datetime(\"2015010100\", format=\"%Y%m%d%H\"))]\n",
    "\n",
    "df_obs_rain = \\\n",
    "    df_obs_rain[(df_obs_rain.timestamp  < pd.to_datetime(\"2015020100\", format=\"%Y%m%d%H\")) & \\\n",
    "                (df_obs_rain.timestamp >= pd.to_datetime(\"2015010100\", format=\"%Y%m%d%H\"))]"
   ]
  },
  {
   "cell_type": "markdown",
   "metadata": {},
   "source": [
    "# Basic Pandas Foo\n",
    "\n",
    "Let's do some basic viewing and slicing of Pandas dataframes."
   ]
  },
  {
   "cell_type": "code",
   "execution_count": 7,
   "metadata": {
    "collapsed": false
   },
   "outputs": [
    {
     "data": {
      "text/plain": [
       "Index([u'situation_id', u'event_type', u'event_code', u'location_lat_decimal',\n",
       "       u'timestamp', u'location_lon_decimal', u'average_speed',\n",
       "       u'location_openlr_base64', u'timestamp_seconds',\n",
       "       u'precipitation_closest_weather_station_id',\n",
       "       u'precipitation_closest_weather_station_dxdy',\n",
       "       u'temperature_closest_weather_station_id',\n",
       "       u'temperature_closest_weather_station_dxdy',\n",
       "       u'wind_closest_weather_station_id',\n",
       "       u'wind_closest_weather_station_dxdy', u'precipitation_dt',\n",
       "       u'precipitation', u'precipitation_amount', u'precipitation_kind',\n",
       "       u'temperature_dt', u'temperature', u'relative_humidity', u'wind_dt',\n",
       "       u'wind_speed', u'wind_direction'],\n",
       "      dtype='object')"
      ]
     },
     "execution_count": 7,
     "metadata": {},
     "output_type": "execute_result"
    }
   ],
   "source": [
    "# Indexing Pandas dataframes works like accessing dicts, i.e. by keys\n",
    "df_traffic.keys()"
   ]
  },
  {
   "cell_type": "code",
   "execution_count": 8,
   "metadata": {
    "collapsed": false
   },
   "outputs": [
    {
     "data": {
      "text/html": [
       "<div>\n",
       "<table border=\"1\" class=\"dataframe\">\n",
       "  <thead>\n",
       "    <tr style=\"text-align: right;\">\n",
       "      <th></th>\n",
       "      <th>0</th>\n",
       "    </tr>\n",
       "  </thead>\n",
       "  <tbody>\n",
       "    <tr>\n",
       "      <th>situation_id</th>\n",
       "      <td>TTI-c5bc2b46-ced0-49a7-bd63-2435fbd264b1-TTL13...</td>\n",
       "    </tr>\n",
       "    <tr>\n",
       "      <th>event_type</th>\n",
       "      <td>queueingTraffic</td>\n",
       "    </tr>\n",
       "    <tr>\n",
       "      <th>event_code</th>\n",
       "      <td>108</td>\n",
       "    </tr>\n",
       "    <tr>\n",
       "      <th>location_lat_decimal</th>\n",
       "      <td>47.692</td>\n",
       "    </tr>\n",
       "    <tr>\n",
       "      <th>timestamp</th>\n",
       "      <td>2015-01-02 11:11:28</td>\n",
       "    </tr>\n",
       "    <tr>\n",
       "      <th>location_lon_decimal</th>\n",
       "      <td>9.83313</td>\n",
       "    </tr>\n",
       "    <tr>\n",
       "      <th>average_speed</th>\n",
       "      <td>7</td>\n",
       "    </tr>\n",
       "    <tr>\n",
       "      <th>location_openlr_base64</th>\n",
       "      <td>Cwb+EiHqRyOQBP///xcjAw==</td>\n",
       "    </tr>\n",
       "    <tr>\n",
       "      <th>timestamp_seconds</th>\n",
       "      <td>1.4202e+09</td>\n",
       "    </tr>\n",
       "    <tr>\n",
       "      <th>precipitation_closest_weather_station_id</th>\n",
       "      <td>7382</td>\n",
       "    </tr>\n",
       "    <tr>\n",
       "      <th>precipitation_closest_weather_station_dxdy</th>\n",
       "      <td>3.13045</td>\n",
       "    </tr>\n",
       "    <tr>\n",
       "      <th>temperature_closest_weather_station_id</th>\n",
       "      <td>4704</td>\n",
       "    </tr>\n",
       "    <tr>\n",
       "      <th>temperature_closest_weather_station_dxdy</th>\n",
       "      <td>14.4946</td>\n",
       "    </tr>\n",
       "    <tr>\n",
       "      <th>wind_closest_weather_station_id</th>\n",
       "      <td>7403</td>\n",
       "    </tr>\n",
       "    <tr>\n",
       "      <th>wind_closest_weather_station_dxdy</th>\n",
       "      <td>18.8269</td>\n",
       "    </tr>\n",
       "    <tr>\n",
       "      <th>precipitation_dt</th>\n",
       "      <td>-688</td>\n",
       "    </tr>\n",
       "    <tr>\n",
       "      <th>precipitation</th>\n",
       "      <td>False</td>\n",
       "    </tr>\n",
       "    <tr>\n",
       "      <th>precipitation_amount</th>\n",
       "      <td>0</td>\n",
       "    </tr>\n",
       "    <tr>\n",
       "      <th>precipitation_kind</th>\n",
       "      <td>-999</td>\n",
       "    </tr>\n",
       "    <tr>\n",
       "      <th>temperature_dt</th>\n",
       "      <td>-688</td>\n",
       "    </tr>\n",
       "    <tr>\n",
       "      <th>temperature</th>\n",
       "      <td>-0.3</td>\n",
       "    </tr>\n",
       "    <tr>\n",
       "      <th>relative_humidity</th>\n",
       "      <td>100</td>\n",
       "    </tr>\n",
       "    <tr>\n",
       "      <th>wind_dt</th>\n",
       "      <td>-688</td>\n",
       "    </tr>\n",
       "    <tr>\n",
       "      <th>wind_speed</th>\n",
       "      <td>4.5</td>\n",
       "    </tr>\n",
       "    <tr>\n",
       "      <th>wind_direction</th>\n",
       "      <td>NaN</td>\n",
       "    </tr>\n",
       "  </tbody>\n",
       "</table>\n",
       "</div>"
      ],
      "text/plain": [
       "                                                                                            0\n",
       "situation_id                                TTI-c5bc2b46-ced0-49a7-bd63-2435fbd264b1-TTL13...\n",
       "event_type                                                                    queueingTraffic\n",
       "event_code                                                                                108\n",
       "location_lat_decimal                                                                   47.692\n",
       "timestamp                                                                 2015-01-02 11:11:28\n",
       "location_lon_decimal                                                                  9.83313\n",
       "average_speed                                                                               7\n",
       "location_openlr_base64                                               Cwb+EiHqRyOQBP///xcjAw==\n",
       "timestamp_seconds                                                                  1.4202e+09\n",
       "precipitation_closest_weather_station_id                                                 7382\n",
       "precipitation_closest_weather_station_dxdy                                            3.13045\n",
       "temperature_closest_weather_station_id                                                   4704\n",
       "temperature_closest_weather_station_dxdy                                              14.4946\n",
       "wind_closest_weather_station_id                                                          7403\n",
       "wind_closest_weather_station_dxdy                                                     18.8269\n",
       "precipitation_dt                                                                         -688\n",
       "precipitation                                                                           False\n",
       "precipitation_amount                                                                        0\n",
       "precipitation_kind                                                                       -999\n",
       "temperature_dt                                                                           -688\n",
       "temperature                                                                              -0.3\n",
       "relative_humidity                                                                         100\n",
       "wind_dt                                                                                  -688\n",
       "wind_speed                                                                                4.5\n",
       "wind_direction                                                                            NaN"
      ]
     },
     "execution_count": 8,
     "metadata": {},
     "output_type": "execute_result"
    }
   ],
   "source": [
    "# Shows the first row of the data\n",
    "# .T transposes\n",
    "df_traffic.head(1).T"
   ]
  },
  {
   "cell_type": "code",
   "execution_count": 9,
   "metadata": {
    "collapsed": false
   },
   "outputs": [
    {
     "data": {
      "text/html": [
       "<div>\n",
       "<table border=\"1\" class=\"dataframe\">\n",
       "  <thead>\n",
       "    <tr style=\"text-align: right;\">\n",
       "      <th></th>\n",
       "      <th>event_type</th>\n",
       "      <th>timestamp</th>\n",
       "      <th>temperature</th>\n",
       "      <th>relative_humidity</th>\n",
       "      <th>temperature_closest_weather_station_dxdy</th>\n",
       "    </tr>\n",
       "  </thead>\n",
       "  <tbody>\n",
       "    <tr>\n",
       "      <th>0</th>\n",
       "      <td>queueingTraffic</td>\n",
       "      <td>2015-01-02 11:11:28</td>\n",
       "      <td>-0.3</td>\n",
       "      <td>100.0</td>\n",
       "      <td>14.494565</td>\n",
       "    </tr>\n",
       "    <tr>\n",
       "      <th>1</th>\n",
       "      <td>stationaryTraffic</td>\n",
       "      <td>2015-01-02 11:12:28</td>\n",
       "      <td>6.2</td>\n",
       "      <td>78.0</td>\n",
       "      <td>10.477398</td>\n",
       "    </tr>\n",
       "    <tr>\n",
       "      <th>2</th>\n",
       "      <td>stationaryTraffic</td>\n",
       "      <td>2015-01-02 11:11:28</td>\n",
       "      <td>8.1</td>\n",
       "      <td>72.0</td>\n",
       "      <td>6.008940</td>\n",
       "    </tr>\n",
       "    <tr>\n",
       "      <th>3</th>\n",
       "      <td>queueingTraffic</td>\n",
       "      <td>2015-01-02 11:12:28</td>\n",
       "      <td>5.0</td>\n",
       "      <td>76.0</td>\n",
       "      <td>8.148218</td>\n",
       "    </tr>\n",
       "    <tr>\n",
       "      <th>4</th>\n",
       "      <td>queueingTraffic</td>\n",
       "      <td>2015-01-02 11:11:58</td>\n",
       "      <td>2.4</td>\n",
       "      <td>91.0</td>\n",
       "      <td>7.180590</td>\n",
       "    </tr>\n",
       "  </tbody>\n",
       "</table>\n",
       "</div>"
      ],
      "text/plain": [
       "          event_type           timestamp  temperature  relative_humidity  \\\n",
       "0    queueingTraffic 2015-01-02 11:11:28         -0.3              100.0   \n",
       "1  stationaryTraffic 2015-01-02 11:12:28          6.2               78.0   \n",
       "2  stationaryTraffic 2015-01-02 11:11:28          8.1               72.0   \n",
       "3    queueingTraffic 2015-01-02 11:12:28          5.0               76.0   \n",
       "4    queueingTraffic 2015-01-02 11:11:58          2.4               91.0   \n",
       "\n",
       "   temperature_closest_weather_station_dxdy  \n",
       "0                                 14.494565  \n",
       "1                                 10.477398  \n",
       "2                                  6.008940  \n",
       "3                                  8.148218  \n",
       "4                                  7.180590  "
      ]
     },
     "execution_count": 9,
     "metadata": {},
     "output_type": "execute_result"
    }
   ],
   "source": [
    "# Shows only some of the columns\n",
    "# .head(5) shows the first 5 rows only\n",
    "df_traffic[['event_type', 'timestamp', 'temperature', \\\n",
    "            'relative_humidity', 'temperature_closest_weather_station_dxdy']].head(5)"
   ]
  },
  {
   "cell_type": "code",
   "execution_count": 10,
   "metadata": {
    "collapsed": false
   },
   "outputs": [
    {
     "data": {
      "text/html": [
       "<div>\n",
       "<table border=\"1\" class=\"dataframe\">\n",
       "  <thead>\n",
       "    <tr style=\"text-align: right;\">\n",
       "      <th></th>\n",
       "      <th>timestamp</th>\n",
       "      <th>relative_humidity</th>\n",
       "      <th>temperature</th>\n",
       "    </tr>\n",
       "  </thead>\n",
       "  <tbody>\n",
       "    <tr>\n",
       "      <th>1415</th>\n",
       "      <td>2015-01-02 08:53:10</td>\n",
       "      <td>95.0</td>\n",
       "      <td>-5.9</td>\n",
       "    </tr>\n",
       "    <tr>\n",
       "      <th>1236</th>\n",
       "      <td>2015-01-02 10:15:29</td>\n",
       "      <td>95.0</td>\n",
       "      <td>5.0</td>\n",
       "    </tr>\n",
       "    <tr>\n",
       "      <th>1269</th>\n",
       "      <td>2015-01-02 09:58:22</td>\n",
       "      <td>95.0</td>\n",
       "      <td>3.4</td>\n",
       "    </tr>\n",
       "    <tr>\n",
       "      <th>1253</th>\n",
       "      <td>2015-01-02 09:52:50</td>\n",
       "      <td>95.0</td>\n",
       "      <td>-2.7</td>\n",
       "    </tr>\n",
       "    <tr>\n",
       "      <th>1248</th>\n",
       "      <td>2015-01-02 10:16:59</td>\n",
       "      <td>95.0</td>\n",
       "      <td>7.0</td>\n",
       "    </tr>\n",
       "  </tbody>\n",
       "</table>\n",
       "</div>"
      ],
      "text/plain": [
       "               timestamp  relative_humidity  temperature\n",
       "1415 2015-01-02 08:53:10               95.0         -5.9\n",
       "1236 2015-01-02 10:15:29               95.0          5.0\n",
       "1269 2015-01-02 09:58:22               95.0          3.4\n",
       "1253 2015-01-02 09:52:50               95.0         -2.7\n",
       "1248 2015-01-02 10:16:59               95.0          7.0"
      ]
     },
     "execution_count": 10,
     "metadata": {},
     "output_type": "execute_result"
    }
   ],
   "source": [
    "# Filter by a humidity range (these give booleans, which we are used\n",
    "# to index the dataframe) -- much like in Numpy.\n",
    "# \n",
    "# We also store this into a new dataframe. \n",
    "df_tmp = df_traffic[(df_traffic.relative_humidity>90.0) & \\\n",
    "                    (df_traffic.relative_humidity<=95.0)].head(1000)\n",
    "\n",
    "# Keep only some columns\n",
    "df_tmp = df_tmp[['timestamp', 'relative_humidity', 'temperature']]\n",
    "\n",
    "# Sort by relative humidity (descending), then show only the first 5 rows\n",
    "df_tmp.sort_values(by='relative_humidity', ascending=False).head(5)"
   ]
  },
  {
   "cell_type": "code",
   "execution_count": 11,
   "metadata": {
    "collapsed": false
   },
   "outputs": [
    {
     "data": {
      "text/html": [
       "<div>\n",
       "<table border=\"1\" class=\"dataframe\">\n",
       "  <thead>\n",
       "    <tr style=\"text-align: right;\">\n",
       "      <th></th>\n",
       "      <th>relative_humidity</th>\n",
       "      <th>temperature</th>\n",
       "    </tr>\n",
       "  </thead>\n",
       "  <tbody>\n",
       "    <tr>\n",
       "      <th>count</th>\n",
       "      <td>1000.000</td>\n",
       "      <td>1000.000000</td>\n",
       "    </tr>\n",
       "    <tr>\n",
       "      <th>mean</th>\n",
       "      <td>93.075</td>\n",
       "      <td>2.446000</td>\n",
       "    </tr>\n",
       "    <tr>\n",
       "      <th>std</th>\n",
       "      <td>1.351</td>\n",
       "      <td>3.434784</td>\n",
       "    </tr>\n",
       "    <tr>\n",
       "      <th>min</th>\n",
       "      <td>91.000</td>\n",
       "      <td>-11.100000</td>\n",
       "    </tr>\n",
       "    <tr>\n",
       "      <th>25%</th>\n",
       "      <td>92.000</td>\n",
       "      <td>0.700000</td>\n",
       "    </tr>\n",
       "    <tr>\n",
       "      <th>50%</th>\n",
       "      <td>93.000</td>\n",
       "      <td>2.500000</td>\n",
       "    </tr>\n",
       "    <tr>\n",
       "      <th>75%</th>\n",
       "      <td>94.000</td>\n",
       "      <td>3.900000</td>\n",
       "    </tr>\n",
       "    <tr>\n",
       "      <th>max</th>\n",
       "      <td>95.000</td>\n",
       "      <td>8.500000</td>\n",
       "    </tr>\n",
       "  </tbody>\n",
       "</table>\n",
       "</div>"
      ],
      "text/plain": [
       "       relative_humidity  temperature\n",
       "count           1000.000  1000.000000\n",
       "mean              93.075     2.446000\n",
       "std                1.351     3.434784\n",
       "min               91.000   -11.100000\n",
       "25%               92.000     0.700000\n",
       "50%               93.000     2.500000\n",
       "75%               94.000     3.900000\n",
       "max               95.000     8.500000"
      ]
     },
     "execution_count": 11,
     "metadata": {},
     "output_type": "execute_result"
    }
   ],
   "source": [
    "# .describe() computes some basic stats\n",
    "df_tmp.describe()"
   ]
  },
  {
   "cell_type": "code",
   "execution_count": 12,
   "metadata": {
    "collapsed": false
   },
   "outputs": [],
   "source": [
    "# You can .apply a function to a dataframe. This is usually faster than looping.\n",
    "df_tmp['hello'] = df_tmp.apply(lambda x: x['relative_humidity'] + x['temperature'], axis=1)"
   ]
  },
  {
   "cell_type": "code",
   "execution_count": 13,
   "metadata": {
    "collapsed": false
   },
   "outputs": [
    {
     "data": {
      "text/html": [
       "<div>\n",
       "<table border=\"1\" class=\"dataframe\">\n",
       "  <thead>\n",
       "    <tr style=\"text-align: right;\">\n",
       "      <th></th>\n",
       "      <th>timestamp</th>\n",
       "      <th>relative_humidity</th>\n",
       "      <th>temperature</th>\n",
       "      <th>hello</th>\n",
       "    </tr>\n",
       "  </thead>\n",
       "  <tbody>\n",
       "    <tr>\n",
       "      <th>4</th>\n",
       "      <td>2015-01-02 11:11:58</td>\n",
       "      <td>91.0</td>\n",
       "      <td>2.4</td>\n",
       "      <td>93.4</td>\n",
       "    </tr>\n",
       "    <tr>\n",
       "      <th>5</th>\n",
       "      <td>2015-01-02 11:11:28</td>\n",
       "      <td>93.0</td>\n",
       "      <td>6.7</td>\n",
       "      <td>99.7</td>\n",
       "    </tr>\n",
       "    <tr>\n",
       "      <th>17</th>\n",
       "      <td>2015-01-02 11:12:28</td>\n",
       "      <td>95.0</td>\n",
       "      <td>2.8</td>\n",
       "      <td>97.8</td>\n",
       "    </tr>\n",
       "    <tr>\n",
       "      <th>18</th>\n",
       "      <td>2015-01-02 11:12:28</td>\n",
       "      <td>93.0</td>\n",
       "      <td>4.6</td>\n",
       "      <td>97.6</td>\n",
       "    </tr>\n",
       "    <tr>\n",
       "      <th>22</th>\n",
       "      <td>2015-01-02 11:12:28</td>\n",
       "      <td>93.0</td>\n",
       "      <td>0.4</td>\n",
       "      <td>93.4</td>\n",
       "    </tr>\n",
       "  </tbody>\n",
       "</table>\n",
       "</div>"
      ],
      "text/plain": [
       "             timestamp  relative_humidity  temperature  hello\n",
       "4  2015-01-02 11:11:58               91.0          2.4   93.4\n",
       "5  2015-01-02 11:11:28               93.0          6.7   99.7\n",
       "17 2015-01-02 11:12:28               95.0          2.8   97.8\n",
       "18 2015-01-02 11:12:28               93.0          4.6   97.6\n",
       "22 2015-01-02 11:12:28               93.0          0.4   93.4"
      ]
     },
     "execution_count": 13,
     "metadata": {},
     "output_type": "execute_result"
    }
   ],
   "source": [
    "# Let's what we've done\n",
    "df_tmp.head(5)"
   ]
  },
  {
   "cell_type": "markdown",
   "metadata": {},
   "source": [
    "# Show Histgrams of Weather vs Weather@Incidents"
   ]
  },
  {
   "cell_type": "markdown",
   "metadata": {},
   "source": [
    "Let's have a look at histograms of weather conditions for all weather, for the weather at all incidents, as well as for the weather at incidents that only have a measurement station within some prescribed distance."
   ]
  },
  {
   "cell_type": "markdown",
   "metadata": {},
   "source": [
    "## Relative Humidity"
   ]
  },
  {
   "cell_type": "code",
   "execution_count": 14,
   "metadata": {
    "collapsed": true
   },
   "outputs": [],
   "source": [
    "# Build Histogram\n",
    "data_list = \\\n",
    "    [ df_obs_temp.relative_humidity, \\\n",
    "      df_traffic.relative_humidity, \\\n",
    "      df_traffic[df_traffic.temperature_closest_weather_station_dxdy<1.0].relative_humidity, \\\n",
    "      df_traffic[df_traffic.temperature_closest_weather_station_dxdy<0.5].relative_humidity, \\\n",
    "      df_traffic[df_traffic.temperature_closest_weather_station_dxdy<0.1].relative_humidity ]\n",
    "\n",
    "for idata, data_loc in enumerate(data_list):\n",
    "    data_list[idata] = data_loc[~np.isnan(data_loc)]\n",
    "\n",
    "bin_edges = np.linspace(0,100,64)\n",
    "bin_cents = (bin_edges[1:] + bin_edges[:-1]) / 2.0\n",
    "\n",
    "hist_list = []\n",
    "for idata, data_loc in enumerate(data_list):\n",
    "    hist_loc, _ = np.histogram(data_loc, bins=bin_edges)\n",
    "    hist_list.append(hist_loc)"
   ]
  },
  {
   "cell_type": "code",
   "execution_count": 15,
   "metadata": {
    "collapsed": false
   },
   "outputs": [
    {
     "data": {
      "image/png": "[encoded data removed]",
      "text/plain": [
       "<matplotlib.figure.Figure at 0x2124b0410>"
      ]
     },
     "metadata": {},
     "output_type": "display_data"
    }
   ],
   "source": [
    "# Text\n",
    "tags = [ 'All Weather', 'Incident Weather', \\\n",
    "         'Incident Weather, Stations < 1.0 km', \\\n",
    "         'Incident Weather, Stations < 0.5 km', \\\n",
    "         'Incident Weather, Stations < 0.1 km']\n",
    "\n",
    "# Setup Figure\n",
    "fig, axarr = plt.subplots(5,1) # <<< 5 vertical panels, 1 horizonal panel\n",
    "fig.set_size_inches(4,6)\n",
    "\n",
    "# Loo Papnels\n",
    "for iax in [ 0, 1, 2, 3, 4 ]:\n",
    "    axarr[iax].bar(bin_cents, \\\n",
    "                   hist_list[iax], \\\n",
    "                   width=0.8*(np.diff(bin_cents)[0]), \\\n",
    "                   facecolor=cycle_colours[iax], linewidth=0.0)\n",
    "    axarr[iax].text(0.05, 0.85, \"%s\" % tags[iax], \\\n",
    "                    ha='left', va='top', \\\n",
    "                    transform=axarr[iax].transAxes, \\\n",
    "                    fontsize='small', \\\n",
    "                    color='#555555')\n",
    "\n",
    "# Set Scale (lin/log) and Limits\n",
    "for ax in axarr:\n",
    "    ax.set_yscale('log')\n",
    "    ax.set_xlim([-5,105])\n",
    "    ax.set_ylim([0.1,1.0e6])\n",
    "\n",
    "# Remove Spines (Left/Top/Right)\n",
    "for ax in axarr.flatten():\n",
    "    ax.spines['right'].set_visible(False)\n",
    "#     ax.spines['left'].set_visible(False)\n",
    "    ax.spines['top'].set_visible(False)\n",
    "    ax.yaxis.set_ticks_position('left')\n",
    "#     ax.set_yticks([])\n",
    "    ax.xaxis.set_ticks_position('bottom')\n",
    "    ax.set_xticks([0,20,40,60,80,100])\n",
    "\n",
    "# Remove and Flush Ticks\n",
    "for ax in axarr.flatten()[:-1]:\n",
    "    ax.set_yticks([])\n",
    "    ax.spines['left'].set_visible(False)\n",
    "    ax.set_xticklabels(['','','','', '',''])\n",
    "\n",
    "# Set Labels, Bottom Panel\n",
    "axarr[-1].set_xlabel('Relative Humidity (Percent)')\n",
    "axarr[-1].set_yticks([1,100,10000])\n",
    "axarr[-1].set_yticklabels(['1','100','10000'])\n",
    "    \n",
    "# Adjust Horizontal Spacing\n",
    "fig.subplots_adjust(hspace=0.3)\n",
    "\n",
    "# Save Figure\n",
    "# fig.savefig('weather_filtered_by_station_distance_humidity.png')"
   ]
  },
  {
   "cell_type": "markdown",
   "metadata": {},
   "source": [
    "## Temperature"
   ]
  },
  {
   "cell_type": "code",
   "execution_count": 16,
   "metadata": {
    "collapsed": true
   },
   "outputs": [],
   "source": [
    "# Build Histogram\n",
    "data_list = \\\n",
    "    [ df_obs_temp.temperature, \\\n",
    "      df_traffic.temperature, \\\n",
    "      df_traffic[df_traffic.temperature_closest_weather_station_dxdy<1.0].temperature, \\\n",
    "      df_traffic[df_traffic.temperature_closest_weather_station_dxdy<0.5].temperature, \\\n",
    "      df_traffic[df_traffic.temperature_closest_weather_station_dxdy<0.1].temperature ]\n",
    "\n",
    "for idata, data_loc in enumerate(data_list):\n",
    "    data_list[idata] = data_loc[~np.isnan(data_loc)]\n",
    "\n",
    "bin_edges = np.linspace(-20,30,64)\n",
    "bin_cents = (bin_edges[1:] + bin_edges[:-1]) / 2.0\n",
    "\n",
    "hist_list = []\n",
    "for idata, data_loc in enumerate(data_list):\n",
    "    hist_loc, _ = np.histogram(data_loc, bins=bin_edges)\n",
    "    hist_list.append(hist_loc)"
   ]
  },
  {
   "cell_type": "code",
   "execution_count": 17,
   "metadata": {
    "collapsed": false
   },
   "outputs": [
    {
     "data": {
      "image/png": "[encoded data removed]",
      "text/plain": [
       "<matplotlib.figure.Figure at 0x13702e750>"
      ]
     },
     "metadata": {},
     "output_type": "display_data"
    }
   ],
   "source": [
    "# Text\n",
    "tags = [ 'All Weather', 'Incident Weather', \\\n",
    "         'Incident Weather, Stations < 1.0 km', \\\n",
    "         'Incident Weather, Stations < 0.5 km', \\\n",
    "         'Incident Weather, Stations < 0.1 km']\n",
    "\n",
    "fig, axarr = plt.subplots(5,1)\n",
    "fig.set_size_inches(4,6)\n",
    "\n",
    "for iax in [ 0, 1, 2, 3, 4 ]:\n",
    "#     axarr[iax].bar(bin_cents, \\\n",
    "#                    hist_list[iax] / float(hist_list[iax].max()), \\\n",
    "#                    width=0.8*(np.diff(bin_cents)[0]), \\\n",
    "#                    facecolor=cycle_colours[iax], linewidth=0.0)\n",
    "    axarr[iax].bar(bin_cents, \\\n",
    "                   hist_list[iax], \\\n",
    "                   width=0.8*(np.diff(bin_cents)[0]), \\\n",
    "                   facecolor=cycle_colours[iax], linewidth=0.0)\n",
    "    axarr[iax].text(0.05, 0.85, \"%s\" % tags[iax], \\\n",
    "                    ha='left', va='top', \\\n",
    "                    transform=axarr[iax].transAxes, \\\n",
    "                    fontsize='small', \\\n",
    "                    color='#555555')\n",
    "\n",
    "for ax in axarr:\n",
    "    ax.set_yscale('log')\n",
    "    ax.set_xlim([-25,35])\n",
    "#     ax.set_ylim([1.0e-4,1.0e1])\n",
    "    ax.set_ylim([0.1,1.0e6])\n",
    "\n",
    "# Remove Spines (Left/Top/Right)\n",
    "for ax in axarr.flatten():\n",
    "    ax.spines['right'].set_visible(False)\n",
    "#     ax.spines['left'].set_visible(False)\n",
    "    ax.spines['top'].set_visible(False)\n",
    "    ax.yaxis.set_ticks_position('left')\n",
    "#     ax.set_yticks([])\n",
    "    ax.xaxis.set_ticks_position('bottom')\n",
    "#     ax.set_xticks([20,40,60,80])\n",
    "    \n",
    "for ax in axarr.flatten()[:-1]:\n",
    "    ax.set_yticks([])\n",
    "    ax.spines['left'].set_visible(False)\n",
    "    ax.set_xticklabels(['','','',''])\n",
    "\n",
    "axarr[-1].set_xlabel('Temperature (Degree)')\n",
    "axarr[-1].set_yticks([1,100,10000])\n",
    "axarr[-1].set_yticklabels(['1','100','10000'])\n",
    "    \n",
    "fig.subplots_adjust(hspace=0.3)"
   ]
  },
  {
   "cell_type": "markdown",
   "metadata": {},
   "source": [
    "## Precipitation"
   ]
  },
  {
   "cell_type": "code",
   "execution_count": 18,
   "metadata": {
    "collapsed": false
   },
   "outputs": [],
   "source": [
    "# Build Histogram\n",
    "data_list = \\\n",
    "    [ df_obs_rain.precipitation_amount, \\\n",
    "      df_traffic.precipitation_amount, \\\n",
    "      df_traffic[df_traffic.precipitation_closest_weather_station_dxdy<1.0].precipitation_amount, \\\n",
    "      df_traffic[df_traffic.precipitation_closest_weather_station_dxdy<0.5].precipitation_amount, \\\n",
    "      df_traffic[df_traffic.precipitation_closest_weather_station_dxdy<0.1].precipitation_amount ]\n",
    "\n",
    "for idata, data_loc in enumerate(data_list):\n",
    "    data_list[idata] = data_loc[~np.isnan(data_loc)]\n",
    "\n",
    "bin_edges = np.linspace(-5,15,16)\n",
    "bin_cents = (bin_edges[1:] + bin_edges[:-1]) / 2.0\n",
    "\n",
    "hist_list = []\n",
    "for idata, data_loc in enumerate(data_list):\n",
    "    hist_loc, _ = np.histogram(data_loc, bins=bin_edges)\n",
    "    hist_list.append(hist_loc)"
   ]
  },
  {
   "cell_type": "code",
   "execution_count": 19,
   "metadata": {
    "collapsed": false
   },
   "outputs": [
    {
     "data": {
      "image/png": "[encoded data removed]",
      "text/plain": [
       "<matplotlib.figure.Figure at 0x11b05bf10>"
      ]
     },
     "metadata": {},
     "output_type": "display_data"
    }
   ],
   "source": [
    "# Text\n",
    "tags = [ 'All Weather', 'Incident Weather', \\\n",
    "         'Incident Weather, Stations < 1.0 km', \\\n",
    "         'Incident Weather, Stations < 0.5 km', \\\n",
    "         'Incident Weather, Stations < 0.1 km']\n",
    "\n",
    "fig, axarr = plt.subplots(5,1)\n",
    "fig.set_size_inches(4,6)\n",
    "\n",
    "for iax in [ 0, 1, 2, 3, 4 ]:\n",
    "    axarr[iax].bar(bin_cents, \\\n",
    "                   hist_list[iax], \\\n",
    "                   width=0.8*(np.diff(bin_cents)[0]), \\\n",
    "                   facecolor=cycle_colours[iax], linewidth=0.0)\n",
    "    axarr[iax].text(0.05, 0.85, \"%s\" % tags[iax], \\\n",
    "                    ha='left', va='top', \\\n",
    "                    transform=axarr[iax].transAxes, \\\n",
    "                    fontsize='small', \\\n",
    "                    color='#555555')\n",
    "\n",
    "for ax in axarr:\n",
    "    ax.set_yscale('log')\n",
    "    ax.set_xlim([-2,14])\n",
    "    ax.set_ylim([0.1,1.0e11])\n",
    "\n",
    "# Remove Spines (Left/Top/Right)\n",
    "for ax in axarr.flatten():\n",
    "    ax.spines['right'].set_visible(False)\n",
    "#     ax.spines['left'].set_visible(False)\n",
    "    ax.spines['top'].set_visible(False)\n",
    "    ax.yaxis.set_ticks_position('left')\n",
    "#     ax.set_yticks([])\n",
    "    ax.xaxis.set_ticks_position('bottom')\n",
    "    ax.set_xticks([0,4,8,12])\n",
    "    \n",
    "for ax in axarr.flatten()[:-1]:\n",
    "    ax.set_yticks([])\n",
    "    ax.spines['left'].set_visible(False)\n",
    "    ax.set_xticklabels(['','','',''])\n",
    "\n",
    "axarr[-1].set_xlabel('Precipitation (mm/hr)')\n",
    "axarr[-1].set_yticks([1,100,10000])\n",
    "axarr[-1].set_yticklabels(['1','100','10000'])\n",
    "    \n",
    "fig.subplots_adjust(hspace=0.3)"
   ]
  },
  {
   "cell_type": "markdown",
   "metadata": {},
   "source": [
    "# All Weather for Humidity Stations"
   ]
  },
  {
   "cell_type": "code",
   "execution_count": 20,
   "metadata": {
    "collapsed": true
   },
   "outputs": [],
   "source": [
    "# Now, let's check out the entire weather timeseries for these stations...\n",
    "temperature_stations = \\\n",
    "    df_traffic[df_traffic.temperature_closest_weather_station_dxdy<0.1].temperature_closest_weather_station_id.unique()\n",
    "temperature_stations = temperature_stations.astype(np.int64)\n",
    "\n",
    "# df_obs_temp[df_obs_temp.station_id.isin(temperature_stations)]"
   ]
  },
  {
   "cell_type": "code",
   "execution_count": 21,
   "metadata": {
    "collapsed": false
   },
   "outputs": [],
   "source": [
    "# Build Histogram\n",
    "data_list = \\\n",
    "    [ df_obs_temp.relative_humidity, \\\n",
    "      df_traffic[df_traffic.temperature_closest_weather_station_dxdy<0.1].relative_humidity, \\\n",
    "      df_obs_temp[df_obs_temp.station_id.isin(temperature_stations)].relative_humidity ]\n",
    "\n",
    "for idata, data_loc in enumerate(data_list):\n",
    "    data_list[idata] = data_loc[~np.isnan(data_loc)]\n",
    "\n",
    "bin_edges = np.linspace(0,100,64)\n",
    "bin_cents = (bin_edges[1:] + bin_edges[:-1]) / 2.0\n",
    "\n",
    "hist_list = []\n",
    "for idata, data_loc in enumerate(data_list):\n",
    "    hist_loc, _ = np.histogram(data_loc, bins=bin_edges)\n",
    "    hist_list.append(hist_loc)"
   ]
  },
  {
   "cell_type": "code",
   "execution_count": 22,
   "metadata": {
    "collapsed": false
   },
   "outputs": [
    {
     "data": {
      "image/png": "[encoded data removed]",
      "text/plain": [
       "<matplotlib.figure.Figure at 0x1367536d0>"
      ]
     },
     "metadata": {},
     "output_type": "display_data"
    }
   ],
   "source": [
    "# Text\n",
    "tags = [ 'All Weather', \\\n",
    "         'Incident Weather, Stations < 0.1 km', \\\n",
    "         'All Weather, Incident Stations']\n",
    "\n",
    "fig, axarr = plt.subplots(3,1)\n",
    "fig.set_size_inches(4,6)\n",
    "\n",
    "icolor = [ 0, 4, 5 ]\n",
    "for iax in [ 0, 1, 2 ]:\n",
    "    axarr[iax].bar(bin_cents, \\\n",
    "                   hist_list[iax], \\\n",
    "                   width=0.8*(np.diff(bin_cents)[0]), \\\n",
    "                   facecolor=cycle_colours[icolor[iax]], linewidth=0.0)\n",
    "    axarr[iax].text(0.05, 0.85, \"%s\" % tags[iax], \\\n",
    "                    ha='left', va='top', \\\n",
    "                    transform=axarr[iax].transAxes, \\\n",
    "                    fontsize='small', \\\n",
    "                    color='#555555')\n",
    "\n",
    "# Rescale Axis, Set Limits\n",
    "for ax in axarr:\n",
    "    ax.set_yscale('log')\n",
    "    ax.set_xlim([-5,105])\n",
    "#     ax.set_ylim([1.0e-4,1.0e1])\n",
    "    ax.set_ylim([0.1,1.0e6])\n",
    "\n",
    "# Remove Spines (Left/Top/Right)\n",
    "for ax in axarr.flatten():\n",
    "    ax.spines['right'].set_visible(False)\n",
    "#     ax.spines['left'].set_visible(False)\n",
    "    ax.spines['top'].set_visible(False)\n",
    "    ax.yaxis.set_ticks_position('left')\n",
    "#     ax.set_yticks([])\n",
    "    ax.xaxis.set_ticks_position('bottom')\n",
    "    ax.set_xticks([0,20,40,60,80,100])\n",
    "    \n",
    "for ax in axarr.flatten()[:-1]:\n",
    "    ax.set_yticks([])\n",
    "    ax.spines['left'].set_visible(False)\n",
    "    ax.set_xticklabels(['','','','','',''])\n",
    "\n",
    "# Labels and Ticks\n",
    "axarr[-1].set_xlabel('Relative Humidity (Percent)')\n",
    "axarr[-1].set_yticks([1,100,10000])\n",
    "axarr[-1].set_yticklabels(['1','100','10000'])\n",
    "    \n",
    "# Interplot Spacing\n",
    "fig.subplots_adjust(hspace=0.3)\n",
    "\n",
    "# fig.savefig('weather_only_for_stations_used_by_traffic.png')"
   ]
  },
  {
   "cell_type": "code",
   "execution_count": null,
   "metadata": {
    "collapsed": true
   },
   "outputs": [],
   "source": []
  }
 ],
 "metadata": {
  "kernelspec": {
   "display_name": "Python [default]",
   "language": "python",
   "name": "python2"
  },
  "language_info": {
   "codemirror_mode": {
    "name": "ipython",
    "version": 2
   },
   "file_extension": ".py",
   "mimetype": "text/x-python",
   "name": "python",
   "nbconvert_exporter": "python",
   "pygments_lexer": "ipython2",
   "version": "2.7.12"
  }
 },
 "nbformat": 4,
 "nbformat_minor": 1
}
