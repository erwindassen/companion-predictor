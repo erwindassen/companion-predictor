{
 "cells": [
  {
   "cell_type": "markdown",
   "metadata": {
    "collapsed": true
   },
   "source": [
    "# Companion data preprocessing"
   ]
  },
  {
   "cell_type": "markdown",
   "metadata": {},
   "source": [
    "This notebook is a recipe for taking HDF inputs and transforming it into a format suitable to the ML module. Use it as a lab before writing dedicated functions to do that."
   ]
  },
  {
   "cell_type": "markdown",
   "metadata": {},
   "source": [
    "The following code stylizes the pandas DataFrame for better viewing."
   ]
  },
  {
   "cell_type": "code",
   "execution_count": 1,
   "metadata": {
    "collapsed": false
   },
   "outputs": [
    {
     "data": {
      "text/html": [
       "<style>body {\n",
       "    margin: 0;\n",
       "    font-family: Helvetica;\n",
       "}\n",
       "table.dataframe {\n",
       "    border-collapse: collapse;\n",
       "    border: none;\n",
       "}\n",
       "table.dataframe tr {\n",
       "    border: none;\n",
       "}\n",
       "table.dataframe td, table.dataframe th {\n",
       "    margin: 0;\n",
       "    border: 1px solid white;\n",
       "    padding-left: 0.25em;\n",
       "    padding-right: 0.25em;\n",
       "}\n",
       "table.dataframe th:not(:empty) {\n",
       "    background-color: #fec;\n",
       "    text-align: left;\n",
       "    font-weight: normal;\n",
       "}\n",
       "table.dataframe tr:nth-child(2) th:empty {\n",
       "    border-left: none;\n",
       "    border-right: 1px dashed #888;\n",
       "}\n",
       "table.dataframe td {\n",
       "    border: 2px solid #ccf;\n",
       "    background-color: #f4f4ff;\n",
       "}\n",
       "h3 {\n",
       "    color: white;\n",
       "    background-color: black;\n",
       "    padding: 0.5em;\n",
       "}\n",
       "</style>"
      ],
      "text/plain": [
       "<IPython.core.display.HTML object>"
      ]
     },
     "execution_count": 1,
     "metadata": {},
     "output_type": "execute_result"
    }
   ],
   "source": [
    "from IPython.core.display import HTML\n",
    "css = open('style-table.css').read() + open('style-notebook.css').read()\n",
    "HTML('<style>{}</style>'.format(css))"
   ]
  },
  {
   "cell_type": "markdown",
   "metadata": {},
   "source": [
    "## Playground"
   ]
  },
  {
   "cell_type": "markdown",
   "metadata": {},
   "source": [
    "#### The imports"
   ]
  },
  {
   "cell_type": "code",
   "execution_count": 2,
   "metadata": {
    "collapsed": false
   },
   "outputs": [],
   "source": [
    "import h5py\n",
    "import pandas as pd\n",
    "import geopandas as gpd\n",
    "import pathlib2 as pl"
   ]
  },
  {
   "cell_type": "markdown",
   "metadata": {},
   "source": [
    "#### Pandas options"
   ]
  },
  {
   "cell_type": "code",
   "execution_count": 3,
   "metadata": {
    "collapsed": false
   },
   "outputs": [],
   "source": [
    "pd.set_option('display.max_colwidth', 100)\n",
    "pd.set_option('display.max_rows', 200)\n",
    "pd.set_option('display.max_columns', 6)\n",
    "pd.set_option('display.width', 1000)"
   ]
  },
  {
   "cell_type": "markdown",
   "metadata": {},
   "source": [
    "#### The input and output paths"
   ]
  },
  {
   "cell_type": "code",
   "execution_count": 4,
   "metadata": {
    "collapsed": false
   },
   "outputs": [],
   "source": [
    "# INPUT_PATH = pl.Path(\"../hdf_data/\")\n",
    "INPUT_PATH = pl.Path(\"/Volumes/CompanionEx/Data/hdf/\")\n",
    "OUTPUT_PATH = pl.Path(\"../dfs_data/\")\n",
    "\n",
    "INPUT_PATH = INPUT_PATH.absolute()\n",
    "OUTPUT_PATH = OUTPUT_PATH.absolute()"
   ]
  },
  {
   "cell_type": "markdown",
   "metadata": {},
   "source": [
    "#### Selecting files"
   ]
  },
  {
   "cell_type": "code",
   "execution_count": 8,
   "metadata": {
    "collapsed": false
   },
   "outputs": [],
   "source": [
    "files = INPUT_PATH.glob('*.hdf')\n",
    "filepath = next(files)"
   ]
  },
  {
   "cell_type": "code",
   "execution_count": 9,
   "metadata": {
    "collapsed": false
   },
   "outputs": [
    {
     "name": "stdout",
     "output_type": "stream",
     "text": [
      "/Users/eltdassen/Programming/python/companion-predictor/nb/../hdf_data/TS_2016-01-12-06_2016-01-12-13.hdf\n"
     ]
    }
   ],
   "source": [
    "print(filepath)"
   ]
  },
  {
   "cell_type": "markdown",
   "metadata": {},
   "source": [
    "#### Inspecting a file"
   ]
  },
  {
   "cell_type": "code",
   "execution_count": 8,
   "metadata": {
    "collapsed": false
   },
   "outputs": [],
   "source": [
    "f = h5py.File(str(filepath), \"r\")"
   ]
  },
  {
   "cell_type": "code",
   "execution_count": 9,
   "metadata": {
    "collapsed": false
   },
   "outputs": [
    {
     "data": {
      "text/plain": [
       "[(u'generation_datetime', '2016-05-19-16'),\n",
       " (u'start_datetime', '2016-01-12-06'),\n",
       " (u'end_datetime', '2016-01-12-13')]"
      ]
     },
     "execution_count": 9,
     "metadata": {},
     "output_type": "execute_result"
    }
   ],
   "source": [
    "f.attrs.items()"
   ]
  },
  {
   "cell_type": "code",
   "execution_count": 10,
   "metadata": {
    "collapsed": false
   },
   "outputs": [],
   "source": [
    "measurement_sites = f.iteritems()"
   ]
  },
  {
   "cell_type": "code",
   "execution_count": 11,
   "metadata": {
    "collapsed": false
   },
   "outputs": [
    {
     "data": {
      "text/plain": [
       "<HDF5 group \"/RWS01_MONIBAS_0131hrl0035ra\" (5 members)>"
      ]
     },
     "execution_count": 11,
     "metadata": {},
     "output_type": "execute_result"
    }
   ],
   "source": [
    "_, site_group = next(measurement_sites)\n",
    "site_group"
   ]
  },
  {
   "cell_type": "code",
   "execution_count": 12,
   "metadata": {
    "collapsed": false
   },
   "outputs": [],
   "source": [
    "site_measurements = site_group.iteritems()"
   ]
  },
  {
   "cell_type": "code",
   "execution_count": 13,
   "metadata": {
    "collapsed": false
   },
   "outputs": [
    {
     "data": {
      "text/plain": [
       "<HDF5 dataset \"precipitation\": shape (8, 3), type \"<f8\">"
      ]
     },
     "execution_count": 13,
     "metadata": {},
     "output_type": "execute_result"
    }
   ],
   "source": [
    "_, measurement = next(site_measurements)\n",
    "measurement"
   ]
  },
  {
   "cell_type": "code",
   "execution_count": 14,
   "metadata": {
    "collapsed": false
   },
   "outputs": [
    {
     "data": {
      "text/plain": [
       "array([[  1.45257480e+09,   1.45257840e+09,   5.00000000e-01],\n",
       "       [  1.45257840e+09,   1.45258200e+09,   0.00000000e+00],\n",
       "       [  1.45258200e+09,   1.45258560e+09,   2.00000000e-01],\n",
       "       [  1.45258560e+09,   1.45258920e+09,   0.00000000e+00],\n",
       "       [  1.45258920e+09,   1.45259280e+09,   0.00000000e+00],\n",
       "       [  1.45259280e+09,   1.45259640e+09,   2.00000000e-01],\n",
       "       [  1.45259640e+09,   1.45260000e+09,   0.00000000e+00],\n",
       "       [  1.45260000e+09,   1.45260360e+09,   0.00000000e+00]])"
      ]
     },
     "execution_count": 14,
     "metadata": {},
     "output_type": "execute_result"
    }
   ],
   "source": [
    "measurement[:,:]"
   ]
  },
  {
   "cell_type": "code",
   "execution_count": 15,
   "metadata": {
    "collapsed": false
   },
   "outputs": [
    {
     "data": {
      "text/plain": [
       "[u'units']"
      ]
     },
     "execution_count": 15,
     "metadata": {},
     "output_type": "execute_result"
    }
   ],
   "source": [
    "measurement.attrs.keys()"
   ]
  },
  {
   "cell_type": "code",
   "execution_count": 16,
   "metadata": {
    "collapsed": false
   },
   "outputs": [
    {
     "data": {
      "text/plain": [
       "['timestamp_start', 'timestamp_end', 'mm/h']"
      ]
     },
     "execution_count": 16,
     "metadata": {},
     "output_type": "execute_result"
    }
   ],
   "source": [
    "units = measurement.attrs['units'].split(\", \")\n",
    "units"
   ]
  },
  {
   "cell_type": "code",
   "execution_count": 17,
   "metadata": {
    "collapsed": false
   },
   "outputs": [
    {
     "data": {
      "text/plain": [
       "array([[  1.45257480e+09,   1.45257840e+09,   5.00000000e-01],\n",
       "       [  1.45257840e+09,   1.45258200e+09,   0.00000000e+00],\n",
       "       [  1.45258200e+09,   1.45258560e+09,   2.00000000e-01],\n",
       "       [  1.45258560e+09,   1.45258920e+09,   0.00000000e+00],\n",
       "       [  1.45258920e+09,   1.45259280e+09,   0.00000000e+00],\n",
       "       [  1.45259280e+09,   1.45259640e+09,   2.00000000e-01],\n",
       "       [  1.45259640e+09,   1.45260000e+09,   0.00000000e+00],\n",
       "       [  1.45260000e+09,   1.45260360e+09,   0.00000000e+00]])"
      ]
     },
     "execution_count": 17,
     "metadata": {},
     "output_type": "execute_result"
    }
   ],
   "source": [
    "measurement.value"
   ]
  },
  {
   "cell_type": "markdown",
   "metadata": {},
   "source": [
    "#### Converting to a pandas DataFrame"
   ]
  },
  {
   "cell_type": "code",
   "execution_count": 18,
   "metadata": {
    "collapsed": false
   },
   "outputs": [],
   "source": [
    "df = pd.DataFrame(data=measurement.value, columns=units).drop(['timestamp_end'], axis=1)"
   ]
  },
  {
   "cell_type": "code",
   "execution_count": 19,
   "metadata": {
    "collapsed": false
   },
   "outputs": [
    {
     "data": {
      "text/html": [
       "<div>\n",
       "<table border=\"1\" class=\"dataframe\">\n",
       "  <thead>\n",
       "    <tr style=\"text-align: right;\">\n",
       "      <th></th>\n",
       "      <th>timestamp_start</th>\n",
       "      <th>mm/h</th>\n",
       "    </tr>\n",
       "  </thead>\n",
       "  <tbody>\n",
       "    <tr>\n",
       "      <th>0</th>\n",
       "      <td>1.452575e+09</td>\n",
       "      <td>0.5</td>\n",
       "    </tr>\n",
       "    <tr>\n",
       "      <th>1</th>\n",
       "      <td>1.452578e+09</td>\n",
       "      <td>0.0</td>\n",
       "    </tr>\n",
       "    <tr>\n",
       "      <th>2</th>\n",
       "      <td>1.452582e+09</td>\n",
       "      <td>0.2</td>\n",
       "    </tr>\n",
       "    <tr>\n",
       "      <th>3</th>\n",
       "      <td>1.452586e+09</td>\n",
       "      <td>0.0</td>\n",
       "    </tr>\n",
       "    <tr>\n",
       "      <th>4</th>\n",
       "      <td>1.452589e+09</td>\n",
       "      <td>0.0</td>\n",
       "    </tr>\n",
       "  </tbody>\n",
       "</table>\n",
       "</div>"
      ],
      "text/plain": [
       "   timestamp_start  mm/h\n",
       "0     1.452575e+09   0.5\n",
       "1     1.452578e+09   0.0\n",
       "2     1.452582e+09   0.2\n",
       "3     1.452586e+09   0.0\n",
       "4     1.452589e+09   0.0"
      ]
     },
     "execution_count": 19,
     "metadata": {},
     "output_type": "execute_result"
    }
   ],
   "source": [
    "df.head()"
   ]
  },
  {
   "cell_type": "code",
   "execution_count": 20,
   "metadata": {
    "collapsed": false
   },
   "outputs": [
    {
     "data": {
      "text/html": [
       "<div>\n",
       "<table border=\"1\" class=\"dataframe\">\n",
       "  <thead>\n",
       "    <tr style=\"text-align: right;\">\n",
       "      <th></th>\n",
       "      <th>timestamp_start</th>\n",
       "      <th>mm/h</th>\n",
       "    </tr>\n",
       "  </thead>\n",
       "  <tbody>\n",
       "    <tr>\n",
       "      <th>0</th>\n",
       "      <td>1452574800</td>\n",
       "      <td>0.5</td>\n",
       "    </tr>\n",
       "    <tr>\n",
       "      <th>1</th>\n",
       "      <td>1452578400</td>\n",
       "      <td>0.0</td>\n",
       "    </tr>\n",
       "    <tr>\n",
       "      <th>2</th>\n",
       "      <td>1452582000</td>\n",
       "      <td>0.2</td>\n",
       "    </tr>\n",
       "    <tr>\n",
       "      <th>3</th>\n",
       "      <td>1452585600</td>\n",
       "      <td>0.0</td>\n",
       "    </tr>\n",
       "    <tr>\n",
       "      <th>4</th>\n",
       "      <td>1452589200</td>\n",
       "      <td>0.0</td>\n",
       "    </tr>\n",
       "  </tbody>\n",
       "</table>\n",
       "</div>"
      ],
      "text/plain": [
       "   timestamp_start  mm/h\n",
       "0       1452574800   0.5\n",
       "1       1452578400   0.0\n",
       "2       1452582000   0.2\n",
       "3       1452585600   0.0\n",
       "4       1452589200   0.0"
      ]
     },
     "execution_count": 20,
     "metadata": {},
     "output_type": "execute_result"
    }
   ],
   "source": [
    "df['timestamp_start'] = df['timestamp_start'].astype('int64')\n",
    "df.head()"
   ]
  },
  {
   "cell_type": "markdown",
   "metadata": {},
   "source": [
    "#### Convert timestamps to datetime indexes\n",
    "\n",
    "See http://stackoverflow.com/questions/12251483/idiomatic-way-to-parse-posix-timestamps-in-pandas for this hint."
   ]
  },
  {
   "cell_type": "code",
   "execution_count": 21,
   "metadata": {
    "collapsed": false
   },
   "outputs": [
    {
     "data": {
      "text/html": [
       "<div>\n",
       "<table border=\"1\" class=\"dataframe\">\n",
       "  <thead>\n",
       "    <tr style=\"text-align: right;\">\n",
       "      <th></th>\n",
       "      <th>timestamp_start</th>\n",
       "      <th>mm/h</th>\n",
       "    </tr>\n",
       "    <tr>\n",
       "      <th>datetime_start</th>\n",
       "      <th></th>\n",
       "      <th></th>\n",
       "    </tr>\n",
       "  </thead>\n",
       "  <tbody>\n",
       "    <tr>\n",
       "      <th>2016-01-12 05:00:00</th>\n",
       "      <td>1452574800</td>\n",
       "      <td>0.5</td>\n",
       "    </tr>\n",
       "    <tr>\n",
       "      <th>2016-01-12 06:00:00</th>\n",
       "      <td>1452578400</td>\n",
       "      <td>0.0</td>\n",
       "    </tr>\n",
       "    <tr>\n",
       "      <th>2016-01-12 07:00:00</th>\n",
       "      <td>1452582000</td>\n",
       "      <td>0.2</td>\n",
       "    </tr>\n",
       "    <tr>\n",
       "      <th>2016-01-12 08:00:00</th>\n",
       "      <td>1452585600</td>\n",
       "      <td>0.0</td>\n",
       "    </tr>\n",
       "    <tr>\n",
       "      <th>2016-01-12 09:00:00</th>\n",
       "      <td>1452589200</td>\n",
       "      <td>0.0</td>\n",
       "    </tr>\n",
       "  </tbody>\n",
       "</table>\n",
       "</div>"
      ],
      "text/plain": [
       "                     timestamp_start  mm/h\n",
       "datetime_start                            \n",
       "2016-01-12 05:00:00       1452574800   0.5\n",
       "2016-01-12 06:00:00       1452578400   0.0\n",
       "2016-01-12 07:00:00       1452582000   0.2\n",
       "2016-01-12 08:00:00       1452585600   0.0\n",
       "2016-01-12 09:00:00       1452589200   0.0"
      ]
     },
     "execution_count": 21,
     "metadata": {},
     "output_type": "execute_result"
    }
   ],
   "source": [
    "df['datetime_start'] = df['timestamp_start'].astype('M8[s]')\n",
    "df.set_index(['datetime_start'], inplace=True)\n",
    "df.head()"
   ]
  },
  {
   "cell_type": "markdown",
   "metadata": {},
   "source": [
    "#### Add measurement site as categorical"
   ]
  },
  {
   "cell_type": "code",
   "execution_count": 22,
   "metadata": {
    "collapsed": false
   },
   "outputs": [
    {
     "data": {
      "text/html": [
       "<div>\n",
       "<table border=\"1\" class=\"dataframe\">\n",
       "  <thead>\n",
       "    <tr style=\"text-align: right;\">\n",
       "      <th></th>\n",
       "      <th>timestamp_start</th>\n",
       "      <th>mm/h</th>\n",
       "      <th>site</th>\n",
       "    </tr>\n",
       "    <tr>\n",
       "      <th>datetime_start</th>\n",
       "      <th></th>\n",
       "      <th></th>\n",
       "      <th></th>\n",
       "    </tr>\n",
       "  </thead>\n",
       "  <tbody>\n",
       "    <tr>\n",
       "      <th>2016-01-12 05:00:00</th>\n",
       "      <td>1452574800</td>\n",
       "      <td>0.5</td>\n",
       "      <td>RWS01_MONIBAS_0131hrl0035ra</td>\n",
       "    </tr>\n",
       "    <tr>\n",
       "      <th>2016-01-12 06:00:00</th>\n",
       "      <td>1452578400</td>\n",
       "      <td>0.0</td>\n",
       "      <td>RWS01_MONIBAS_0131hrl0035ra</td>\n",
       "    </tr>\n",
       "    <tr>\n",
       "      <th>2016-01-12 07:00:00</th>\n",
       "      <td>1452582000</td>\n",
       "      <td>0.2</td>\n",
       "      <td>RWS01_MONIBAS_0131hrl0035ra</td>\n",
       "    </tr>\n",
       "    <tr>\n",
       "      <th>2016-01-12 08:00:00</th>\n",
       "      <td>1452585600</td>\n",
       "      <td>0.0</td>\n",
       "      <td>RWS01_MONIBAS_0131hrl0035ra</td>\n",
       "    </tr>\n",
       "    <tr>\n",
       "      <th>2016-01-12 09:00:00</th>\n",
       "      <td>1452589200</td>\n",
       "      <td>0.0</td>\n",
       "      <td>RWS01_MONIBAS_0131hrl0035ra</td>\n",
       "    </tr>\n",
       "  </tbody>\n",
       "</table>\n",
       "</div>"
      ],
      "text/plain": [
       "                     timestamp_start  mm/h                         site\n",
       "datetime_start                                                         \n",
       "2016-01-12 05:00:00       1452574800   0.5  RWS01_MONIBAS_0131hrl0035ra\n",
       "2016-01-12 06:00:00       1452578400   0.0  RWS01_MONIBAS_0131hrl0035ra\n",
       "2016-01-12 07:00:00       1452582000   0.2  RWS01_MONIBAS_0131hrl0035ra\n",
       "2016-01-12 08:00:00       1452585600   0.0  RWS01_MONIBAS_0131hrl0035ra\n",
       "2016-01-12 09:00:00       1452589200   0.0  RWS01_MONIBAS_0131hrl0035ra"
      ]
     },
     "execution_count": 22,
     "metadata": {},
     "output_type": "execute_result"
    }
   ],
   "source": [
    "df['site'] = site_group.name[1:]  # the group name has an annoying lead \"/\"\n",
    "df['site'] = df['site'].astype('category')\n",
    "df.head()"
   ]
  },
  {
   "cell_type": "markdown",
   "metadata": {},
   "source": [
    "Look at the size!"
   ]
  },
  {
   "cell_type": "code",
   "execution_count": 23,
   "metadata": {
    "collapsed": false
   },
   "outputs": [
    {
     "name": "stdout",
     "output_type": "stream",
     "text": [
      "<class 'pandas.core.frame.DataFrame'>\n",
      "DatetimeIndex: 8 entries, 2016-01-12 05:00:00 to 2016-01-12 12:00:00\n",
      "Data columns (total 3 columns):\n",
      "timestamp_start    8 non-null int64\n",
      "mm/h               8 non-null float64\n",
      "site               8 non-null category\n",
      "dtypes: category(1), float64(1), int64(1)\n",
      "memory usage: 208.0 bytes\n"
     ]
    }
   ],
   "source": [
    "df.info()"
   ]
  },
  {
   "cell_type": "markdown",
   "metadata": {},
   "source": [
    "## Testing out a functional implementation"
   ]
  },
  {
   "cell_type": "markdown",
   "metadata": {
    "collapsed": true
   },
   "source": [
    "#### Import the implementation"
   ]
  },
  {
   "cell_type": "markdown",
   "metadata": {},
   "source": [
    "First we change to the directory with the packages."
   ]
  },
  {
   "cell_type": "code",
   "execution_count": 5,
   "metadata": {
    "collapsed": false
   },
   "outputs": [
    {
     "name": "stdout",
     "output_type": "stream",
     "text": [
      "/Users/eltdassen/Programming/python/companion-predictor/src\n"
     ]
    }
   ],
   "source": [
    "%cd '../src/'"
   ]
  },
  {
   "cell_type": "markdown",
   "metadata": {},
   "source": [
    "Now import the preprocessor module `pp`."
   ]
  },
  {
   "cell_type": "code",
   "execution_count": 6,
   "metadata": {
    "collapsed": false
   },
   "outputs": [],
   "source": [
    "from predictor.pp import preprocessing_generator"
   ]
  },
  {
   "cell_type": "markdown",
   "metadata": {},
   "source": [
    "The main advantage of using the preprocessor as a python module is that we have also available the\n",
    "`preprocessing_generator` function. Check it out. But note that it might take quite some time to process a `DataFrame`."
   ]
  },
  {
   "cell_type": "code",
   "execution_count": 12,
   "metadata": {
    "collapsed": false
   },
   "outputs": [],
   "source": [
    "preprocessing_generator?"
   ]
  },
  {
   "cell_type": "markdown",
   "metadata": {},
   "source": [
    "This return a *generator* object which we can iterate over for better performance."
   ]
  },
  {
   "cell_type": "code",
   "execution_count": 7,
   "metadata": {
    "collapsed": false
   },
   "outputs": [
    {
     "data": {
      "text/plain": [
       "PosixPath('/Users/eltdassen/Programming/python/companion-predictor/nb/../hdf_data')"
      ]
     },
     "execution_count": 7,
     "metadata": {},
     "output_type": "execute_result"
    }
   ],
   "source": [
    "INPUT_PATH"
   ]
  },
  {
   "cell_type": "code",
   "execution_count": 8,
   "metadata": {
    "collapsed": true
   },
   "outputs": [],
   "source": [
    "dfs_gen = preprocessing_generator(input=INPUT_PATH)"
   ]
  },
  {
   "cell_type": "code",
   "execution_count": 9,
   "metadata": {
    "collapsed": false
   },
   "outputs": [
    {
     "data": {
      "text/html": [
       "<div>\n",
       "<table border=\"1\" class=\"dataframe\">\n",
       "  <thead>\n",
       "    <tr style=\"text-align: right;\">\n",
       "      <th></th>\n",
       "      <th></th>\n",
       "      <th>precipitation mm/h</th>\n",
       "      <th>temperature C</th>\n",
       "      <th>timestamp_start</th>\n",
       "      <th>trafficflow counts/h</th>\n",
       "      <th>trafficspeed km/h</th>\n",
       "      <th>windspeed m/s</th>\n",
       "    </tr>\n",
       "    <tr>\n",
       "      <th>site</th>\n",
       "      <th>datetime_start</th>\n",
       "      <th></th>\n",
       "      <th></th>\n",
       "      <th></th>\n",
       "      <th></th>\n",
       "      <th></th>\n",
       "      <th></th>\n",
       "    </tr>\n",
       "  </thead>\n",
       "  <tbody>\n",
       "    <tr>\n",
       "      <th rowspan=\"5\" valign=\"top\">RWS01_MONIBAS_0131hrl0035ra</th>\n",
       "      <th>2016-01-12 04:58:00</th>\n",
       "      <td>0.5</td>\n",
       "      <td>6.8</td>\n",
       "      <td>1452574680</td>\n",
       "      <td>600.0</td>\n",
       "      <td>100.000000</td>\n",
       "      <td>8.0</td>\n",
       "    </tr>\n",
       "    <tr>\n",
       "      <th>2016-01-12 04:59:00</th>\n",
       "      <td>0.5</td>\n",
       "      <td>6.8</td>\n",
       "      <td>1452574740</td>\n",
       "      <td>540.0</td>\n",
       "      <td>101.000000</td>\n",
       "      <td>8.0</td>\n",
       "    </tr>\n",
       "    <tr>\n",
       "      <th>2016-01-12 05:00:00</th>\n",
       "      <td>0.5</td>\n",
       "      <td>6.8</td>\n",
       "      <td>1452574800</td>\n",
       "      <td>720.0</td>\n",
       "      <td>103.333333</td>\n",
       "      <td>8.0</td>\n",
       "    </tr>\n",
       "    <tr>\n",
       "      <th>2016-01-12 05:01:00</th>\n",
       "      <td>0.5</td>\n",
       "      <td>6.8</td>\n",
       "      <td>1452574860</td>\n",
       "      <td>480.0</td>\n",
       "      <td>98.666667</td>\n",
       "      <td>8.0</td>\n",
       "    </tr>\n",
       "    <tr>\n",
       "      <th>2016-01-12 05:02:00</th>\n",
       "      <td>0.5</td>\n",
       "      <td>6.8</td>\n",
       "      <td>1452574920</td>\n",
       "      <td>420.0</td>\n",
       "      <td>108.000000</td>\n",
       "      <td>8.0</td>\n",
       "    </tr>\n",
       "  </tbody>\n",
       "</table>\n",
       "</div>"
      ],
      "text/plain": [
       "                                                 precipitation mm/h  temperature C  timestamp_start  trafficflow counts/h  trafficspeed km/h  windspeed m/s\n",
       "site                        datetime_start                                                                                                                 \n",
       "RWS01_MONIBAS_0131hrl0035ra 2016-01-12 04:58:00                 0.5            6.8       1452574680                 600.0         100.000000            8.0\n",
       "                            2016-01-12 04:59:00                 0.5            6.8       1452574740                 540.0         101.000000            8.0\n",
       "                            2016-01-12 05:00:00                 0.5            6.8       1452574800                 720.0         103.333333            8.0\n",
       "                            2016-01-12 05:01:00                 0.5            6.8       1452574860                 480.0          98.666667            8.0\n",
       "                            2016-01-12 05:02:00                 0.5            6.8       1452574920                 420.0         108.000000            8.0"
      ]
     },
     "execution_count": 9,
     "metadata": {},
     "output_type": "execute_result"
    }
   ],
   "source": [
    "df = next(dfs_gen)\n",
    "df.head()"
   ]
  },
  {
   "cell_type": "code",
   "execution_count": null,
   "metadata": {
    "collapsed": true
   },
   "outputs": [],
   "source": []
  }
 ],
 "metadata": {
  "kernelspec": {
   "display_name": "MLenv Python 3.5",
   "language": "python",
   "name": "mlenv_35"
  },
  "language_info": {
   "codemirror_mode": {
    "name": "ipython",
    "version": 3
   },
   "file_extension": ".py",
   "mimetype": "text/x-python",
   "name": "python",
   "nbconvert_exporter": "python",
   "pygments_lexer": "ipython3",
   "version": "3.5.1"
  }
 },
 "nbformat": 4,
 "nbformat_minor": 0
}
