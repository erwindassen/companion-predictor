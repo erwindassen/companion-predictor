{
 "cells": [
  {
   "cell_type": "markdown",
   "metadata": {},
   "source": [
    "# Modeling with tflearn"
   ]
  },
  {
   "cell_type": "code",
   "execution_count": 1,
   "metadata": {
    "collapsed": false
   },
   "outputs": [
    {
     "data": {
      "text/html": [
       "<style>body {\n",
       "    margin: 0;\n",
       "    font-family: Helvetica;\n",
       "}\n",
       "table.dataframe {\n",
       "    border-collapse: collapse;\n",
       "    border: none;\n",
       "}\n",
       "table.dataframe tr {\n",
       "    border: none;\n",
       "}\n",
       "table.dataframe td, table.dataframe th {\n",
       "    margin: 0;\n",
       "    border: 1px solid white;\n",
       "    padding-left: 0.25em;\n",
       "    padding-right: 0.25em;\n",
       "}\n",
       "table.dataframe th:not(:empty) {\n",
       "    background-color: #fec;\n",
       "    text-align: left;\n",
       "    font-weight: normal;\n",
       "}\n",
       "table.dataframe tr:nth-child(2) th:empty {\n",
       "    border-left: none;\n",
       "    border-right: 1px dashed #888;\n",
       "}\n",
       "table.dataframe td {\n",
       "    border: 2px solid #ccf;\n",
       "    background-color: #f4f4ff;\n",
       "}\n",
       "h3 {\n",
       "    color: white;\n",
       "    background-color: black;\n",
       "    padding: 0.5em;\n",
       "}\n",
       "</style>"
      ],
      "text/plain": [
       "<IPython.core.display.HTML object>"
      ]
     },
     "execution_count": 1,
     "metadata": {},
     "output_type": "execute_result"
    }
   ],
   "source": [
    "from IPython.core.display import HTML\n",
    "css = open('style-table.css').read() + open('style-notebook.css').read()\n",
    "HTML('<style>{}</style>'.format(css))"
   ]
  },
  {
   "cell_type": "code",
   "execution_count": 2,
   "metadata": {
    "collapsed": true
   },
   "outputs": [],
   "source": [
    "import h5py\n",
    "# import dask\n",
    "# from dask.multiprocessing import get\n",
    "import numpy as np\n",
    "from dask import array as da\n",
    "from dask import delayed\n",
    "import pandas as pd\n",
    "import pathlib2 as pl"
   ]
  },
  {
   "cell_type": "code",
   "execution_count": 3,
   "metadata": {
    "collapsed": false
   },
   "outputs": [],
   "source": [
    "pd.set_option('display.max_colwidth', 100)\n",
    "pd.set_option('display.max_rows', 200)\n",
    "pd.set_option('display.max_columns', 6)\n",
    "pd.set_option('display.width', 1000)\n",
    "\n",
    "# dask.set_options(get=get);"
   ]
  },
  {
   "cell_type": "markdown",
   "metadata": {},
   "source": [
    "#### Loading data into dask (playground)"
   ]
  },
  {
   "cell_type": "code",
   "execution_count": null,
   "metadata": {
    "collapsed": true
   },
   "outputs": [],
   "source": [
    "fpath = '/Volumes/CompanionEx/Data/dfs/PP_TS_2016-01-11-06_2016-01-11-13.hdf'"
   ]
  },
  {
   "cell_type": "code",
   "execution_count": null,
   "metadata": {
    "collapsed": true
   },
   "outputs": [],
   "source": [
    "f = h5py.File(fpath, mode='r')\n",
    "d = f['/features_weather']"
   ]
  },
  {
   "cell_type": "code",
   "execution_count": null,
   "metadata": {
    "collapsed": false
   },
   "outputs": [],
   "source": [
    "d.shape"
   ]
  },
  {
   "cell_type": "code",
   "execution_count": null,
   "metadata": {
    "collapsed": true
   },
   "outputs": [],
   "source": [
    "x = da.from_array(d, chunks=(100000,5))"
   ]
  },
  {
   "cell_type": "code",
   "execution_count": null,
   "metadata": {
    "collapsed": false
   },
   "outputs": [],
   "source": [
    "x[:10].compute()"
   ]
  },
  {
   "cell_type": "code",
   "execution_count": null,
   "metadata": {
    "collapsed": true
   },
   "outputs": [],
   "source": [
    "f.close()"
   ]
  },
  {
   "cell_type": "markdown",
   "metadata": {},
   "source": [
    "#### Loading datasets (for real)"
   ]
  },
  {
   "cell_type": "code",
   "execution_count": 4,
   "metadata": {
    "collapsed": true
   },
   "outputs": [],
   "source": [
    "DF_DIR = pl.Path('/Volumes/CompanionEx/Data/dfs/')\n",
    "CHUNK_SIZE = 1e5"
   ]
  },
  {
   "cell_type": "code",
   "execution_count": 6,
   "metadata": {
    "collapsed": false
   },
   "outputs": [],
   "source": [
    "features_ds = [h5py.File(str(fpath), 'r')['/features_weather'] for fpath in DF_DIR.glob('*.hdf')]\n",
    "target_flow_ds = [h5py.File(str(fpath), 'r')['/target_flow'] for fpath in DF_DIR.glob('*.hdf')]\n",
    "target_speed_ds = [h5py.File(str(fpath), 'r')['/target_speed'] for fpath in DF_DIR.glob('*.hdf')]\n",
    "\n",
    "features_arrays = [da.from_array(dset, chunks=(CHUNK_SIZE, dset.shape[1])) for dset in features_ds]\n",
    "target_flow_arrays = [da.from_array(dset, chunks=(CHUNK_SIZE, dset.shape[1])) for dset in target_flow_ds]\n",
    "target_speed_arrays = [da.from_array(dset, chunks=(CHUNK_SIZE, dset.shape[1])) for dset in target_speed_ds]\n",
    "\n",
    "features = da.concatenate(features_arrays, axis=0)\n",
    "target_flow = da.concatenate(target_flow_arrays, axis=0)\n",
    "target_speed = da.concatenate(target_speed_arrays, axis=0)"
   ]
  },
  {
   "cell_type": "markdown",
   "metadata": {},
   "source": [
    "For implementing models use the concatenated datasets: `features`, `target_flow`, `targer_speed`. The data is lazy loaded and put in a certain number of `partitions`. In this case we have:"
   ]
  },
  {
   "cell_type": "code",
   "execution_count": 7,
   "metadata": {
    "collapsed": false
   },
   "outputs": [
    {
     "data": {
      "text/plain": [
       "1155"
      ]
     },
     "execution_count": 7,
     "metadata": {},
     "output_type": "execute_result"
    }
   ],
   "source": [
    "features.npartitions"
   ]
  },
  {
   "cell_type": "code",
   "execution_count": 9,
   "metadata": {
    "collapsed": false
   },
   "outputs": [
    {
     "data": {
      "text/plain": [
       "array([[  3.50612936e+18,   1.45404342e+09,   0.00000000e+00,\n",
       "          8.50000000e+00,   1.00000000e+01],\n",
       "       [  3.50612936e+18,   1.45404348e+09,   0.00000000e+00,\n",
       "          8.50000000e+00,   1.00000000e+01],\n",
       "       [  3.50612936e+18,   1.45404354e+09,   0.00000000e+00,\n",
       "          8.50000000e+00,   1.00000000e+01],\n",
       "       [  3.50612936e+18,   1.45404360e+09,   0.00000000e+00,\n",
       "          8.50000000e+00,   1.00000000e+01],\n",
       "       [  3.50612936e+18,   1.45404366e+09,   0.00000000e+00,\n",
       "          8.50000000e+00,   1.00000000e+01],\n",
       "       [  3.50612936e+18,   1.45404372e+09,   0.00000000e+00,\n",
       "          8.50000000e+00,   1.00000000e+01],\n",
       "       [  3.50612936e+18,   1.45404378e+09,   0.00000000e+00,\n",
       "          8.50000000e+00,   1.00000000e+01],\n",
       "       [  3.50612936e+18,   1.45404384e+09,   0.00000000e+00,\n",
       "          8.50000000e+00,   1.00000000e+01],\n",
       "       [  3.50612936e+18,   1.45404390e+09,   0.00000000e+00,\n",
       "          8.50000000e+00,   1.00000000e+01],\n",
       "       [  3.50612936e+18,   1.45404396e+09,   0.00000000e+00,\n",
       "          8.50000000e+00,   1.00000000e+01]])"
      ]
     },
     "execution_count": 9,
     "metadata": {},
     "output_type": "execute_result"
    }
   ],
   "source": [
    "features[:10,:].compute()"
   ]
  },
  {
   "cell_type": "markdown",
   "metadata": {},
   "source": [
    "#### Import tflearn and create model"
   ]
  },
  {
   "cell_type": "code",
   "execution_count": null,
   "metadata": {
    "collapsed": true
   },
   "outputs": [],
   "source": [
    "import tflearn\n",
    "# from tflearn.layers.core import *\n",
    "# from tflearn.layers.conv import *\n",
    "# from tflearn.data_utils import *\n",
    "# from tflearn.layers.estimator import *"
   ]
  },
  {
   "cell_type": "code",
   "execution_count": null,
   "metadata": {
    "collapsed": true
   },
   "outputs": [],
   "source": [
    "# Build network\n",
    "# WORK IN PROGRESS!!\n",
    "\n",
    "network = input_data(shape=[None, 32, 32, 3])\n",
    "network = conv_2d(network, 32, 3, activation='relu')\n",
    "network = max_pool_2d(network, 2)\n",
    "network = dropout(network, 0.75)\n",
    "network = conv_2d(network, 64, 3, activation='relu')\n",
    "network = conv_2d(network, 64, 3, activation='relu')\n",
    "network = max_pool_2d(network, 2)\n",
    "network = dropout(network, 0.5)\n",
    "network = fully_connected(network, 512, activation='relu')\n",
    "network = dropout(network, 0.5)\n",
    "network = fully_connected(network, 10, activation='softmax')\n",
    "network = regression(network, optimizer='adam',\n",
    "                     loss='categorical_crossentropy',\n",
    "                     learning_rate=0.001)\n",
    "\n",
    "net = tflearn.input_data(shape=[None, 200])\n",
    "net = tflearn.embedding(net, input_dim=20000, output_dim=128)\n",
    "net = tflearn.lstm(net, 128, dropout=0.8)\n",
    "net = tflearn.dropout(net, 0.5)\n",
    "net = tflearn.fully_connected(net, 2, activation='softmax')\n",
    "net = tflearn.regression(net, optimizer='adam',\n",
    "                         loss='categorical_crossentropy')\n"
   ]
  },
  {
   "cell_type": "code",
   "execution_count": null,
   "metadata": {
    "collapsed": true
   },
   "outputs": [],
   "source": [
    "# Training\n",
    "model = tflearn.DNN(network, tensorboard_verbose=0)\n",
    "model.fit(X, Y, n_epoch=50, shuffle=True, validation_set=(X_test, Y_test),\n",
    "          show_metric=True, batch_size=96, run_id='cifar10_cnn')"
   ]
  },
  {
   "cell_type": "code",
   "execution_count": null,
   "metadata": {
    "collapsed": true
   },
   "outputs": [],
   "source": []
  },
  {
   "cell_type": "code",
   "execution_count": null,
   "metadata": {
    "collapsed": true
   },
   "outputs": [],
   "source": []
  }
 ],
 "metadata": {
  "kernelspec": {
   "display_name": "MLenv Python 3.5",
   "language": "python",
   "name": "mlenv_35"
  },
  "language_info": {
   "codemirror_mode": {
    "name": "ipython",
    "version": 3
   },
   "file_extension": ".py",
   "mimetype": "text/x-python",
   "name": "python",
   "nbconvert_exporter": "python",
   "pygments_lexer": "ipython3",
   "version": "3.5.1"
  }
 },
 "nbformat": 4,
 "nbformat_minor": 0
}
