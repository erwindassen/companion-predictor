{
 "cells": [
  {
   "cell_type": "markdown",
   "metadata": {},
   "source": [
    "# Measurement sites locations"
   ]
  },
  {
   "cell_type": "markdown",
   "metadata": {},
   "source": [
    "In this notebook we obtain the measurement site lat-lon coordinates and save it in a `geopandas.geoframe`."
   ]
  },
  {
   "cell_type": "markdown",
   "metadata": {},
   "source": [
    "#### Imports"
   ]
  },
  {
   "cell_type": "code",
   "execution_count": 16,
   "metadata": {
    "collapsed": false
   },
   "outputs": [],
   "source": [
    "import pandas as pd\n",
    "import geopandas as gp\n",
    "# import geohash\n",
    "# import matplotlib as pl\n",
    "# %matplotlib inline\n",
    "import pathlib2\n",
    "import plotly as pl\n",
    "# import cufflinks as cl"
   ]
  },
  {
   "cell_type": "code",
   "execution_count": 7,
   "metadata": {
    "collapsed": false
   },
   "outputs": [],
   "source": [
    "import psycopg2\n",
    "import psycopg2.extras"
   ]
  },
  {
   "cell_type": "markdown",
   "metadata": {},
   "source": [
    "#### Filepath for the rdw.json containing the roads"
   ]
  },
  {
   "cell_type": "markdown",
   "metadata": {},
   "source": [
    "Remeber to unzip this file from the repo."
   ]
  },
  {
   "cell_type": "code",
   "execution_count": 3,
   "metadata": {
    "collapsed": true
   },
   "outputs": [],
   "source": [
    "RDW_FILEPATH = pathlib2.Path('../rdw.json')"
   ]
  },
  {
   "cell_type": "markdown",
   "metadata": {},
   "source": [
    "#### Nice dataframe formatting"
   ]
  },
  {
   "cell_type": "code",
   "execution_count": 3,
   "metadata": {
    "collapsed": false
   },
   "outputs": [
    {
     "data": {
      "text/html": [
       "<style>body {\n",
       "    margin: 0;\n",
       "    font-family: Helvetica;\n",
       "}\n",
       "table.dataframe {\n",
       "    border-collapse: collapse;\n",
       "    border: none;\n",
       "}\n",
       "table.dataframe tr {\n",
       "    border: none;\n",
       "}\n",
       "table.dataframe td, table.dataframe th {\n",
       "    margin: 0;\n",
       "    border: 1px solid white;\n",
       "    padding-left: 0.25em;\n",
       "    padding-right: 0.25em;\n",
       "}\n",
       "table.dataframe th:not(:empty) {\n",
       "    background-color: #fec;\n",
       "    text-align: left;\n",
       "    font-weight: normal;\n",
       "}\n",
       "table.dataframe tr:nth-child(2) th:empty {\n",
       "    border-left: none;\n",
       "    border-right: 1px dashed #888;\n",
       "}\n",
       "table.dataframe td {\n",
       "    border: 2px solid #ccf;\n",
       "    background-color: #f4f4ff;\n",
       "}\n",
       "h3 {\n",
       "    color: white;\n",
       "    background-color: black;\n",
       "    padding: 0.5em;\n",
       "}\n",
       "</style>"
      ],
      "text/plain": [
       "<IPython.core.display.HTML object>"
      ]
     },
     "execution_count": 3,
     "metadata": {},
     "output_type": "execute_result"
    }
   ],
   "source": [
    "from IPython.core.display import HTML\n",
    "css = open('style-table.css').read() + open('style-notebook.css').read()\n",
    "HTML('<style>{}</style>'.format(css))"
   ]
  },
  {
   "cell_type": "markdown",
   "metadata": {},
   "source": [
    "#### Obtain the table from a running companion database and make some adjustments"
   ]
  },
  {
   "cell_type": "code",
   "execution_count": 8,
   "metadata": {
    "collapsed": false
   },
   "outputs": [],
   "source": [
    "con = None\n",
    "\n",
    "try:\n",
    "    con = psycopg2.connect(database='companion',\n",
    "                           user='postgres',\n",
    "                           password='snt',\n",
    "                           host='0.0.0.0',\n",
    "                           port='32768')\n",
    "    \n",
    "    cursor = con.cursor(cursor_factory=psycopg2.extras.RealDictCursor)\n",
    "    cursor.execute(\"SELECT id, ndwid, name, ST_AsText(location), ST_AsKML(location), ST_AsLatLonText(location) FROM measurementsite;\")\n",
    "    \n",
    "#     row = cursor.fetchone()\n",
    "    mdf = pd.DataFrame.from_dict(cursor.fetchall())\n",
    "    mdf.set_index(['id'], inplace=True)\n",
    "\n",
    "except db.DatabaseError as e:\n",
    "    print('Error %s' % e)\n",
    "    sys.exit(1)\n",
    "    \n",
    "finally:\n",
    "    \n",
    "    if con:\n",
    "        con.close()\n"
   ]
  },
  {
   "cell_type": "code",
   "execution_count": 9,
   "metadata": {
    "collapsed": false
   },
   "outputs": [
    {
     "data": {
      "text/html": [
       "<div>\n",
       "<table border=\"1\" class=\"dataframe\">\n",
       "  <thead>\n",
       "    <tr style=\"text-align: right;\">\n",
       "      <th></th>\n",
       "      <th>name</th>\n",
       "      <th>ndwid</th>\n",
       "      <th>st_askml</th>\n",
       "      <th>st_aslatlontext</th>\n",
       "      <th>st_astext</th>\n",
       "    </tr>\n",
       "    <tr>\n",
       "      <th>id</th>\n",
       "      <th></th>\n",
       "      <th></th>\n",
       "      <th></th>\n",
       "      <th></th>\n",
       "      <th></th>\n",
       "    </tr>\n",
       "  </thead>\n",
       "  <tbody>\n",
       "    <tr>\n",
       "      <th>1</th>\n",
       "      <td>0010vwa0056ra</td>\n",
       "      <td>RWS01_MONIBAS_0010vwa0056ra</td>\n",
       "      <td>&lt;Point&gt;&lt;coordinates&gt;52.345428466796875,4.97720...</td>\n",
       "      <td>4°58'37.920\"N 52°20'43.542\"E</td>\n",
       "      <td>POINT(52.3454284667969 4.97720003128052)</td>\n",
       "    </tr>\n",
       "    <tr>\n",
       "      <th>2</th>\n",
       "      <td>0010vwa0065ra</td>\n",
       "      <td>RWS01_MONIBAS_0010vwa0065ra</td>\n",
       "      <td>&lt;Point&gt;&lt;coordinates&gt;52.339141845703125,4.98615...</td>\n",
       "      <td>4°59'10.175\"N 52°20'20.911\"E</td>\n",
       "      <td>POINT(52.3391418457031 4.98615980148315)</td>\n",
       "    </tr>\n",
       "    <tr>\n",
       "      <th>3</th>\n",
       "      <td>0010vwa0223ra</td>\n",
       "      <td>RWS01_MONIBAS_0010vwa0223ra</td>\n",
       "      <td>&lt;Point&gt;&lt;coordinates&gt;52.284080505371094,5.18365...</td>\n",
       "      <td>5°11'1.140\"N 52°17'2.690\"E</td>\n",
       "      <td>POINT(52.2840805053711 5.18365001678467)</td>\n",
       "    </tr>\n",
       "    <tr>\n",
       "      <th>4</th>\n",
       "      <td>0010vwa0248ra</td>\n",
       "      <td>RWS01_MONIBAS_0010vwa0248ra</td>\n",
       "      <td>&lt;Point&gt;&lt;coordinates&gt;52.267349243164062,5.20331...</td>\n",
       "      <td>5°12'11.916\"N 52°16'2.457\"E</td>\n",
       "      <td>POINT(52.2673492431641 5.20331001281738)</td>\n",
       "    </tr>\n",
       "    <tr>\n",
       "      <th>5</th>\n",
       "      <td>0010vwa0269ra</td>\n",
       "      <td>RWS01_MONIBAS_0010vwa0269ra</td>\n",
       "      <td>&lt;Point&gt;&lt;coordinates&gt;52.249340057373047,5.21355...</td>\n",
       "      <td>5°12'48.780\"N 52°14'57.624\"E</td>\n",
       "      <td>POINT(52.249340057373 5.21355009078979)</td>\n",
       "    </tr>\n",
       "  </tbody>\n",
       "</table>\n",
       "</div>"
      ],
      "text/plain": [
       "             name                        ndwid  \\\n",
       "id                                               \n",
       "1   0010vwa0056ra  RWS01_MONIBAS_0010vwa0056ra   \n",
       "2   0010vwa0065ra  RWS01_MONIBAS_0010vwa0065ra   \n",
       "3   0010vwa0223ra  RWS01_MONIBAS_0010vwa0223ra   \n",
       "4   0010vwa0248ra  RWS01_MONIBAS_0010vwa0248ra   \n",
       "5   0010vwa0269ra  RWS01_MONIBAS_0010vwa0269ra   \n",
       "\n",
       "                                             st_askml  \\\n",
       "id                                                      \n",
       "1   <Point><coordinates>52.345428466796875,4.97720...   \n",
       "2   <Point><coordinates>52.339141845703125,4.98615...   \n",
       "3   <Point><coordinates>52.284080505371094,5.18365...   \n",
       "4   <Point><coordinates>52.267349243164062,5.20331...   \n",
       "5   <Point><coordinates>52.249340057373047,5.21355...   \n",
       "\n",
       "                 st_aslatlontext                                 st_astext  \n",
       "id                                                                          \n",
       "1   4°58'37.920\"N 52°20'43.542\"E  POINT(52.3454284667969 4.97720003128052)  \n",
       "2   4°59'10.175\"N 52°20'20.911\"E  POINT(52.3391418457031 4.98615980148315)  \n",
       "3     5°11'1.140\"N 52°17'2.690\"E  POINT(52.2840805053711 5.18365001678467)  \n",
       "4    5°12'11.916\"N 52°16'2.457\"E  POINT(52.2673492431641 5.20331001281738)  \n",
       "5   5°12'48.780\"N 52°14'57.624\"E   POINT(52.249340057373 5.21355009078979)  "
      ]
     },
     "execution_count": 9,
     "metadata": {},
     "output_type": "execute_result"
    }
   ],
   "source": [
    "mdf.head()"
   ]
  },
  {
   "cell_type": "code",
   "execution_count": 11,
   "metadata": {
    "collapsed": false
   },
   "outputs": [],
   "source": [
    "# mdf = mdf.rename(columns={'carriageway1': 'carriageway',\n",
    "#                           'lengthaffected1': 'lengthaffected'})\n",
    "mdf = mdf.rename(columns={'st_astext': 'geometry'})\n",
    "# mdf['carriageway'] = mdf['carriageway'].astype('category')"
   ]
  },
  {
   "cell_type": "code",
   "execution_count": 12,
   "metadata": {
    "collapsed": false
   },
   "outputs": [
    {
     "data": {
      "text/html": [
       "<div>\n",
       "<table border=\"1\" class=\"dataframe\">\n",
       "  <thead>\n",
       "    <tr style=\"text-align: right;\">\n",
       "      <th></th>\n",
       "      <th>name</th>\n",
       "      <th>ndwid</th>\n",
       "      <th>st_askml</th>\n",
       "      <th>st_aslatlontext</th>\n",
       "      <th>geometry</th>\n",
       "    </tr>\n",
       "    <tr>\n",
       "      <th>id</th>\n",
       "      <th></th>\n",
       "      <th></th>\n",
       "      <th></th>\n",
       "      <th></th>\n",
       "      <th></th>\n",
       "    </tr>\n",
       "  </thead>\n",
       "  <tbody>\n",
       "    <tr>\n",
       "      <th>1</th>\n",
       "      <td>0010vwa0056ra</td>\n",
       "      <td>RWS01_MONIBAS_0010vwa0056ra</td>\n",
       "      <td>&lt;Point&gt;&lt;coordinates&gt;52.345428466796875,4.97720...</td>\n",
       "      <td>4°58'37.920\"N 52°20'43.542\"E</td>\n",
       "      <td>POINT(52.3454284667969 4.97720003128052)</td>\n",
       "    </tr>\n",
       "    <tr>\n",
       "      <th>2</th>\n",
       "      <td>0010vwa0065ra</td>\n",
       "      <td>RWS01_MONIBAS_0010vwa0065ra</td>\n",
       "      <td>&lt;Point&gt;&lt;coordinates&gt;52.339141845703125,4.98615...</td>\n",
       "      <td>4°59'10.175\"N 52°20'20.911\"E</td>\n",
       "      <td>POINT(52.3391418457031 4.98615980148315)</td>\n",
       "    </tr>\n",
       "    <tr>\n",
       "      <th>3</th>\n",
       "      <td>0010vwa0223ra</td>\n",
       "      <td>RWS01_MONIBAS_0010vwa0223ra</td>\n",
       "      <td>&lt;Point&gt;&lt;coordinates&gt;52.284080505371094,5.18365...</td>\n",
       "      <td>5°11'1.140\"N 52°17'2.690\"E</td>\n",
       "      <td>POINT(52.2840805053711 5.18365001678467)</td>\n",
       "    </tr>\n",
       "    <tr>\n",
       "      <th>4</th>\n",
       "      <td>0010vwa0248ra</td>\n",
       "      <td>RWS01_MONIBAS_0010vwa0248ra</td>\n",
       "      <td>&lt;Point&gt;&lt;coordinates&gt;52.267349243164062,5.20331...</td>\n",
       "      <td>5°12'11.916\"N 52°16'2.457\"E</td>\n",
       "      <td>POINT(52.2673492431641 5.20331001281738)</td>\n",
       "    </tr>\n",
       "    <tr>\n",
       "      <th>5</th>\n",
       "      <td>0010vwa0269ra</td>\n",
       "      <td>RWS01_MONIBAS_0010vwa0269ra</td>\n",
       "      <td>&lt;Point&gt;&lt;coordinates&gt;52.249340057373047,5.21355...</td>\n",
       "      <td>5°12'48.780\"N 52°14'57.624\"E</td>\n",
       "      <td>POINT(52.249340057373 5.21355009078979)</td>\n",
       "    </tr>\n",
       "  </tbody>\n",
       "</table>\n",
       "</div>"
      ],
      "text/plain": [
       "             name                        ndwid  \\\n",
       "id                                               \n",
       "1   0010vwa0056ra  RWS01_MONIBAS_0010vwa0056ra   \n",
       "2   0010vwa0065ra  RWS01_MONIBAS_0010vwa0065ra   \n",
       "3   0010vwa0223ra  RWS01_MONIBAS_0010vwa0223ra   \n",
       "4   0010vwa0248ra  RWS01_MONIBAS_0010vwa0248ra   \n",
       "5   0010vwa0269ra  RWS01_MONIBAS_0010vwa0269ra   \n",
       "\n",
       "                                             st_askml  \\\n",
       "id                                                      \n",
       "1   <Point><coordinates>52.345428466796875,4.97720...   \n",
       "2   <Point><coordinates>52.339141845703125,4.98615...   \n",
       "3   <Point><coordinates>52.284080505371094,5.18365...   \n",
       "4   <Point><coordinates>52.267349243164062,5.20331...   \n",
       "5   <Point><coordinates>52.249340057373047,5.21355...   \n",
       "\n",
       "                 st_aslatlontext                                  geometry  \n",
       "id                                                                          \n",
       "1   4°58'37.920\"N 52°20'43.542\"E  POINT(52.3454284667969 4.97720003128052)  \n",
       "2   4°59'10.175\"N 52°20'20.911\"E  POINT(52.3391418457031 4.98615980148315)  \n",
       "3     5°11'1.140\"N 52°17'2.690\"E  POINT(52.2840805053711 5.18365001678467)  \n",
       "4    5°12'11.916\"N 52°16'2.457\"E  POINT(52.2673492431641 5.20331001281738)  \n",
       "5   5°12'48.780\"N 52°14'57.624\"E   POINT(52.249340057373 5.21355009078979)  "
      ]
     },
     "execution_count": 12,
     "metadata": {},
     "output_type": "execute_result"
    }
   ],
   "source": [
    "mdf.head()"
   ]
  },
  {
   "cell_type": "code",
   "execution_count": 7,
   "metadata": {
    "collapsed": false
   },
   "outputs": [
    {
     "name": "stdout",
     "output_type": "stream",
     "text": [
      "<class 'pandas.core.frame.DataFrame'>\n",
      "Int64Index: 17655 entries, 1 to 17655\n",
      "Data columns (total 2 columns):\n",
      "ndwid       17655 non-null object\n",
      "geometry    17655 non-null object\n",
      "dtypes: object(2)\n",
      "memory usage: 413.8+ KB\n"
     ]
    }
   ],
   "source": [
    "mdf.info()"
   ]
  },
  {
   "cell_type": "markdown",
   "metadata": {},
   "source": [
    "#### We are going to parse the location column"
   ]
  },
  {
   "cell_type": "markdown",
   "metadata": {},
   "source": [
    "First select only the relevant number strings and split into a list."
   ]
  },
  {
   "cell_type": "code",
   "execution_count": 13,
   "metadata": {
    "collapsed": false
   },
   "outputs": [],
   "source": [
    "ser = mdf['geometry'].apply(lambda p: p[6:-1].split(' '))"
   ]
  },
  {
   "cell_type": "markdown",
   "metadata": {},
   "source": [
    "Then make each number in the list into the relevant coordinate by casting."
   ]
  },
  {
   "cell_type": "code",
   "execution_count": 14,
   "metadata": {
    "collapsed": false
   },
   "outputs": [
    {
     "data": {
      "text/html": [
       "<div>\n",
       "<table border=\"1\" class=\"dataframe\">\n",
       "  <thead>\n",
       "    <tr style=\"text-align: right;\">\n",
       "      <th></th>\n",
       "      <th>name</th>\n",
       "      <th>ndwid</th>\n",
       "      <th>st_askml</th>\n",
       "      <th>st_aslatlontext</th>\n",
       "      <th>geometry</th>\n",
       "      <th>latitude</th>\n",
       "      <th>longitude</th>\n",
       "    </tr>\n",
       "    <tr>\n",
       "      <th>id</th>\n",
       "      <th></th>\n",
       "      <th></th>\n",
       "      <th></th>\n",
       "      <th></th>\n",
       "      <th></th>\n",
       "      <th></th>\n",
       "      <th></th>\n",
       "    </tr>\n",
       "  </thead>\n",
       "  <tbody>\n",
       "    <tr>\n",
       "      <th>1</th>\n",
       "      <td>0010vwa0056ra</td>\n",
       "      <td>RWS01_MONIBAS_0010vwa0056ra</td>\n",
       "      <td>&lt;Point&gt;&lt;coordinates&gt;52.345428466796875,4.97720...</td>\n",
       "      <td>4°58'37.920\"N 52°20'43.542\"E</td>\n",
       "      <td>POINT(52.3454284667969 4.97720003128052)</td>\n",
       "      <td>52.345428</td>\n",
       "      <td>4.97720</td>\n",
       "    </tr>\n",
       "    <tr>\n",
       "      <th>2</th>\n",
       "      <td>0010vwa0065ra</td>\n",
       "      <td>RWS01_MONIBAS_0010vwa0065ra</td>\n",
       "      <td>&lt;Point&gt;&lt;coordinates&gt;52.339141845703125,4.98615...</td>\n",
       "      <td>4°59'10.175\"N 52°20'20.911\"E</td>\n",
       "      <td>POINT(52.3391418457031 4.98615980148315)</td>\n",
       "      <td>52.339142</td>\n",
       "      <td>4.98616</td>\n",
       "    </tr>\n",
       "    <tr>\n",
       "      <th>3</th>\n",
       "      <td>0010vwa0223ra</td>\n",
       "      <td>RWS01_MONIBAS_0010vwa0223ra</td>\n",
       "      <td>&lt;Point&gt;&lt;coordinates&gt;52.284080505371094,5.18365...</td>\n",
       "      <td>5°11'1.140\"N 52°17'2.690\"E</td>\n",
       "      <td>POINT(52.2840805053711 5.18365001678467)</td>\n",
       "      <td>52.284081</td>\n",
       "      <td>5.18365</td>\n",
       "    </tr>\n",
       "    <tr>\n",
       "      <th>4</th>\n",
       "      <td>0010vwa0248ra</td>\n",
       "      <td>RWS01_MONIBAS_0010vwa0248ra</td>\n",
       "      <td>&lt;Point&gt;&lt;coordinates&gt;52.267349243164062,5.20331...</td>\n",
       "      <td>5°12'11.916\"N 52°16'2.457\"E</td>\n",
       "      <td>POINT(52.2673492431641 5.20331001281738)</td>\n",
       "      <td>52.267349</td>\n",
       "      <td>5.20331</td>\n",
       "    </tr>\n",
       "    <tr>\n",
       "      <th>5</th>\n",
       "      <td>0010vwa0269ra</td>\n",
       "      <td>RWS01_MONIBAS_0010vwa0269ra</td>\n",
       "      <td>&lt;Point&gt;&lt;coordinates&gt;52.249340057373047,5.21355...</td>\n",
       "      <td>5°12'48.780\"N 52°14'57.624\"E</td>\n",
       "      <td>POINT(52.249340057373 5.21355009078979)</td>\n",
       "      <td>52.249340</td>\n",
       "      <td>5.21355</td>\n",
       "    </tr>\n",
       "  </tbody>\n",
       "</table>\n",
       "</div>"
      ],
      "text/plain": [
       "             name                        ndwid  \\\n",
       "id                                               \n",
       "1   0010vwa0056ra  RWS01_MONIBAS_0010vwa0056ra   \n",
       "2   0010vwa0065ra  RWS01_MONIBAS_0010vwa0065ra   \n",
       "3   0010vwa0223ra  RWS01_MONIBAS_0010vwa0223ra   \n",
       "4   0010vwa0248ra  RWS01_MONIBAS_0010vwa0248ra   \n",
       "5   0010vwa0269ra  RWS01_MONIBAS_0010vwa0269ra   \n",
       "\n",
       "                                             st_askml  \\\n",
       "id                                                      \n",
       "1   <Point><coordinates>52.345428466796875,4.97720...   \n",
       "2   <Point><coordinates>52.339141845703125,4.98615...   \n",
       "3   <Point><coordinates>52.284080505371094,5.18365...   \n",
       "4   <Point><coordinates>52.267349243164062,5.20331...   \n",
       "5   <Point><coordinates>52.249340057373047,5.21355...   \n",
       "\n",
       "                 st_aslatlontext                                  geometry  \\\n",
       "id                                                                           \n",
       "1   4°58'37.920\"N 52°20'43.542\"E  POINT(52.3454284667969 4.97720003128052)   \n",
       "2   4°59'10.175\"N 52°20'20.911\"E  POINT(52.3391418457031 4.98615980148315)   \n",
       "3     5°11'1.140\"N 52°17'2.690\"E  POINT(52.2840805053711 5.18365001678467)   \n",
       "4    5°12'11.916\"N 52°16'2.457\"E  POINT(52.2673492431641 5.20331001281738)   \n",
       "5   5°12'48.780\"N 52°14'57.624\"E   POINT(52.249340057373 5.21355009078979)   \n",
       "\n",
       "     latitude  longitude  \n",
       "id                        \n",
       "1   52.345428    4.97720  \n",
       "2   52.339142    4.98616  \n",
       "3   52.284081    5.18365  \n",
       "4   52.267349    5.20331  \n",
       "5   52.249340    5.21355  "
      ]
     },
     "execution_count": 14,
     "metadata": {},
     "output_type": "execute_result"
    }
   ],
   "source": [
    "mdf['latitude'] = ser.apply(lambda p: float(p[0]))\n",
    "mdf['longitude'] = ser.apply(lambda p: float(p[1]))\n",
    "# mdf.drop(['location'], axis=1, inplace=True)\n",
    "mdf.head()"
   ]
  },
  {
   "cell_type": "markdown",
   "metadata": {},
   "source": [
    "\n",
    "#### Convert to geopandas.GeoDataFrame"
   ]
  },
  {
   "cell_type": "code",
   "execution_count": 26,
   "metadata": {
    "collapsed": false
   },
   "outputs": [
    {
     "data": {
      "text/html": [
       "<div>\n",
       "<table border=\"1\" class=\"dataframe\">\n",
       "  <thead>\n",
       "    <tr style=\"text-align: right;\">\n",
       "      <th></th>\n",
       "      <th>id</th>\n",
       "      <th>ndwid</th>\n",
       "      <th>name</th>\n",
       "      <th>location</th>\n",
       "      <th>st_askml</th>\n",
       "      <th>st_aslatlontext</th>\n",
       "    </tr>\n",
       "  </thead>\n",
       "  <tbody>\n",
       "    <tr>\n",
       "      <th>0</th>\n",
       "      <td>1</td>\n",
       "      <td>RWS01_MONIBAS_0010vwa0056ra</td>\n",
       "      <td>0010vwa0056ra</td>\n",
       "      <td>POINT (52.34542846679688 4.977200031280518)</td>\n",
       "      <td>&lt;Point&gt;&lt;coordinates&gt;52.345428466796875,4.97720...</td>\n",
       "      <td>4°58'37.920\"N 52°20'43.542\"E</td>\n",
       "    </tr>\n",
       "    <tr>\n",
       "      <th>1</th>\n",
       "      <td>2</td>\n",
       "      <td>RWS01_MONIBAS_0010vwa0065ra</td>\n",
       "      <td>0010vwa0065ra</td>\n",
       "      <td>POINT (52.33914184570312 4.986159801483154)</td>\n",
       "      <td>&lt;Point&gt;&lt;coordinates&gt;52.339141845703125,4.98615...</td>\n",
       "      <td>4°59'10.175\"N 52°20'20.911\"E</td>\n",
       "    </tr>\n",
       "    <tr>\n",
       "      <th>2</th>\n",
       "      <td>3</td>\n",
       "      <td>RWS01_MONIBAS_0010vwa0223ra</td>\n",
       "      <td>0010vwa0223ra</td>\n",
       "      <td>POINT (52.28408050537109 5.183650016784668)</td>\n",
       "      <td>&lt;Point&gt;&lt;coordinates&gt;52.284080505371094,5.18365...</td>\n",
       "      <td>5°11'1.140\"N 52°17'2.690\"E</td>\n",
       "    </tr>\n",
       "    <tr>\n",
       "      <th>3</th>\n",
       "      <td>4</td>\n",
       "      <td>RWS01_MONIBAS_0010vwa0248ra</td>\n",
       "      <td>0010vwa0248ra</td>\n",
       "      <td>POINT (52.26734924316406 5.203310012817383)</td>\n",
       "      <td>&lt;Point&gt;&lt;coordinates&gt;52.267349243164062,5.20331...</td>\n",
       "      <td>5°12'11.916\"N 52°16'2.457\"E</td>\n",
       "    </tr>\n",
       "    <tr>\n",
       "      <th>4</th>\n",
       "      <td>5</td>\n",
       "      <td>RWS01_MONIBAS_0010vwa0269ra</td>\n",
       "      <td>0010vwa0269ra</td>\n",
       "      <td>POINT (52.24934005737305 5.213550090789795)</td>\n",
       "      <td>&lt;Point&gt;&lt;coordinates&gt;52.249340057373047,5.21355...</td>\n",
       "      <td>5°12'48.780\"N 52°14'57.624\"E</td>\n",
       "    </tr>\n",
       "  </tbody>\n",
       "</table>\n",
       "</div>"
      ],
      "text/plain": [
       "   id                        ndwid           name  \\\n",
       "0   1  RWS01_MONIBAS_0010vwa0056ra  0010vwa0056ra   \n",
       "1   2  RWS01_MONIBAS_0010vwa0065ra  0010vwa0065ra   \n",
       "2   3  RWS01_MONIBAS_0010vwa0223ra  0010vwa0223ra   \n",
       "3   4  RWS01_MONIBAS_0010vwa0248ra  0010vwa0248ra   \n",
       "4   5  RWS01_MONIBAS_0010vwa0269ra  0010vwa0269ra   \n",
       "\n",
       "                                      location  \\\n",
       "0  POINT (52.34542846679688 4.977200031280518)   \n",
       "1  POINT (52.33914184570312 4.986159801483154)   \n",
       "2  POINT (52.28408050537109 5.183650016784668)   \n",
       "3  POINT (52.26734924316406 5.203310012817383)   \n",
       "4  POINT (52.24934005737305 5.213550090789795)   \n",
       "\n",
       "                                            st_askml  \\\n",
       "0  <Point><coordinates>52.345428466796875,4.97720...   \n",
       "1  <Point><coordinates>52.339141845703125,4.98615...   \n",
       "2  <Point><coordinates>52.284080505371094,5.18365...   \n",
       "3  <Point><coordinates>52.267349243164062,5.20331...   \n",
       "4  <Point><coordinates>52.249340057373047,5.21355...   \n",
       "\n",
       "                st_aslatlontext  \n",
       "0  4°58'37.920\"N 52°20'43.542\"E  \n",
       "1  4°59'10.175\"N 52°20'20.911\"E  \n",
       "2    5°11'1.140\"N 52°17'2.690\"E  \n",
       "3   5°12'11.916\"N 52°16'2.457\"E  \n",
       "4  5°12'48.780\"N 52°14'57.624\"E  "
      ]
     },
     "execution_count": 26,
     "metadata": {},
     "output_type": "execute_result"
    }
   ],
   "source": [
    "con = psycopg2.connect(database='companion',\n",
    "                       user='postgres',\n",
    "                       password='snt',\n",
    "                       host='0.0.0.0',\n",
    "                       port='32768')\n",
    "\n",
    "qry = \"SELECT id, ndwid, name, location, ST_AsKML(location), ST_AsLatLonText(location) FROM measurementsite;\"\n",
    "\n",
    "mdf = gp.GeoDataFrame.from_postgis(qry, con, geom_col='location')\n",
    "mdf.head()"
   ]
  },
  {
   "cell_type": "code",
   "execution_count": 27,
   "metadata": {
    "collapsed": false
   },
   "outputs": [
    {
     "name": "stdout",
     "output_type": "stream",
     "text": [
      "<class 'geopandas.geodataframe.GeoDataFrame'>\n",
      "RangeIndex: 17651 entries, 0 to 17650\n",
      "Data columns (total 6 columns):\n",
      "id                 17651 non-null int64\n",
      "ndwid              17651 non-null object\n",
      "name               17651 non-null object\n",
      "location           17651 non-null object\n",
      "st_askml           17651 non-null object\n",
      "st_aslatlontext    17651 non-null object\n",
      "dtypes: int64(1), object(5)\n",
      "memory usage: 827.5+ KB\n"
     ]
    }
   ],
   "source": [
    "mdf.info()"
   ]
  },
  {
   "cell_type": "code",
   "execution_count": 40,
   "metadata": {
    "collapsed": true
   },
   "outputs": [],
   "source": [
    "def parse(row):\n",
    "#     print(row)\n",
    "    name = row['ndwid']\n",
    "    kml = row['st_askml']\n",
    "    result = '<Placemark id=\"{}\">'.format(name)\n",
    "    result += kml\n",
    "    result += '</Placemark>'\n",
    "    return result"
   ]
  },
  {
   "cell_type": "code",
   "execution_count": 42,
   "metadata": {
    "collapsed": false
   },
   "outputs": [
    {
     "data": {
      "text/html": [
       "<div>\n",
       "<table border=\"1\" class=\"dataframe\">\n",
       "  <thead>\n",
       "    <tr style=\"text-align: right;\">\n",
       "      <th></th>\n",
       "      <th>id</th>\n",
       "      <th>ndwid</th>\n",
       "      <th>name</th>\n",
       "      <th>location</th>\n",
       "      <th>st_askml</th>\n",
       "      <th>st_aslatlontext</th>\n",
       "      <th>kml_element</th>\n",
       "    </tr>\n",
       "  </thead>\n",
       "  <tbody>\n",
       "    <tr>\n",
       "      <th>0</th>\n",
       "      <td>1</td>\n",
       "      <td>RWS01_MONIBAS_0010vwa0056ra</td>\n",
       "      <td>0010vwa0056ra</td>\n",
       "      <td>POINT (52.34542846679688 4.977200031280518)</td>\n",
       "      <td>&lt;Point&gt;&lt;coordinates&gt;52.345428466796875,4.97720...</td>\n",
       "      <td>4°58'37.920\"N 52°20'43.542\"E</td>\n",
       "      <td>&lt;Placemark id=\"RWS01_MONIBAS_0010vwa0056ra\"&gt;&lt;P...</td>\n",
       "    </tr>\n",
       "    <tr>\n",
       "      <th>1</th>\n",
       "      <td>2</td>\n",
       "      <td>RWS01_MONIBAS_0010vwa0065ra</td>\n",
       "      <td>0010vwa0065ra</td>\n",
       "      <td>POINT (52.33914184570312 4.986159801483154)</td>\n",
       "      <td>&lt;Point&gt;&lt;coordinates&gt;52.339141845703125,4.98615...</td>\n",
       "      <td>4°59'10.175\"N 52°20'20.911\"E</td>\n",
       "      <td>&lt;Placemark id=\"RWS01_MONIBAS_0010vwa0065ra\"&gt;&lt;P...</td>\n",
       "    </tr>\n",
       "    <tr>\n",
       "      <th>2</th>\n",
       "      <td>3</td>\n",
       "      <td>RWS01_MONIBAS_0010vwa0223ra</td>\n",
       "      <td>0010vwa0223ra</td>\n",
       "      <td>POINT (52.28408050537109 5.183650016784668)</td>\n",
       "      <td>&lt;Point&gt;&lt;coordinates&gt;52.284080505371094,5.18365...</td>\n",
       "      <td>5°11'1.140\"N 52°17'2.690\"E</td>\n",
       "      <td>&lt;Placemark id=\"RWS01_MONIBAS_0010vwa0223ra\"&gt;&lt;P...</td>\n",
       "    </tr>\n",
       "    <tr>\n",
       "      <th>3</th>\n",
       "      <td>4</td>\n",
       "      <td>RWS01_MONIBAS_0010vwa0248ra</td>\n",
       "      <td>0010vwa0248ra</td>\n",
       "      <td>POINT (52.26734924316406 5.203310012817383)</td>\n",
       "      <td>&lt;Point&gt;&lt;coordinates&gt;52.267349243164062,5.20331...</td>\n",
       "      <td>5°12'11.916\"N 52°16'2.457\"E</td>\n",
       "      <td>&lt;Placemark id=\"RWS01_MONIBAS_0010vwa0248ra\"&gt;&lt;P...</td>\n",
       "    </tr>\n",
       "    <tr>\n",
       "      <th>4</th>\n",
       "      <td>5</td>\n",
       "      <td>RWS01_MONIBAS_0010vwa0269ra</td>\n",
       "      <td>0010vwa0269ra</td>\n",
       "      <td>POINT (52.24934005737305 5.213550090789795)</td>\n",
       "      <td>&lt;Point&gt;&lt;coordinates&gt;52.249340057373047,5.21355...</td>\n",
       "      <td>5°12'48.780\"N 52°14'57.624\"E</td>\n",
       "      <td>&lt;Placemark id=\"RWS01_MONIBAS_0010vwa0269ra\"&gt;&lt;P...</td>\n",
       "    </tr>\n",
       "  </tbody>\n",
       "</table>\n",
       "</div>"
      ],
      "text/plain": [
       "   id                        ndwid           name  \\\n",
       "0   1  RWS01_MONIBAS_0010vwa0056ra  0010vwa0056ra   \n",
       "1   2  RWS01_MONIBAS_0010vwa0065ra  0010vwa0065ra   \n",
       "2   3  RWS01_MONIBAS_0010vwa0223ra  0010vwa0223ra   \n",
       "3   4  RWS01_MONIBAS_0010vwa0248ra  0010vwa0248ra   \n",
       "4   5  RWS01_MONIBAS_0010vwa0269ra  0010vwa0269ra   \n",
       "\n",
       "                                      location  \\\n",
       "0  POINT (52.34542846679688 4.977200031280518)   \n",
       "1  POINT (52.33914184570312 4.986159801483154)   \n",
       "2  POINT (52.28408050537109 5.183650016784668)   \n",
       "3  POINT (52.26734924316406 5.203310012817383)   \n",
       "4  POINT (52.24934005737305 5.213550090789795)   \n",
       "\n",
       "                                            st_askml  \\\n",
       "0  <Point><coordinates>52.345428466796875,4.97720...   \n",
       "1  <Point><coordinates>52.339141845703125,4.98615...   \n",
       "2  <Point><coordinates>52.284080505371094,5.18365...   \n",
       "3  <Point><coordinates>52.267349243164062,5.20331...   \n",
       "4  <Point><coordinates>52.249340057373047,5.21355...   \n",
       "\n",
       "                st_aslatlontext  \\\n",
       "0  4°58'37.920\"N 52°20'43.542\"E   \n",
       "1  4°59'10.175\"N 52°20'20.911\"E   \n",
       "2    5°11'1.140\"N 52°17'2.690\"E   \n",
       "3   5°12'11.916\"N 52°16'2.457\"E   \n",
       "4  5°12'48.780\"N 52°14'57.624\"E   \n",
       "\n",
       "                                         kml_element  \n",
       "0  <Placemark id=\"RWS01_MONIBAS_0010vwa0056ra\"><P...  \n",
       "1  <Placemark id=\"RWS01_MONIBAS_0010vwa0065ra\"><P...  \n",
       "2  <Placemark id=\"RWS01_MONIBAS_0010vwa0223ra\"><P...  \n",
       "3  <Placemark id=\"RWS01_MONIBAS_0010vwa0248ra\"><P...  \n",
       "4  <Placemark id=\"RWS01_MONIBAS_0010vwa0269ra\"><P...  "
      ]
     },
     "execution_count": 42,
     "metadata": {},
     "output_type": "execute_result"
    }
   ],
   "source": [
    "mdf['kml_element'] = mdf.apply(parse, axis=1)\n",
    "mdf.head()"
   ]
  },
  {
   "cell_type": "code",
   "execution_count": 44,
   "metadata": {
    "collapsed": false
   },
   "outputs": [],
   "source": [
    "kml = mdf['kml_element']\n",
    "kml.to_csv('sites.kml')"
   ]
  },
  {
   "cell_type": "code",
   "execution_count": 57,
   "metadata": {
    "collapsed": false
   },
   "outputs": [
    {
     "data": {
      "text/html": [
       "<div>\n",
       "<table border=\"1\" class=\"dataframe\">\n",
       "  <thead>\n",
       "    <tr style=\"text-align: right;\">\n",
       "      <th></th>\n",
       "      <th>Name</th>\n",
       "      <th>geometry</th>\n",
       "    </tr>\n",
       "  </thead>\n",
       "  <tbody>\n",
       "    <tr>\n",
       "      <th>0</th>\n",
       "      <td>selection</td>\n",
       "      <td>POLYGON Z ((4.322742733269624 52.0722001465526...</td>\n",
       "    </tr>\n",
       "  </tbody>\n",
       "</table>\n",
       "</div>"
      ],
      "text/plain": [
       "        Name                                           geometry\n",
       "0  selection  POLYGON Z ((4.322742733269624 52.0722001465526..."
      ]
     },
     "execution_count": 57,
     "metadata": {},
     "output_type": "execute_result"
    }
   ],
   "source": [
    "selection = gp.read_file('../selection.geojson')[['Name', 'geometry']]\n",
    "selection.head()"
   ]
  },
  {
   "cell_type": "code",
   "execution_count": 58,
   "metadata": {
    "collapsed": false
   },
   "outputs": [
    {
     "name": "stderr",
     "output_type": "stream",
     "text": [
      "/usr/local/share/miniconda/envs/companionenv/lib/python3.5/site-packages/geopandas/base.py:30: UserWarning:\n",
      "\n",
      "GeoSeries crs mismatch: None and {'init': 'epsg:4326'}\n",
      "\n"
     ]
    },
    {
     "data": {
      "text/html": [
       "<div>\n",
       "<table border=\"1\" class=\"dataframe\">\n",
       "  <thead>\n",
       "    <tr style=\"text-align: right;\">\n",
       "      <th></th>\n",
       "      <th>id</th>\n",
       "      <th>ndwid</th>\n",
       "      <th>name</th>\n",
       "      <th>location</th>\n",
       "      <th>st_askml</th>\n",
       "      <th>st_aslatlontext</th>\n",
       "      <th>kml_element</th>\n",
       "    </tr>\n",
       "  </thead>\n",
       "  <tbody>\n",
       "    <tr>\n",
       "      <th>1</th>\n",
       "      <td>2</td>\n",
       "      <td>RWS01_MONIBAS_0010vwa0065ra</td>\n",
       "      <td>0010vwa0065ra</td>\n",
       "      <td>POINT (52.33914184570312 4.986159801483154)</td>\n",
       "      <td>&lt;Point&gt;&lt;coordinates&gt;52.339141845703125,4.98615...</td>\n",
       "      <td>4°59'10.175\"N 52°20'20.911\"E</td>\n",
       "      <td>&lt;Placemark id=\"RWS01_MONIBAS_0010vwa0065ra\"&gt;&lt;P...</td>\n",
       "    </tr>\n",
       "    <tr>\n",
       "      <th>2</th>\n",
       "      <td>3</td>\n",
       "      <td>RWS01_MONIBAS_0010vwa0223ra</td>\n",
       "      <td>0010vwa0223ra</td>\n",
       "      <td>POINT (52.28408050537109 5.183650016784668)</td>\n",
       "      <td>&lt;Point&gt;&lt;coordinates&gt;52.284080505371094,5.18365...</td>\n",
       "      <td>5°11'1.140\"N 52°17'2.690\"E</td>\n",
       "      <td>&lt;Placemark id=\"RWS01_MONIBAS_0010vwa0223ra\"&gt;&lt;P...</td>\n",
       "    </tr>\n",
       "    <tr>\n",
       "      <th>3</th>\n",
       "      <td>4</td>\n",
       "      <td>RWS01_MONIBAS_0010vwa0248ra</td>\n",
       "      <td>0010vwa0248ra</td>\n",
       "      <td>POINT (52.26734924316406 5.203310012817383)</td>\n",
       "      <td>&lt;Point&gt;&lt;coordinates&gt;52.267349243164062,5.20331...</td>\n",
       "      <td>5°12'11.916\"N 52°16'2.457\"E</td>\n",
       "      <td>&lt;Placemark id=\"RWS01_MONIBAS_0010vwa0248ra\"&gt;&lt;P...</td>\n",
       "    </tr>\n",
       "    <tr>\n",
       "      <th>4</th>\n",
       "      <td>5</td>\n",
       "      <td>RWS01_MONIBAS_0010vwa0269ra</td>\n",
       "      <td>0010vwa0269ra</td>\n",
       "      <td>POINT (52.24934005737305 5.213550090789795)</td>\n",
       "      <td>&lt;Point&gt;&lt;coordinates&gt;52.249340057373047,5.21355...</td>\n",
       "      <td>5°12'48.780\"N 52°14'57.624\"E</td>\n",
       "      <td>&lt;Placemark id=\"RWS01_MONIBAS_0010vwa0269ra\"&gt;&lt;P...</td>\n",
       "    </tr>\n",
       "    <tr>\n",
       "      <th>5</th>\n",
       "      <td>6</td>\n",
       "      <td>RWS01_MONIBAS_0010vwa0286ra</td>\n",
       "      <td>0010vwa0286ra</td>\n",
       "      <td>POINT (52.23783111572266 5.22790002822876)</td>\n",
       "      <td>&lt;Point&gt;&lt;coordinates&gt;52.237831115722656,5.22790...</td>\n",
       "      <td>5°13'40.440\"N 52°14'16.192\"E</td>\n",
       "      <td>&lt;Placemark id=\"RWS01_MONIBAS_0010vwa0286ra\"&gt;&lt;P...</td>\n",
       "    </tr>\n",
       "  </tbody>\n",
       "</table>\n",
       "</div>"
      ],
      "text/plain": [
       "   id                        ndwid           name  \\\n",
       "1   2  RWS01_MONIBAS_0010vwa0065ra  0010vwa0065ra   \n",
       "2   3  RWS01_MONIBAS_0010vwa0223ra  0010vwa0223ra   \n",
       "3   4  RWS01_MONIBAS_0010vwa0248ra  0010vwa0248ra   \n",
       "4   5  RWS01_MONIBAS_0010vwa0269ra  0010vwa0269ra   \n",
       "5   6  RWS01_MONIBAS_0010vwa0286ra  0010vwa0286ra   \n",
       "\n",
       "                                      location  \\\n",
       "1  POINT (52.33914184570312 4.986159801483154)   \n",
       "2  POINT (52.28408050537109 5.183650016784668)   \n",
       "3  POINT (52.26734924316406 5.203310012817383)   \n",
       "4  POINT (52.24934005737305 5.213550090789795)   \n",
       "5   POINT (52.23783111572266 5.22790002822876)   \n",
       "\n",
       "                                            st_askml  \\\n",
       "1  <Point><coordinates>52.339141845703125,4.98615...   \n",
       "2  <Point><coordinates>52.284080505371094,5.18365...   \n",
       "3  <Point><coordinates>52.267349243164062,5.20331...   \n",
       "4  <Point><coordinates>52.249340057373047,5.21355...   \n",
       "5  <Point><coordinates>52.237831115722656,5.22790...   \n",
       "\n",
       "                st_aslatlontext  \\\n",
       "1  4°59'10.175\"N 52°20'20.911\"E   \n",
       "2    5°11'1.140\"N 52°17'2.690\"E   \n",
       "3   5°12'11.916\"N 52°16'2.457\"E   \n",
       "4  5°12'48.780\"N 52°14'57.624\"E   \n",
       "5  5°13'40.440\"N 52°14'16.192\"E   \n",
       "\n",
       "                                         kml_element  \n",
       "1  <Placemark id=\"RWS01_MONIBAS_0010vwa0065ra\"><P...  \n",
       "2  <Placemark id=\"RWS01_MONIBAS_0010vwa0223ra\"><P...  \n",
       "3  <Placemark id=\"RWS01_MONIBAS_0010vwa0248ra\"><P...  \n",
       "4  <Placemark id=\"RWS01_MONIBAS_0010vwa0269ra\"><P...  \n",
       "5  <Placemark id=\"RWS01_MONIBAS_0010vwa0286ra\"><P...  "
      ]
     },
     "execution_count": 58,
     "metadata": {},
     "output_type": "execute_result"
    }
   ],
   "source": [
    "selected_sites = mdf[mdf['location'] == (mdf['location'].geometry - polygon.geometry)]\n",
    "selected_sites.head()"
   ]
  },
  {
   "cell_type": "code",
   "execution_count": 61,
   "metadata": {
    "collapsed": false
   },
   "outputs": [],
   "source": [
    "selected_sites_names = selected_sites['ndwid']"
   ]
  },
  {
   "cell_type": "markdown",
   "metadata": {
    "collapsed": true
   },
   "source": [
    "#### We use geopandas and matplotlib to mark the sites "
   ]
  },
  {
   "cell_type": "code",
   "execution_count": 11,
   "metadata": {
    "collapsed": false
   },
   "outputs": [
    {
     "data": {
      "text/plain": [
       "0    LINESTRING Z (3.59686374664 51.4568066597 0, 3...\n",
       "1    LINESTRING Z (3.59685301781 51.4569568634 0, 3...\n",
       "2    LINESTRING Z (3.86214494705 51.4839291573 0, 3...\n",
       "3    LINESTRING Z (3.87001991272 51.4827382565 0, 3...\n",
       "4    LINESTRING Z (3.87071728706 51.486364603 0, 3....\n",
       "Name: geometry, dtype: object"
      ]
     },
     "execution_count": 11,
     "metadata": {},
     "output_type": "execute_result"
    }
   ],
   "source": [
    "rdw = gp.GeoDataFrame.from_file(str(RDW_FILEPATH))['geometry']\n",
    "rdw.head()"
   ]
  },
  {
   "cell_type": "code",
   "execution_count": 17,
   "metadata": {
    "collapsed": false
   },
   "outputs": [
    {
     "data": {
      "image/png": "[encoded data removed]",
      "text/plain": [
       "<matplotlib.figure.Figure at 0x11d59dd68>"
      ]
     },
     "metadata": {},
     "output_type": "display_data"
    }
   ],
   "source": [
    "roads = rdw.plot()"
   ]
  },
  {
   "cell_type": "code",
   "execution_count": 20,
   "metadata": {
    "collapsed": true
   },
   "outputs": [],
   "source": [
    "mdf.plot?"
   ]
  },
  {
   "cell_type": "code",
   "execution_count": 26,
   "metadata": {
    "collapsed": false
   },
   "outputs": [
    {
     "ename": "AttributeError",
     "evalue": "'str' object has no attribute 'type'",
     "output_type": "error",
     "traceback": [
      "\u001b[0;31m---------------------------------------------------------------------------\u001b[0m",
      "\u001b[0;31mAttributeError\u001b[0m                            Traceback (most recent call last)",
      "\u001b[0;32m<ipython-input-26-1fa8c1e99365>\u001b[0m in \u001b[0;36m<module>\u001b[0;34m()\u001b[0m\n\u001b[0;32m----> 1\u001b[0;31m \u001b[0msites\u001b[0m \u001b[0;34m=\u001b[0m \u001b[0mmdf\u001b[0m\u001b[0;34m.\u001b[0m\u001b[0mplot\u001b[0m\u001b[0;34m(\u001b[0m\u001b[0;34m)\u001b[0m\u001b[0;34m\u001b[0m\u001b[0m\n\u001b[0m",
      "\u001b[0;32m/Users/eltdassen/Applications/anaconda/envs/mlenv/lib/python3.5/site-packages/geopandas/geodataframe.py\u001b[0m in \u001b[0;36mplot\u001b[0;34m(self, *args, **kwargs)\u001b[0m\n\u001b[1;32m    379\u001b[0m \u001b[0;34m\u001b[0m\u001b[0m\n\u001b[1;32m    380\u001b[0m     \u001b[0;32mdef\u001b[0m \u001b[0mplot\u001b[0m\u001b[0;34m(\u001b[0m\u001b[0mself\u001b[0m\u001b[0;34m,\u001b[0m \u001b[0;34m*\u001b[0m\u001b[0margs\u001b[0m\u001b[0;34m,\u001b[0m \u001b[0;34m**\u001b[0m\u001b[0mkwargs\u001b[0m\u001b[0;34m)\u001b[0m\u001b[0;34m:\u001b[0m\u001b[0;34m\u001b[0m\u001b[0m\n\u001b[0;32m--> 381\u001b[0;31m         \u001b[0;32mreturn\u001b[0m \u001b[0mplot_dataframe\u001b[0m\u001b[0;34m(\u001b[0m\u001b[0mself\u001b[0m\u001b[0;34m,\u001b[0m \u001b[0;34m*\u001b[0m\u001b[0margs\u001b[0m\u001b[0;34m,\u001b[0m \u001b[0;34m**\u001b[0m\u001b[0mkwargs\u001b[0m\u001b[0;34m)\u001b[0m\u001b[0;34m\u001b[0m\u001b[0m\n\u001b[0m\u001b[1;32m    382\u001b[0m \u001b[0;34m\u001b[0m\u001b[0m\n\u001b[1;32m    383\u001b[0m \u001b[0;32mdef\u001b[0m \u001b[0m_dataframe_set_geometry\u001b[0m\u001b[0;34m(\u001b[0m\u001b[0mself\u001b[0m\u001b[0;34m,\u001b[0m \u001b[0mcol\u001b[0m\u001b[0;34m,\u001b[0m \u001b[0mdrop\u001b[0m\u001b[0;34m=\u001b[0m\u001b[0;32mFalse\u001b[0m\u001b[0;34m,\u001b[0m \u001b[0minplace\u001b[0m\u001b[0;34m=\u001b[0m\u001b[0;32mFalse\u001b[0m\u001b[0;34m,\u001b[0m \u001b[0mcrs\u001b[0m\u001b[0;34m=\u001b[0m\u001b[0;32mNone\u001b[0m\u001b[0;34m)\u001b[0m\u001b[0;34m:\u001b[0m\u001b[0;34m\u001b[0m\u001b[0m\n",
      "\u001b[0;32m/Users/eltdassen/Applications/anaconda/envs/mlenv/lib/python3.5/site-packages/geopandas/plotting.py\u001b[0m in \u001b[0;36mplot_dataframe\u001b[0;34m(s, column, colormap, alpha, categorical, legend, axes, scheme, k)\u001b[0m\n\u001b[1;32m    178\u001b[0m \u001b[0;34m\u001b[0m\u001b[0m\n\u001b[1;32m    179\u001b[0m     \u001b[0;32mif\u001b[0m \u001b[0mcolumn\u001b[0m \u001b[0;32mis\u001b[0m \u001b[0;32mNone\u001b[0m\u001b[0;34m:\u001b[0m\u001b[0;34m\u001b[0m\u001b[0m\n\u001b[0;32m--> 180\u001b[0;31m         \u001b[0;32mreturn\u001b[0m \u001b[0mplot_series\u001b[0m\u001b[0;34m(\u001b[0m\u001b[0ms\u001b[0m\u001b[0;34m.\u001b[0m\u001b[0mgeometry\u001b[0m\u001b[0;34m,\u001b[0m \u001b[0mcolormap\u001b[0m\u001b[0;34m=\u001b[0m\u001b[0mcolormap\u001b[0m\u001b[0;34m,\u001b[0m \u001b[0malpha\u001b[0m\u001b[0;34m=\u001b[0m\u001b[0malpha\u001b[0m\u001b[0;34m,\u001b[0m \u001b[0maxes\u001b[0m\u001b[0;34m=\u001b[0m\u001b[0maxes\u001b[0m\u001b[0;34m)\u001b[0m\u001b[0;34m\u001b[0m\u001b[0m\n\u001b[0m\u001b[1;32m    181\u001b[0m     \u001b[0;32melse\u001b[0m\u001b[0;34m:\u001b[0m\u001b[0;34m\u001b[0m\u001b[0m\n\u001b[1;32m    182\u001b[0m         \u001b[0;32mif\u001b[0m \u001b[0ms\u001b[0m\u001b[0;34m[\u001b[0m\u001b[0mcolumn\u001b[0m\u001b[0;34m]\u001b[0m\u001b[0;34m.\u001b[0m\u001b[0mdtype\u001b[0m \u001b[0;32mis\u001b[0m \u001b[0mnp\u001b[0m\u001b[0;34m.\u001b[0m\u001b[0mdtype\u001b[0m\u001b[0;34m(\u001b[0m\u001b[0;34m'O'\u001b[0m\u001b[0;34m)\u001b[0m\u001b[0;34m:\u001b[0m\u001b[0;34m\u001b[0m\u001b[0m\n",
      "\u001b[0;32m/Users/eltdassen/Applications/anaconda/envs/mlenv/lib/python3.5/site-packages/geopandas/plotting.py\u001b[0m in \u001b[0;36mplot_series\u001b[0;34m(s, colormap, alpha, axes)\u001b[0m\n\u001b[1;32m    110\u001b[0m     \u001b[0mcolor\u001b[0m \u001b[0;34m=\u001b[0m \u001b[0mgencolor\u001b[0m\u001b[0;34m(\u001b[0m\u001b[0mlen\u001b[0m\u001b[0;34m(\u001b[0m\u001b[0ms\u001b[0m\u001b[0;34m)\u001b[0m\u001b[0;34m,\u001b[0m \u001b[0mcolormap\u001b[0m\u001b[0;34m=\u001b[0m\u001b[0mcolormap\u001b[0m\u001b[0;34m)\u001b[0m\u001b[0;34m\u001b[0m\u001b[0m\n\u001b[1;32m    111\u001b[0m     \u001b[0;32mfor\u001b[0m \u001b[0mgeom\u001b[0m \u001b[0;32min\u001b[0m \u001b[0ms\u001b[0m\u001b[0;34m:\u001b[0m\u001b[0;34m\u001b[0m\u001b[0m\n\u001b[0;32m--> 112\u001b[0;31m         \u001b[0;32mif\u001b[0m \u001b[0mgeom\u001b[0m\u001b[0;34m.\u001b[0m\u001b[0mtype\u001b[0m \u001b[0;34m==\u001b[0m \u001b[0;34m'Polygon'\u001b[0m \u001b[0;32mor\u001b[0m \u001b[0mgeom\u001b[0m\u001b[0;34m.\u001b[0m\u001b[0mtype\u001b[0m \u001b[0;34m==\u001b[0m \u001b[0;34m'MultiPolygon'\u001b[0m\u001b[0;34m:\u001b[0m\u001b[0;34m\u001b[0m\u001b[0m\n\u001b[0m\u001b[1;32m    113\u001b[0m             \u001b[0mplot_multipolygon\u001b[0m\u001b[0;34m(\u001b[0m\u001b[0max\u001b[0m\u001b[0;34m,\u001b[0m \u001b[0mgeom\u001b[0m\u001b[0;34m,\u001b[0m \u001b[0mfacecolor\u001b[0m\u001b[0;34m=\u001b[0m\u001b[0mnext\u001b[0m\u001b[0;34m(\u001b[0m\u001b[0mcolor\u001b[0m\u001b[0;34m)\u001b[0m\u001b[0;34m,\u001b[0m \u001b[0malpha\u001b[0m\u001b[0;34m=\u001b[0m\u001b[0malpha\u001b[0m\u001b[0;34m)\u001b[0m\u001b[0;34m\u001b[0m\u001b[0m\n\u001b[1;32m    114\u001b[0m         \u001b[0;32melif\u001b[0m \u001b[0mgeom\u001b[0m\u001b[0;34m.\u001b[0m\u001b[0mtype\u001b[0m \u001b[0;34m==\u001b[0m \u001b[0;34m'LineString'\u001b[0m \u001b[0;32mor\u001b[0m \u001b[0mgeom\u001b[0m\u001b[0;34m.\u001b[0m\u001b[0mtype\u001b[0m \u001b[0;34m==\u001b[0m \u001b[0;34m'MultiLineString'\u001b[0m\u001b[0;34m:\u001b[0m\u001b[0;34m\u001b[0m\u001b[0m\n",
      "\u001b[0;31mAttributeError\u001b[0m: 'str' object has no attribute 'type'"
     ]
    },
    {
     "data": {
      "image/png": "[encoded data removed]",
      "text/plain": [
       "<matplotlib.figure.Figure at 0x120fd9a90>"
      ]
     },
     "metadata": {},
     "output_type": "display_data"
    }
   ],
   "source": [
    "sites = mdf.plot()"
   ]
  },
  {
   "cell_type": "code",
   "execution_count": null,
   "metadata": {
    "collapsed": true
   },
   "outputs": [],
   "source": []
  },
  {
   "cell_type": "code",
   "execution_count": null,
   "metadata": {
    "collapsed": true
   },
   "outputs": [],
   "source": []
  }
 ],
 "metadata": {
  "kernelspec": {
   "display_name": "companionenv",
   "language": "python",
   "name": "companionenv"
  },
  "language_info": {
   "codemirror_mode": {
    "name": "ipython",
    "version": 3
   },
   "file_extension": ".py",
   "mimetype": "text/x-python",
   "name": "python",
   "nbconvert_exporter": "python",
   "pygments_lexer": "ipython3",
   "version": "3.5.2"
  }
 },
 "nbformat": 4,
 "nbformat_minor": 0
}
