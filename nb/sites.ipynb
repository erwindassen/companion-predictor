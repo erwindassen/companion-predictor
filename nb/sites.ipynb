{
 "cells": [
  {
   "cell_type": "code",
   "execution_count": 5,
   "metadata": {
    "collapsed": false
   },
   "outputs": [
    {
     "data": {
      "text/html": [
       "<style>/*\n",
       "  Dark theme for Jupyter Notebook/iPython 4\n",
       "  Author: Theodore Pak\n",
       "  Repo at: https://github.com/powerpak/jupyter-dark-theme\n",
       "\n",
       "  Inspired by and adapted from the following:\n",
       "  Base16 for iPython Notebook (https://github.com/nsonnad/base16-ipython-notebook)\n",
       "  Base16 Twilight Dark, David Hart (http://hart-dev.com)\n",
       "  CodeMirror template adapted for IPython Notebook by Nikhil Sonnad (https://github.com/nsonnad/base16-ipython-notebook)\n",
       "  CodeMirror template by Jan T. Scott (https://github.com/idleberg/base16-chrome-devtools)\n",
       "  Original Base16 color scheme by Chris Kempson (https://github.com/chriskempson/base16)\n",
       "*/\n",
       "\n",
       "/*\n",
       "  SET THE CODE/MONOSPACE FONT\n",
       "\n",
       "  I prefer Bitsream Vera Sans Mono, which is freely downloadable here:\n",
       "  http://www.dafont.com/bitstream-vera-mono.font\n",
       "  However, there are plenty of alternatives at http://programmingfonts.org/\n",
       "  in which case, add your preferred font to the stack below.\n",
       "*/\n",
       "\n",
       ".CodeMirror pre, .CodeMirror-dialog, .CodeMirror-dialog .CodeMirror-search-field, .terminal-app .terminal {\n",
       "    font-family: \"Bitstream Vera Sans Mono\", Monaco, monospace;\n",
       "    font-size: 9pt;\n",
       "}\n",
       ".terminal-app .terminal { line-height: 1.3em; }\n",
       "div.output pre, div.output code, .rendered_html pre, .rendered_html code, div.completions select, div.container pre {\n",
       "  font-family: \"Bitstream Vera Sans Mono\", Monaco, monospace;\n",
       "}\n",
       "div.output pre, div.output code, .rendered_html pre, .rendered_html p code, div.completions select, div.container pre {\n",
       "    font-size: 9pt;\n",
       "}\n",
       "\n",
       "div.prompt, div.tooltiptext pre {\n",
       "    font-family: \"Bitstream Vera Sans Mono\", Monaco, monospace;\n",
       "    font-size: 8pt;\n",
       "}\n",
       "\n",
       "div.input_area {\n",
       "    border-color: rgba(0, 0, 0, 0.10);\n",
       "    background: rbga(0, 0, 0, 0.5);\n",
       "}\n",
       "\n",
       "/* GLOBALS */\n",
       "\n",
       "@media not print { body { background-color: #eee; } }\n",
       "a { color: #CF4A4C; }\n",
       "a:hover, a:focus { color: #DE6F71; }\n",
       "\n",
       "/* INTRO PAGE */\n",
       "\n",
       "body[data-notebook-path] { background-color: #222; }\n",
       "body[data-notebook-path] #header, .terminal-app #header { display: none !important; }\n",
       "\n",
       ".tabbable { color: #979797; }\n",
       ".nav-tabs { border-bottom-color: #444; }\n",
       ".nav-tabs > li > a:hover, .nav > li > a:focus {\n",
       "  background-color: #333;\n",
       "  border-color: #222 #222 #555 #222;\n",
       "}\n",
       ".nav-tabs > li.active > a, .nav-tabs > li.active > a:focus, .nav-tabs > li.active > a:hover {\n",
       "  color: #979797;\n",
       "  background-color: #444;\n",
       "  border-top-color: #444;\n",
       "  border-right-color: #444;\n",
       "  border-left-color: #444;\n",
       "}\n",
       ".list_container { border-color: #444; }\n",
       ".list_container > div { border-bottom-color: #444; }\n",
       ".list_item:hover { background-color: #333; }\n",
       ".list_header { background-color: #444; }\n",
       "#notebook_list input[type=\"checkbox\"] { opacity: 0.3; }\n",
       "#notebook_list input[type=\"checkbox\"]:checked { opacity: 1; }\n",
       ".item_icon { color: #777; }\n",
       ".panel { border-color: #444; background-color: #222; }\n",
       ".panel-default > .panel-heading { border-color: #444; }\n",
       "#site .panel-group .panel .panel-heading { background-color: #444; }\n",
       "#running .panel-group .panel .panel-body .list_container .list_item { border-bottom-color: #444; }\n",
       "\n",
       "/* Dropdown menus */\n",
       "\n",
       ".dropdown-menu {\n",
       "  background: rgba(50, 50, 50, 0.95);\n",
       "  color: #b7b7b7;\n",
       "}\n",
       ".dropdown-menu > li > a, .dropdown-submenu > a:after, .dropdown-menu > li > a:visited:after {\n",
       "  color: #b7b7b7;\n",
       "}\n",
       ".dropdown-menu .divider {\n",
       "  background-color: #444;\n",
       "}\n",
       ".dropdown-menu > li > a:hover, .dropdown-menu > li > a:focus {\n",
       "  color: #fff;\n",
       "  background-color: #444;\n",
       "}\n",
       ".dropdown-menu > li > a:hover:after, .dropdown-menu > li > a:focus:after,\n",
       ".dropdown-menu > li > a:active:after {\n",
       "  color: #fff;\n",
       "}\n",
       "\n",
       "/* TERMINAL INTERFACE */\n",
       ".terminal-app #site { background: #272727; }\n",
       ".terminal-app .terminal { background: #141414 !important; }\n",
       "\n",
       "/* NOTEBOOK AND EDITOR INTERFACE */\n",
       "\n",
       "/* comment out the following line to unhide the toolbar */\n",
       "div#maintoolbar { display: none !important; }\n",
       "\n",
       "/*\n",
       "  Header UI styles\n",
       "*/\n",
       "\n",
       "body.notebook_app > #header { display: block !important; }\n",
       ".notebook_app > #header, .edit_app > #header {\n",
       "  background-color: #333;\n",
       "  color: #b7b7b7;\n",
       "  -webkit-box-shadow: 0 6px 12px rgba(0, 0, 0, 0.3);\n",
       "  box-shadow: 0 6px 12px rgba(0, 0, 0, 0.3);\n",
       "}\n",
       ".edit_app #menubar .navbar { margin-bottom: 0; }\n",
       "body > #header .header-bar { background: #444; }\n",
       "#header .navbar-brand { display: none; }\n",
       "#header .filename { margin-left: 0; margin-right: 2em; }\n",
       "#header .current_kernel_logo { width: 24px; height: 24px; }\n",
       "span.save_widget span.filename:hover {\n",
       "  background: rgba(255, 255, 255, 0.15);\n",
       "  color: #fff;\n",
       "  text-shadow: 0px 1px 1px rgba(0, 0, 0, 0.5);\n",
       "}\n",
       ".navbar-default {\n",
       "  background: transparent;\n",
       "  color: #b7b7b7;\n",
       "  border-color: #444;\n",
       "}\n",
       ".navbar-default .navbar-nav > li > a:hover, .navbar-default .navbar-nav > li > a:focus {\n",
       "  color: #fff;\n",
       "}\n",
       ".navbar-default .navbar-nav > .open > a, .navbar-default .navbar-nav > .open > a:hover,\n",
       ".navbar-default .navbar-nav > .open > a:focus {\n",
       "  color: #fff;\n",
       "  background-color: #444;\n",
       "}\n",
       "\n",
       "@media not print {\n",
       "  .notebook_app #notebook {\n",
       "    background: #111;\n",
       "  }\n",
       "\n",
       "  .notebook_app #notebook-container, .edit_app #texteditor-backdrop {\n",
       "    background: #272727;\n",
       "  }\n",
       "}\n",
       "\n",
       "/*\n",
       "  Inverting the notebook editor UI\n",
       "*/\n",
       "\n",
       ".celltoolbar {\n",
       "  border-color: #444;\n",
       "  background: #444;\n",
       "  color: #b7b7b7;\n",
       "}\n",
       ".ctb_global_show .ctb_show ~ div.text_cell_render {\n",
       "  border-color: #444;\n",
       "}\n",
       ".celltoolbar select {\n",
       "  opacity: 0.5;\n",
       "}\n",
       "\n",
       ".modal-dialog .modal-content, .popover, .popover .popover-title {\n",
       "  background: rgba(50, 50, 50, 0.95);\n",
       "  color: #b7b7b7;\n",
       "}\n",
       ".modal-header, .popover-title {\n",
       "  border-bottom-color: #444;\n",
       "}\n",
       ".modal-footer {\n",
       "  border-top-color: #444;\n",
       "}\n",
       ".modal-dialog .close {\n",
       "  color: #fff;\n",
       "  text-shadow: 0 1px 0 #000;\n",
       "}\n",
       ".modal-dialog .alert-info {\n",
       "  background-color: #373E42;\n",
       "  color: #d9edf7;\n",
       "}\n",
       ".popover.bottom > .arrow:after {\n",
       "  border-bottom-color: #444;\n",
       "}\n",
       "\n",
       ".btn:focus, .btn:active:focus {\n",
       "  outline: 5px auto rgba(102, 175, 233, 0.3);\n",
       "  outline-offset: -1px;\n",
       "}\n",
       ".btn-default {\n",
       "  background-color: #555;\n",
       "  border-color: #222;\n",
       "  box-shadow: 0 0 1px rgba(0, 0, 0, 0.5);\n",
       "  color: #aaa;\n",
       "}\n",
       ".btn-default:focus, .btn-default:hover {\n",
       "  background-color: #555;\n",
       "  border-color: #222;\n",
       "  box-shadow: 0 0 3px rgba(0, 0, 0, 0.8);\n",
       "  color: #bbb;\n",
       "}\n",
       ".btn-default:active, .btn-default.active, .open > .dropdown-toggle.btn-default {\n",
       "  background-color: #474747;\n",
       "  color: #999;\n",
       "  box-shadow: inset 0 3px 5px rgba(0, 0, 0, 0.2);\n",
       "}\n",
       ".btn-default.disabled:focus, .btn-default.disabled:hover,\n",
       ".btn-default[disabled]:focus, .btn-default[disabled]:hover {\n",
       "  background-color: #555;\n",
       "  border-color: #222;\n",
       "  box-shadow: 0 0 1px rgba(0, 0, 0, 0.5);\n",
       "  color: #aaa;\n",
       "}\n",
       ".btn-default:active:hover, .btn-default:active:focus,\n",
       ".open > .dropdown-toggle.btn-default:hover, .open > .dropdown-toggle.btn-default:focus {\n",
       "  background-color: #474747;\n",
       "  color: #999;\n",
       "  border-color: #222;\n",
       "  box-shadow: inset 0 3px 5px rgba(0, 0, 0, 0.2);\n",
       "}\n",
       "\n",
       ".btn-primary {\n",
       "  color: #eee;\n",
       "  background-color: #4481b7;\n",
       "  border-color: #222;\n",
       "  box-shadow: 0 0 2px rgba(0, 0, 0, 0.5);\n",
       "}\n",
       ".btn-primary:focus, .btn-primary:hover {\n",
       "  background-color: #4481b7;\n",
       "  color: #fff;\n",
       "}\n",
       ".btn-primary:active {\n",
       "  background-color: #306ea6;\n",
       "  color: #ccc;\n",
       "}\n",
       ".btn-primary:active:hover, .btn-primary:active:focus {\n",
       "  background-color: #306ea6;\n",
       "  color: #ccc;\n",
       "}\n",
       "\n",
       ".form-control {\n",
       "  background: #222;\n",
       "  color: #eee;\n",
       "  border-color: #777;\n",
       "}\n",
       ".form-control:focus {\n",
       "  border-color: #458ac1;\n",
       "  box-shadow: inset 0 1px 1px rgba(0,0,0,.075), 0 0 8px rgba(102, 175, 233, 0.3);\n",
       "}\n",
       ".form-control::selection {\n",
       "  background: rgba(221, 240, 255, 0.19);\n",
       "}\n",
       "\n",
       "#complete {\n",
       "  border-color: #444;\n",
       "  background: rgba(50, 50, 50, 0.95);\n",
       "  color: #b7b7b7;\n",
       "  -webkit-box-shadow: 0 6px 12px rgba(0, 0, 0, 0.3);\n",
       "  box-shadow: 0 6px 12px rgba(0, 0, 0, 0.3);\n",
       "}\n",
       ".completions select {\n",
       "  background: rgba(50, 50, 50, 0.95);\n",
       "  color: #b7b7b7;\n",
       "}\n",
       "\n",
       "/*\n",
       "  Set fonts and styles for outputted content\n",
       "*/\n",
       "\n",
       "div#notebook .text_cell_render {\n",
       "  font-size: 16.25px;\n",
       "  font-weight: 300;\n",
       "  line-height: 1.25;\n",
       "}\n",
       "\n",
       ".rendered_html li p {\n",
       "  margin-top: 1em;\n",
       "}\n",
       "\n",
       ".rendered_html h1 {\n",
       "    color: #CF4A4C;\n",
       "}\n",
       "\n",
       "div.output_html { font-family: sans-serif; }\n",
       "\n",
       "/*\n",
       "  Set colors and styles that we only want on the screen, not for print\n",
       "*/\n",
       "\n",
       "@media not print {\n",
       "  .notebook_app div.cell.running .input .input_area {\n",
       "    border-left-color: #82591E;\n",
       "    -webkit-animation-name: pulseBorder;\n",
       "    -webkit-animation-duration: 1s;\n",
       "    -webkit-animation-iteration-count: infinite;\n",
       "    -webkit-animation-direction: alternate;\n",
       "    -webkit-animation-timing-function: ease-in-out;\n",
       "  }\n",
       "  @-webkit-keyframes pulseBorder {\n",
       "    from { border-left-color: #82591E; }\n",
       "    to { border-left-color: #eea236; }\n",
       "  }\n",
       "\n",
       "  .notebook_app div.input_prompt {color: #9b703f;}\n",
       "  .notebook_app div.output_prompt {color: #9b859d;}\n",
       "  .notebook_app div.input_area {\n",
       "    border-radius: 0px;\n",
       "    border: 1px solid #464b50;\n",
       "  }\n",
       "  .notebook_app div.output_area pre { font-weight: normal; color: #979797; }\n",
       "  .notebook_app div.output_subarea { font-weight: normal; color: #979797; }\n",
       "  .notebook_app div.output_stderr {background-color: #cf6a4c;}\n",
       "  .notebook_app div.output_stderr pre {color: #eee;}\n",
       "\n",
       "  .notebook_app .rendered_html table, .notebook_app .rendered_html th, .notebook_app .rendered_html tr, .notebook_app .rendered_html td {\n",
       "    border: 1px  #979797 solid;\n",
       "    color: #979797;\n",
       "  }\n",
       "  .notebook_app div.text_cell_render, .notebook_app div.output_html { color: #979797; }\n",
       "  .notebook_app table.dataframe tr { border: 1px #979797; }\n",
       "\n",
       "  .notebook_app .rendered_html pre, .notebook_app .rendered_html code {\n",
       "    border: 0;\n",
       "    background-color: #444;\n",
       "    color: #b0b0b0;\n",
       "    padding: 0;\n",
       "  }\n",
       "}\n",
       "\n",
       "/*\n",
       "  Terminal text coloring\n",
       "*/\n",
       "\n",
       "span.ansiblack {color: #323537;}\n",
       "span.ansiblue {color: #afc4db;}\n",
       "span.ansigray {color: #838184;}\n",
       "span.ansigreen {color: #8f9d6a;}\n",
       "span.ansipurple {color: #9b859d;}\n",
       "span.ansired {color: #cf6a4c;}\n",
       "span.ansiyellow {color: #f9ee98;}\n",
       "\n",
       "/*\n",
       "  Code editing\n",
       "*/\n",
       "\n",
       ".CodeMirror {background: #141414; color: #F8F8F8;}\n",
       "div.CodeMirror-selected {background: rgba(221, 240, 255, 0.19) !important;}\n",
       "#texteditor-backdrop #texteditor-container .CodeMirror-gutter, .CodeMirror-gutters {background: #444; border-right: 0px; color: #777;}\n",
       ".CodeMirror-linenumber {color: #b4b7b4;}\n",
       ".CodeMirror-cursor {border-left: 1px solid #A7A7A7 !important; margin-top: -2px; min-height: 18px;}\n",
       "\n",
       ".CodeMirror span.cm-comment {color: #5F5A60; font-style: italic;}\n",
       ".CodeMirror span.cm-atom {color: #CF6A4C;}\n",
       ".CodeMirror span.cm-number {color: #CF6A4C;}\n",
       "\n",
       ".CodeMirror span.cm-property {color: #F8F8F8;}\n",
       ".CodeMirror span.cm-attribute {color: #198844;}\n",
       ".CodeMirror span.cm-keyword {color: #CDA869; font-weight: normal;}\n",
       ".CodeMirror span.cm-string {color: #8F9D6A;}\n",
       ".CodeMirror span.cm-string-2 {color: #E9C062;} /* regexp */\n",
       ".CodeMirror span.cm-operator {color: #CDA869;}\n",
       ".CodeMirror span.cm-builtin {color: #A36AC7;}\n",
       "\n",
       ".CodeMirror span.cm-variable {color: #F8F8F8;}\n",
       ".CodeMirror span.cm-variable-2 {color: #7587A6;}\n",
       ".CodeMirror span.cm-variable-3 {color: #7587A6;}\n",
       ".CodeMirror span.cm-def {color: #9B703F;}\n",
       ".CodeMirror span.cm-error {color: #F8F8F8; background-color: rgba(86, 45, 86, 0.2);}\n",
       ".CodeMirror span.cm-bracket {color: #373b41;}\n",
       ".CodeMirror span.cm-tag {color: #7587A6;}\n",
       ".CodeMirror span.cm-link {color: #A36AC7;}\n",
       "\n",
       ".CodeMirror .CodeMirror-matchingbracket { background-color: #dd3; color: #303030 !important;}\n",
       "\n",
       "/*\n",
       "  Markdown editing\n",
       "*/\n",
       "\n",
       ".cm-s-default span.cm-header {color: #CF4A4C;}\n",
       ".cm-s-default span.cm-variable-2 {color: #7587A6;}\n",
       ".cm-s-default span.cm-comment {color: #7F7A80;}\n",
       "\n",
       "/*\n",
       "  Dataframe style\n",
       "*/\n",
       "\n",
       "body {\n",
       "    margin: 0;\n",
       "    font-family: Helvetica;\n",
       "}\n",
       "table.dataframe {\n",
       "    border-collapse: collapse;\n",
       "    border: none;\n",
       "}\n",
       "table.dataframe tr {\n",
       "    border: none;\n",
       "}\n",
       "table.dataframe td, table.dataframe th {\n",
       "    margin: 0;\n",
       "    border: 1px solid white;\n",
       "    padding-left: 0.25em;\n",
       "    padding-right: 0.25em;\n",
       "}\n",
       "table.dataframe th:not(:empty) {\n",
       "    background-color: #fec;\n",
       "    text-align: left;\n",
       "    font-weight: normal;\n",
       "}\n",
       "table.dataframe tr:nth-child(2) th:empty {\n",
       "    border-left: none;\n",
       "    border-right: 1px dashed #888;\n",
       "}\n",
       "table.dataframe td {\n",
       "    border: 2px solid #ccf;\n",
       "    background-color: #f4f4ff;\n",
       "}\n",
       "\n",
       "h3 {\n",
       "    color: white;\n",
       "    background-color: black;\n",
       "    padding: 0.5em;\n",
       "}\n",
       "</style>"
      ],
      "text/plain": [
       "<IPython.core.display.HTML object>"
      ]
     },
     "execution_count": 5,
     "metadata": {},
     "output_type": "execute_result"
    }
   ],
   "source": [
    "from IPython.core.display import HTML\n",
    "with open('/Users/eltdassen/.jupyter/custom.css') as f:\n",
    "    css = f.read()\n",
    "# css = open('style-table.css').read() + open('style-notebook.css').read()\n",
    "HTML('<style>{}</style>'.format(css))"
   ]
  },
  {
   "cell_type": "markdown",
   "metadata": {},
   "source": [
    "## Measurement sites locations"
   ]
  },
  {
   "cell_type": "markdown",
   "metadata": {},
   "source": [
    "In this notebook we obtain the measurement site lat-lon coordinates and save it in a `geopandas.geoframe`."
   ]
  },
  {
   "cell_type": "markdown",
   "metadata": {},
   "source": [
    "#### Imports"
   ]
  },
  {
   "cell_type": "code",
   "execution_count": 6,
   "metadata": {
    "collapsed": false
   },
   "outputs": [],
   "source": [
    "import pandas as pd\n",
    "import geopandas as gp\n",
    "# import geohash\n",
    "# import matplotlib as pl\n",
    "# %matplotlib inline\n",
    "import pathlib2\n",
    "import plotly as pl\n",
    "# import cufflinks as cl"
   ]
  },
  {
   "cell_type": "code",
   "execution_count": 7,
   "metadata": {
    "collapsed": false
   },
   "outputs": [],
   "source": [
    "import psycopg2\n",
    "import psycopg2.extras"
   ]
  },
  {
   "cell_type": "markdown",
   "metadata": {},
   "source": [
    "#### Filepath for the rdw.json containing the roads"
   ]
  },
  {
   "cell_type": "markdown",
   "metadata": {},
   "source": [
    "Remeber to unzip this file from the repo."
   ]
  },
  {
   "cell_type": "code",
   "execution_count": 8,
   "metadata": {
    "collapsed": true
   },
   "outputs": [],
   "source": [
    "RDW_FILEPATH = pathlib2.Path('../rdw.json')"
   ]
  },
  {
   "cell_type": "markdown",
   "metadata": {},
   "source": [
    "#### Nice dataframe formatting"
   ]
  },
  {
   "cell_type": "code",
   "execution_count": 11,
   "metadata": {
    "collapsed": false
   },
   "outputs": [
    {
     "data": {
      "text/html": [
       "<style>body {\n",
       "    margin: 0;\n",
       "    font-family: Helvetica;\n",
       "}\n",
       "table.dataframe {\n",
       "    border-collapse: collapse;\n",
       "    border: none;\n",
       "}\n",
       "table.dataframe tr {\n",
       "    border: none;\n",
       "}\n",
       "table.dataframe td, table.dataframe th {\n",
       "    margin: 0;\n",
       "    border: 1px solid white;\n",
       "    padding-left: 0.25em;\n",
       "    padding-right: 0.25em;\n",
       "}\n",
       "table.dataframe th:not(:empty) {\n",
       "    background-color: #fec;\n",
       "    text-align: left;\n",
       "    font-weight: normal;\n",
       "}\n",
       "table.dataframe tr:nth-child(2) th:empty {\n",
       "    border-left: none;\n",
       "    border-right: 1px dashed #888;\n",
       "}\n",
       "table.dataframe td {\n",
       "    border: 2px solid #ccf;\n",
       "    background-color: #f4f4ff;\n",
       "}\n",
       "h3 {\n",
       "    color: white;\n",
       "    background-color: black;\n",
       "    padding: 0.5em;\n",
       "}\n",
       "</style>"
      ],
      "text/plain": [
       "<IPython.core.display.HTML object>"
      ]
     },
     "execution_count": 11,
     "metadata": {},
     "output_type": "execute_result"
    }
   ],
   "source": [
    "from IPython.core.display import HTML\n",
    "css = open('style-table.css').read() + open('style-notebook.css').read()\n",
    "HTML('<style>{}</style>'.format(css))"
   ]
  },
  {
   "cell_type": "markdown",
   "metadata": {},
   "source": [
    "#### Obtain the table from a running companion database and make some adjustments"
   ]
  },
  {
   "cell_type": "code",
   "execution_count": 9,
   "metadata": {
    "collapsed": false
   },
   "outputs": [],
   "source": [
    "con = None\n",
    "\n",
    "try:\n",
    "    con = psycopg2.connect(database='companion',\n",
    "                           user='postgres',\n",
    "                           password='snt',\n",
    "                           host='0.0.0.0',\n",
    "                           port='32768')\n",
    "    \n",
    "    cursor = con.cursor(cursor_factory=psycopg2.extras.RealDictCursor)\n",
    "    cursor.execute(\"SELECT id, ndwid, name, ST_AsText(location), ST_AsKML(location), ST_AsLatLonText(location) FROM measurementsite;\")\n",
    "    \n",
    "#     row = cursor.fetchone()\n",
    "    mdf = pd.DataFrame.from_dict(cursor.fetchall())\n",
    "    mdf.set_index(['id'], inplace=True)\n",
    "\n",
    "except db.DatabaseError as e:\n",
    "    print('Error %s' % e)\n",
    "    sys.exit(1)\n",
    "    \n",
    "finally:\n",
    "    \n",
    "    if con:\n",
    "        con.close()\n"
   ]
  },
  {
   "cell_type": "code",
   "execution_count": 12,
   "metadata": {
    "collapsed": false
   },
   "outputs": [
    {
     "data": {
      "text/html": [
       "<div>\n",
       "<table border=\"1\" class=\"dataframe\">\n",
       "  <thead>\n",
       "    <tr style=\"text-align: right;\">\n",
       "      <th></th>\n",
       "      <th>name</th>\n",
       "      <th>ndwid</th>\n",
       "      <th>st_askml</th>\n",
       "      <th>st_aslatlontext</th>\n",
       "      <th>st_astext</th>\n",
       "    </tr>\n",
       "    <tr>\n",
       "      <th>id</th>\n",
       "      <th></th>\n",
       "      <th></th>\n",
       "      <th></th>\n",
       "      <th></th>\n",
       "      <th></th>\n",
       "    </tr>\n",
       "  </thead>\n",
       "  <tbody>\n",
       "    <tr>\n",
       "      <th>1</th>\n",
       "      <td>0010vwa0056ra</td>\n",
       "      <td>RWS01_MONIBAS_0010vwa0056ra</td>\n",
       "      <td>&lt;Point&gt;&lt;coordinates&gt;52.345428466796875,4.97720...</td>\n",
       "      <td>4°58'37.920\"N 52°20'43.542\"E</td>\n",
       "      <td>POINT(52.3454284667969 4.97720003128052)</td>\n",
       "    </tr>\n",
       "    <tr>\n",
       "      <th>2</th>\n",
       "      <td>0010vwa0065ra</td>\n",
       "      <td>RWS01_MONIBAS_0010vwa0065ra</td>\n",
       "      <td>&lt;Point&gt;&lt;coordinates&gt;52.339141845703125,4.98615...</td>\n",
       "      <td>4°59'10.175\"N 52°20'20.911\"E</td>\n",
       "      <td>POINT(52.3391418457031 4.98615980148315)</td>\n",
       "    </tr>\n",
       "    <tr>\n",
       "      <th>3</th>\n",
       "      <td>0010vwa0223ra</td>\n",
       "      <td>RWS01_MONIBAS_0010vwa0223ra</td>\n",
       "      <td>&lt;Point&gt;&lt;coordinates&gt;52.284080505371094,5.18365...</td>\n",
       "      <td>5°11'1.140\"N 52°17'2.690\"E</td>\n",
       "      <td>POINT(52.2840805053711 5.18365001678467)</td>\n",
       "    </tr>\n",
       "    <tr>\n",
       "      <th>4</th>\n",
       "      <td>0010vwa0248ra</td>\n",
       "      <td>RWS01_MONIBAS_0010vwa0248ra</td>\n",
       "      <td>&lt;Point&gt;&lt;coordinates&gt;52.267349243164062,5.20331...</td>\n",
       "      <td>5°12'11.916\"N 52°16'2.457\"E</td>\n",
       "      <td>POINT(52.2673492431641 5.20331001281738)</td>\n",
       "    </tr>\n",
       "    <tr>\n",
       "      <th>5</th>\n",
       "      <td>0010vwa0269ra</td>\n",
       "      <td>RWS01_MONIBAS_0010vwa0269ra</td>\n",
       "      <td>&lt;Point&gt;&lt;coordinates&gt;52.249340057373047,5.21355...</td>\n",
       "      <td>5°12'48.780\"N 52°14'57.624\"E</td>\n",
       "      <td>POINT(52.249340057373 5.21355009078979)</td>\n",
       "    </tr>\n",
       "  </tbody>\n",
       "</table>\n",
       "</div>"
      ],
      "text/plain": [
       "             name                        ndwid  \\\n",
       "id                                               \n",
       "1   0010vwa0056ra  RWS01_MONIBAS_0010vwa0056ra   \n",
       "2   0010vwa0065ra  RWS01_MONIBAS_0010vwa0065ra   \n",
       "3   0010vwa0223ra  RWS01_MONIBAS_0010vwa0223ra   \n",
       "4   0010vwa0248ra  RWS01_MONIBAS_0010vwa0248ra   \n",
       "5   0010vwa0269ra  RWS01_MONIBAS_0010vwa0269ra   \n",
       "\n",
       "                                             st_askml  \\\n",
       "id                                                      \n",
       "1   <Point><coordinates>52.345428466796875,4.97720...   \n",
       "2   <Point><coordinates>52.339141845703125,4.98615...   \n",
       "3   <Point><coordinates>52.284080505371094,5.18365...   \n",
       "4   <Point><coordinates>52.267349243164062,5.20331...   \n",
       "5   <Point><coordinates>52.249340057373047,5.21355...   \n",
       "\n",
       "                 st_aslatlontext                                 st_astext  \n",
       "id                                                                          \n",
       "1   4°58'37.920\"N 52°20'43.542\"E  POINT(52.3454284667969 4.97720003128052)  \n",
       "2   4°59'10.175\"N 52°20'20.911\"E  POINT(52.3391418457031 4.98615980148315)  \n",
       "3     5°11'1.140\"N 52°17'2.690\"E  POINT(52.2840805053711 5.18365001678467)  \n",
       "4    5°12'11.916\"N 52°16'2.457\"E  POINT(52.2673492431641 5.20331001281738)  \n",
       "5   5°12'48.780\"N 52°14'57.624\"E   POINT(52.249340057373 5.21355009078979)  "
      ]
     },
     "execution_count": 12,
     "metadata": {},
     "output_type": "execute_result"
    }
   ],
   "source": [
    "mdf.head()"
   ]
  },
  {
   "cell_type": "code",
   "execution_count": 8,
   "metadata": {
    "collapsed": false
   },
   "outputs": [],
   "source": [
    "# mdf = mdf.rename(columns={'carriageway1': 'carriageway',\n",
    "#                           'lengthaffected1': 'lengthaffected'})\n",
    "mdf = mdf.rename(columns={'st_astext': 'geometry'})\n",
    "# mdf['carriageway'] = mdf['carriageway'].astype('category')"
   ]
  },
  {
   "cell_type": "code",
   "execution_count": 9,
   "metadata": {
    "collapsed": false
   },
   "outputs": [
    {
     "data": {
      "text/html": [
       "<div>\n",
       "<table border=\"1\" class=\"dataframe\">\n",
       "  <thead>\n",
       "    <tr style=\"text-align: right;\">\n",
       "      <th></th>\n",
       "      <th>name</th>\n",
       "      <th>ndwid</th>\n",
       "      <th>st_askml</th>\n",
       "      <th>st_aslatlontext</th>\n",
       "      <th>geometry</th>\n",
       "    </tr>\n",
       "    <tr>\n",
       "      <th>id</th>\n",
       "      <th></th>\n",
       "      <th></th>\n",
       "      <th></th>\n",
       "      <th></th>\n",
       "      <th></th>\n",
       "    </tr>\n",
       "  </thead>\n",
       "  <tbody>\n",
       "    <tr>\n",
       "      <th>1</th>\n",
       "      <td>0010vwa0056ra</td>\n",
       "      <td>RWS01_MONIBAS_0010vwa0056ra</td>\n",
       "      <td>&lt;Point&gt;&lt;coordinates&gt;52.345428466796875,4.97720...</td>\n",
       "      <td>4°58'37.920\"N 52°20'43.542\"E</td>\n",
       "      <td>POINT(52.3454284667969 4.97720003128052)</td>\n",
       "    </tr>\n",
       "    <tr>\n",
       "      <th>2</th>\n",
       "      <td>0010vwa0065ra</td>\n",
       "      <td>RWS01_MONIBAS_0010vwa0065ra</td>\n",
       "      <td>&lt;Point&gt;&lt;coordinates&gt;52.339141845703125,4.98615...</td>\n",
       "      <td>4°59'10.175\"N 52°20'20.911\"E</td>\n",
       "      <td>POINT(52.3391418457031 4.98615980148315)</td>\n",
       "    </tr>\n",
       "    <tr>\n",
       "      <th>3</th>\n",
       "      <td>0010vwa0223ra</td>\n",
       "      <td>RWS01_MONIBAS_0010vwa0223ra</td>\n",
       "      <td>&lt;Point&gt;&lt;coordinates&gt;52.284080505371094,5.18365...</td>\n",
       "      <td>5°11'1.140\"N 52°17'2.690\"E</td>\n",
       "      <td>POINT(52.2840805053711 5.18365001678467)</td>\n",
       "    </tr>\n",
       "    <tr>\n",
       "      <th>4</th>\n",
       "      <td>0010vwa0248ra</td>\n",
       "      <td>RWS01_MONIBAS_0010vwa0248ra</td>\n",
       "      <td>&lt;Point&gt;&lt;coordinates&gt;52.267349243164062,5.20331...</td>\n",
       "      <td>5°12'11.916\"N 52°16'2.457\"E</td>\n",
       "      <td>POINT(52.2673492431641 5.20331001281738)</td>\n",
       "    </tr>\n",
       "    <tr>\n",
       "      <th>5</th>\n",
       "      <td>0010vwa0269ra</td>\n",
       "      <td>RWS01_MONIBAS_0010vwa0269ra</td>\n",
       "      <td>&lt;Point&gt;&lt;coordinates&gt;52.249340057373047,5.21355...</td>\n",
       "      <td>5°12'48.780\"N 52°14'57.624\"E</td>\n",
       "      <td>POINT(52.249340057373 5.21355009078979)</td>\n",
       "    </tr>\n",
       "  </tbody>\n",
       "</table>\n",
       "</div>"
      ],
      "text/plain": [
       "             name                        ndwid  \\\n",
       "id                                               \n",
       "1   0010vwa0056ra  RWS01_MONIBAS_0010vwa0056ra   \n",
       "2   0010vwa0065ra  RWS01_MONIBAS_0010vwa0065ra   \n",
       "3   0010vwa0223ra  RWS01_MONIBAS_0010vwa0223ra   \n",
       "4   0010vwa0248ra  RWS01_MONIBAS_0010vwa0248ra   \n",
       "5   0010vwa0269ra  RWS01_MONIBAS_0010vwa0269ra   \n",
       "\n",
       "                                             st_askml  \\\n",
       "id                                                      \n",
       "1   <Point><coordinates>52.345428466796875,4.97720...   \n",
       "2   <Point><coordinates>52.339141845703125,4.98615...   \n",
       "3   <Point><coordinates>52.284080505371094,5.18365...   \n",
       "4   <Point><coordinates>52.267349243164062,5.20331...   \n",
       "5   <Point><coordinates>52.249340057373047,5.21355...   \n",
       "\n",
       "                 st_aslatlontext                                  geometry  \n",
       "id                                                                          \n",
       "1   4°58'37.920\"N 52°20'43.542\"E  POINT(52.3454284667969 4.97720003128052)  \n",
       "2   4°59'10.175\"N 52°20'20.911\"E  POINT(52.3391418457031 4.98615980148315)  \n",
       "3     5°11'1.140\"N 52°17'2.690\"E  POINT(52.2840805053711 5.18365001678467)  \n",
       "4    5°12'11.916\"N 52°16'2.457\"E  POINT(52.2673492431641 5.20331001281738)  \n",
       "5   5°12'48.780\"N 52°14'57.624\"E   POINT(52.249340057373 5.21355009078979)  "
      ]
     },
     "execution_count": 9,
     "metadata": {},
     "output_type": "execute_result"
    }
   ],
   "source": [
    "mdf.head()"
   ]
  },
  {
   "cell_type": "code",
   "execution_count": 10,
   "metadata": {
    "collapsed": false
   },
   "outputs": [
    {
     "name": "stdout",
     "output_type": "stream",
     "text": [
      "<class 'pandas.core.frame.DataFrame'>\n",
      "Int64Index: 17651 entries, 1 to 17651\n",
      "Data columns (total 5 columns):\n",
      "name               17651 non-null object\n",
      "ndwid              17651 non-null object\n",
      "st_askml           17651 non-null object\n",
      "st_aslatlontext    17651 non-null object\n",
      "geometry           17651 non-null object\n",
      "dtypes: object(5)\n",
      "memory usage: 827.4+ KB\n"
     ]
    }
   ],
   "source": [
    "mdf.info()"
   ]
  },
  {
   "cell_type": "markdown",
   "metadata": {},
   "source": [
    "#### We are going to parse the location column"
   ]
  },
  {
   "cell_type": "markdown",
   "metadata": {},
   "source": [
    "First select only the relevant number strings and split into a list."
   ]
  },
  {
   "cell_type": "code",
   "execution_count": 11,
   "metadata": {
    "collapsed": false
   },
   "outputs": [],
   "source": [
    "ser = mdf['geometry'].apply(lambda p: p[6:-1].split(' '))"
   ]
  },
  {
   "cell_type": "markdown",
   "metadata": {},
   "source": [
    "Then make each number in the list into the relevant coordinate by casting."
   ]
  },
  {
   "cell_type": "code",
   "execution_count": 12,
   "metadata": {
    "collapsed": false
   },
   "outputs": [
    {
     "data": {
      "text/html": [
       "<div>\n",
       "<table border=\"1\" class=\"dataframe\">\n",
       "  <thead>\n",
       "    <tr style=\"text-align: right;\">\n",
       "      <th></th>\n",
       "      <th>name</th>\n",
       "      <th>ndwid</th>\n",
       "      <th>st_askml</th>\n",
       "      <th>st_aslatlontext</th>\n",
       "      <th>geometry</th>\n",
       "      <th>latitude</th>\n",
       "      <th>longitude</th>\n",
       "    </tr>\n",
       "    <tr>\n",
       "      <th>id</th>\n",
       "      <th></th>\n",
       "      <th></th>\n",
       "      <th></th>\n",
       "      <th></th>\n",
       "      <th></th>\n",
       "      <th></th>\n",
       "      <th></th>\n",
       "    </tr>\n",
       "  </thead>\n",
       "  <tbody>\n",
       "    <tr>\n",
       "      <th>1</th>\n",
       "      <td>0010vwa0056ra</td>\n",
       "      <td>RWS01_MONIBAS_0010vwa0056ra</td>\n",
       "      <td>&lt;Point&gt;&lt;coordinates&gt;52.345428466796875,4.97720...</td>\n",
       "      <td>4°58'37.920\"N 52°20'43.542\"E</td>\n",
       "      <td>POINT(52.3454284667969 4.97720003128052)</td>\n",
       "      <td>52.345428</td>\n",
       "      <td>4.97720</td>\n",
       "    </tr>\n",
       "    <tr>\n",
       "      <th>2</th>\n",
       "      <td>0010vwa0065ra</td>\n",
       "      <td>RWS01_MONIBAS_0010vwa0065ra</td>\n",
       "      <td>&lt;Point&gt;&lt;coordinates&gt;52.339141845703125,4.98615...</td>\n",
       "      <td>4°59'10.175\"N 52°20'20.911\"E</td>\n",
       "      <td>POINT(52.3391418457031 4.98615980148315)</td>\n",
       "      <td>52.339142</td>\n",
       "      <td>4.98616</td>\n",
       "    </tr>\n",
       "    <tr>\n",
       "      <th>3</th>\n",
       "      <td>0010vwa0223ra</td>\n",
       "      <td>RWS01_MONIBAS_0010vwa0223ra</td>\n",
       "      <td>&lt;Point&gt;&lt;coordinates&gt;52.284080505371094,5.18365...</td>\n",
       "      <td>5°11'1.140\"N 52°17'2.690\"E</td>\n",
       "      <td>POINT(52.2840805053711 5.18365001678467)</td>\n",
       "      <td>52.284081</td>\n",
       "      <td>5.18365</td>\n",
       "    </tr>\n",
       "    <tr>\n",
       "      <th>4</th>\n",
       "      <td>0010vwa0248ra</td>\n",
       "      <td>RWS01_MONIBAS_0010vwa0248ra</td>\n",
       "      <td>&lt;Point&gt;&lt;coordinates&gt;52.267349243164062,5.20331...</td>\n",
       "      <td>5°12'11.916\"N 52°16'2.457\"E</td>\n",
       "      <td>POINT(52.2673492431641 5.20331001281738)</td>\n",
       "      <td>52.267349</td>\n",
       "      <td>5.20331</td>\n",
       "    </tr>\n",
       "    <tr>\n",
       "      <th>5</th>\n",
       "      <td>0010vwa0269ra</td>\n",
       "      <td>RWS01_MONIBAS_0010vwa0269ra</td>\n",
       "      <td>&lt;Point&gt;&lt;coordinates&gt;52.249340057373047,5.21355...</td>\n",
       "      <td>5°12'48.780\"N 52°14'57.624\"E</td>\n",
       "      <td>POINT(52.249340057373 5.21355009078979)</td>\n",
       "      <td>52.249340</td>\n",
       "      <td>5.21355</td>\n",
       "    </tr>\n",
       "  </tbody>\n",
       "</table>\n",
       "</div>"
      ],
      "text/plain": [
       "             name                        ndwid  \\\n",
       "id                                               \n",
       "1   0010vwa0056ra  RWS01_MONIBAS_0010vwa0056ra   \n",
       "2   0010vwa0065ra  RWS01_MONIBAS_0010vwa0065ra   \n",
       "3   0010vwa0223ra  RWS01_MONIBAS_0010vwa0223ra   \n",
       "4   0010vwa0248ra  RWS01_MONIBAS_0010vwa0248ra   \n",
       "5   0010vwa0269ra  RWS01_MONIBAS_0010vwa0269ra   \n",
       "\n",
       "                                             st_askml  \\\n",
       "id                                                      \n",
       "1   <Point><coordinates>52.345428466796875,4.97720...   \n",
       "2   <Point><coordinates>52.339141845703125,4.98615...   \n",
       "3   <Point><coordinates>52.284080505371094,5.18365...   \n",
       "4   <Point><coordinates>52.267349243164062,5.20331...   \n",
       "5   <Point><coordinates>52.249340057373047,5.21355...   \n",
       "\n",
       "                 st_aslatlontext                                  geometry  \\\n",
       "id                                                                           \n",
       "1   4°58'37.920\"N 52°20'43.542\"E  POINT(52.3454284667969 4.97720003128052)   \n",
       "2   4°59'10.175\"N 52°20'20.911\"E  POINT(52.3391418457031 4.98615980148315)   \n",
       "3     5°11'1.140\"N 52°17'2.690\"E  POINT(52.2840805053711 5.18365001678467)   \n",
       "4    5°12'11.916\"N 52°16'2.457\"E  POINT(52.2673492431641 5.20331001281738)   \n",
       "5   5°12'48.780\"N 52°14'57.624\"E   POINT(52.249340057373 5.21355009078979)   \n",
       "\n",
       "     latitude  longitude  \n",
       "id                        \n",
       "1   52.345428    4.97720  \n",
       "2   52.339142    4.98616  \n",
       "3   52.284081    5.18365  \n",
       "4   52.267349    5.20331  \n",
       "5   52.249340    5.21355  "
      ]
     },
     "execution_count": 12,
     "metadata": {},
     "output_type": "execute_result"
    }
   ],
   "source": [
    "mdf['latitude'] = ser.apply(lambda p: float(p[0]))\n",
    "mdf['longitude'] = ser.apply(lambda p: float(p[1]))\n",
    "# mdf.drop(['location'], axis=1, inplace=True)\n",
    "mdf.head()"
   ]
  },
  {
   "cell_type": "markdown",
   "metadata": {},
   "source": [
    "\n",
    "#### Convert to geopandas.GeoDataFrame"
   ]
  },
  {
   "cell_type": "code",
   "execution_count": 13,
   "metadata": {
    "collapsed": false
   },
   "outputs": [
    {
     "data": {
      "text/html": [
       "<div>\n",
       "<table border=\"1\" class=\"dataframe\">\n",
       "  <thead>\n",
       "    <tr style=\"text-align: right;\">\n",
       "      <th></th>\n",
       "      <th>id</th>\n",
       "      <th>ndwid</th>\n",
       "      <th>name</th>\n",
       "      <th>location</th>\n",
       "      <th>st_askml</th>\n",
       "      <th>st_aslatlontext</th>\n",
       "    </tr>\n",
       "  </thead>\n",
       "  <tbody>\n",
       "    <tr>\n",
       "      <th>0</th>\n",
       "      <td>1</td>\n",
       "      <td>RWS01_MONIBAS_0010vwa0056ra</td>\n",
       "      <td>0010vwa0056ra</td>\n",
       "      <td>POINT (52.34542846679688 4.977200031280518)</td>\n",
       "      <td>&lt;Point&gt;&lt;coordinates&gt;52.345428466796875,4.97720...</td>\n",
       "      <td>4°58'37.920\"N 52°20'43.542\"E</td>\n",
       "    </tr>\n",
       "    <tr>\n",
       "      <th>1</th>\n",
       "      <td>2</td>\n",
       "      <td>RWS01_MONIBAS_0010vwa0065ra</td>\n",
       "      <td>0010vwa0065ra</td>\n",
       "      <td>POINT (52.33914184570312 4.986159801483154)</td>\n",
       "      <td>&lt;Point&gt;&lt;coordinates&gt;52.339141845703125,4.98615...</td>\n",
       "      <td>4°59'10.175\"N 52°20'20.911\"E</td>\n",
       "    </tr>\n",
       "    <tr>\n",
       "      <th>2</th>\n",
       "      <td>3</td>\n",
       "      <td>RWS01_MONIBAS_0010vwa0223ra</td>\n",
       "      <td>0010vwa0223ra</td>\n",
       "      <td>POINT (52.28408050537109 5.183650016784668)</td>\n",
       "      <td>&lt;Point&gt;&lt;coordinates&gt;52.284080505371094,5.18365...</td>\n",
       "      <td>5°11'1.140\"N 52°17'2.690\"E</td>\n",
       "    </tr>\n",
       "    <tr>\n",
       "      <th>3</th>\n",
       "      <td>4</td>\n",
       "      <td>RWS01_MONIBAS_0010vwa0248ra</td>\n",
       "      <td>0010vwa0248ra</td>\n",
       "      <td>POINT (52.26734924316406 5.203310012817383)</td>\n",
       "      <td>&lt;Point&gt;&lt;coordinates&gt;52.267349243164062,5.20331...</td>\n",
       "      <td>5°12'11.916\"N 52°16'2.457\"E</td>\n",
       "    </tr>\n",
       "    <tr>\n",
       "      <th>4</th>\n",
       "      <td>5</td>\n",
       "      <td>RWS01_MONIBAS_0010vwa0269ra</td>\n",
       "      <td>0010vwa0269ra</td>\n",
       "      <td>POINT (52.24934005737305 5.213550090789795)</td>\n",
       "      <td>&lt;Point&gt;&lt;coordinates&gt;52.249340057373047,5.21355...</td>\n",
       "      <td>5°12'48.780\"N 52°14'57.624\"E</td>\n",
       "    </tr>\n",
       "  </tbody>\n",
       "</table>\n",
       "</div>"
      ],
      "text/plain": [
       "   id                        ndwid           name  \\\n",
       "0   1  RWS01_MONIBAS_0010vwa0056ra  0010vwa0056ra   \n",
       "1   2  RWS01_MONIBAS_0010vwa0065ra  0010vwa0065ra   \n",
       "2   3  RWS01_MONIBAS_0010vwa0223ra  0010vwa0223ra   \n",
       "3   4  RWS01_MONIBAS_0010vwa0248ra  0010vwa0248ra   \n",
       "4   5  RWS01_MONIBAS_0010vwa0269ra  0010vwa0269ra   \n",
       "\n",
       "                                      location  \\\n",
       "0  POINT (52.34542846679688 4.977200031280518)   \n",
       "1  POINT (52.33914184570312 4.986159801483154)   \n",
       "2  POINT (52.28408050537109 5.183650016784668)   \n",
       "3  POINT (52.26734924316406 5.203310012817383)   \n",
       "4  POINT (52.24934005737305 5.213550090789795)   \n",
       "\n",
       "                                            st_askml  \\\n",
       "0  <Point><coordinates>52.345428466796875,4.97720...   \n",
       "1  <Point><coordinates>52.339141845703125,4.98615...   \n",
       "2  <Point><coordinates>52.284080505371094,5.18365...   \n",
       "3  <Point><coordinates>52.267349243164062,5.20331...   \n",
       "4  <Point><coordinates>52.249340057373047,5.21355...   \n",
       "\n",
       "                st_aslatlontext  \n",
       "0  4°58'37.920\"N 52°20'43.542\"E  \n",
       "1  4°59'10.175\"N 52°20'20.911\"E  \n",
       "2    5°11'1.140\"N 52°17'2.690\"E  \n",
       "3   5°12'11.916\"N 52°16'2.457\"E  \n",
       "4  5°12'48.780\"N 52°14'57.624\"E  "
      ]
     },
     "execution_count": 13,
     "metadata": {},
     "output_type": "execute_result"
    }
   ],
   "source": [
    "con = psycopg2.connect(database='companion',\n",
    "                       user='postgres',\n",
    "                       password='snt',\n",
    "                       host='0.0.0.0',\n",
    "                       port='32768')\n",
    "\n",
    "qry = \"SELECT id, ndwid, name, location, ST_AsKML(location), ST_AsLatLonText(location) FROM measurementsite;\"\n",
    "\n",
    "mdf = gp.GeoDataFrame.from_postgis(qry, con, geom_col='location')\n",
    "mdf.head()"
   ]
  },
  {
   "cell_type": "code",
   "execution_count": 14,
   "metadata": {
    "collapsed": false
   },
   "outputs": [
    {
     "name": "stdout",
     "output_type": "stream",
     "text": [
      "<class 'geopandas.geodataframe.GeoDataFrame'>\n",
      "RangeIndex: 17651 entries, 0 to 17650\n",
      "Data columns (total 6 columns):\n",
      "id                 17651 non-null int64\n",
      "ndwid              17651 non-null object\n",
      "name               17651 non-null object\n",
      "location           17651 non-null object\n",
      "st_askml           17651 non-null object\n",
      "st_aslatlontext    17651 non-null object\n",
      "dtypes: int64(1), object(5)\n",
      "memory usage: 827.5+ KB\n"
     ]
    }
   ],
   "source": [
    "mdf.info()"
   ]
  },
  {
   "cell_type": "code",
   "execution_count": 16,
   "metadata": {
    "collapsed": true
   },
   "outputs": [],
   "source": [
    "def parse(row):\n",
    "#     print(row)\n",
    "    name = row['ndwid']\n",
    "    kml = row['st_askml']\n",
    "    result = '<Placemark id=\"{}\">'.format(name)\n",
    "    result += kml\n",
    "    result += '</Placemark>'\n",
    "    return result"
   ]
  },
  {
   "cell_type": "code",
   "execution_count": 17,
   "metadata": {
    "collapsed": false
   },
   "outputs": [
    {
     "data": {
      "text/html": [
       "<div>\n",
       "<table border=\"1\" class=\"dataframe\">\n",
       "  <thead>\n",
       "    <tr style=\"text-align: right;\">\n",
       "      <th></th>\n",
       "      <th>id</th>\n",
       "      <th>ndwid</th>\n",
       "      <th>name</th>\n",
       "      <th>location</th>\n",
       "      <th>st_askml</th>\n",
       "      <th>st_aslatlontext</th>\n",
       "      <th>kml_element</th>\n",
       "    </tr>\n",
       "  </thead>\n",
       "  <tbody>\n",
       "    <tr>\n",
       "      <th>0</th>\n",
       "      <td>1</td>\n",
       "      <td>RWS01_MONIBAS_0010vwa0056ra</td>\n",
       "      <td>0010vwa0056ra</td>\n",
       "      <td>POINT (52.34542846679688 4.977200031280518)</td>\n",
       "      <td>&lt;Point&gt;&lt;coordinates&gt;52.345428466796875,4.97720...</td>\n",
       "      <td>4°58'37.920\"N 52°20'43.542\"E</td>\n",
       "      <td>&lt;Placemark id=\"RWS01_MONIBAS_0010vwa0056ra\"&gt;&lt;P...</td>\n",
       "    </tr>\n",
       "    <tr>\n",
       "      <th>1</th>\n",
       "      <td>2</td>\n",
       "      <td>RWS01_MONIBAS_0010vwa0065ra</td>\n",
       "      <td>0010vwa0065ra</td>\n",
       "      <td>POINT (52.33914184570312 4.986159801483154)</td>\n",
       "      <td>&lt;Point&gt;&lt;coordinates&gt;52.339141845703125,4.98615...</td>\n",
       "      <td>4°59'10.175\"N 52°20'20.911\"E</td>\n",
       "      <td>&lt;Placemark id=\"RWS01_MONIBAS_0010vwa0065ra\"&gt;&lt;P...</td>\n",
       "    </tr>\n",
       "    <tr>\n",
       "      <th>2</th>\n",
       "      <td>3</td>\n",
       "      <td>RWS01_MONIBAS_0010vwa0223ra</td>\n",
       "      <td>0010vwa0223ra</td>\n",
       "      <td>POINT (52.28408050537109 5.183650016784668)</td>\n",
       "      <td>&lt;Point&gt;&lt;coordinates&gt;52.284080505371094,5.18365...</td>\n",
       "      <td>5°11'1.140\"N 52°17'2.690\"E</td>\n",
       "      <td>&lt;Placemark id=\"RWS01_MONIBAS_0010vwa0223ra\"&gt;&lt;P...</td>\n",
       "    </tr>\n",
       "    <tr>\n",
       "      <th>3</th>\n",
       "      <td>4</td>\n",
       "      <td>RWS01_MONIBAS_0010vwa0248ra</td>\n",
       "      <td>0010vwa0248ra</td>\n",
       "      <td>POINT (52.26734924316406 5.203310012817383)</td>\n",
       "      <td>&lt;Point&gt;&lt;coordinates&gt;52.267349243164062,5.20331...</td>\n",
       "      <td>5°12'11.916\"N 52°16'2.457\"E</td>\n",
       "      <td>&lt;Placemark id=\"RWS01_MONIBAS_0010vwa0248ra\"&gt;&lt;P...</td>\n",
       "    </tr>\n",
       "    <tr>\n",
       "      <th>4</th>\n",
       "      <td>5</td>\n",
       "      <td>RWS01_MONIBAS_0010vwa0269ra</td>\n",
       "      <td>0010vwa0269ra</td>\n",
       "      <td>POINT (52.24934005737305 5.213550090789795)</td>\n",
       "      <td>&lt;Point&gt;&lt;coordinates&gt;52.249340057373047,5.21355...</td>\n",
       "      <td>5°12'48.780\"N 52°14'57.624\"E</td>\n",
       "      <td>&lt;Placemark id=\"RWS01_MONIBAS_0010vwa0269ra\"&gt;&lt;P...</td>\n",
       "    </tr>\n",
       "  </tbody>\n",
       "</table>\n",
       "</div>"
      ],
      "text/plain": [
       "   id                        ndwid           name  \\\n",
       "0   1  RWS01_MONIBAS_0010vwa0056ra  0010vwa0056ra   \n",
       "1   2  RWS01_MONIBAS_0010vwa0065ra  0010vwa0065ra   \n",
       "2   3  RWS01_MONIBAS_0010vwa0223ra  0010vwa0223ra   \n",
       "3   4  RWS01_MONIBAS_0010vwa0248ra  0010vwa0248ra   \n",
       "4   5  RWS01_MONIBAS_0010vwa0269ra  0010vwa0269ra   \n",
       "\n",
       "                                      location  \\\n",
       "0  POINT (52.34542846679688 4.977200031280518)   \n",
       "1  POINT (52.33914184570312 4.986159801483154)   \n",
       "2  POINT (52.28408050537109 5.183650016784668)   \n",
       "3  POINT (52.26734924316406 5.203310012817383)   \n",
       "4  POINT (52.24934005737305 5.213550090789795)   \n",
       "\n",
       "                                            st_askml  \\\n",
       "0  <Point><coordinates>52.345428466796875,4.97720...   \n",
       "1  <Point><coordinates>52.339141845703125,4.98615...   \n",
       "2  <Point><coordinates>52.284080505371094,5.18365...   \n",
       "3  <Point><coordinates>52.267349243164062,5.20331...   \n",
       "4  <Point><coordinates>52.249340057373047,5.21355...   \n",
       "\n",
       "                st_aslatlontext  \\\n",
       "0  4°58'37.920\"N 52°20'43.542\"E   \n",
       "1  4°59'10.175\"N 52°20'20.911\"E   \n",
       "2    5°11'1.140\"N 52°17'2.690\"E   \n",
       "3   5°12'11.916\"N 52°16'2.457\"E   \n",
       "4  5°12'48.780\"N 52°14'57.624\"E   \n",
       "\n",
       "                                         kml_element  \n",
       "0  <Placemark id=\"RWS01_MONIBAS_0010vwa0056ra\"><P...  \n",
       "1  <Placemark id=\"RWS01_MONIBAS_0010vwa0065ra\"><P...  \n",
       "2  <Placemark id=\"RWS01_MONIBAS_0010vwa0223ra\"><P...  \n",
       "3  <Placemark id=\"RWS01_MONIBAS_0010vwa0248ra\"><P...  \n",
       "4  <Placemark id=\"RWS01_MONIBAS_0010vwa0269ra\"><P...  "
      ]
     },
     "execution_count": 17,
     "metadata": {},
     "output_type": "execute_result"
    }
   ],
   "source": [
    "mdf['kml_element'] = mdf.apply(parse, axis=1)\n",
    "mdf.head()"
   ]
  },
  {
   "cell_type": "code",
   "execution_count": 18,
   "metadata": {
    "collapsed": false
   },
   "outputs": [],
   "source": [
    "kml = mdf['kml_element']\n",
    "kml.to_csv('sites.kml')"
   ]
  },
  {
   "cell_type": "code",
   "execution_count": 21,
   "metadata": {
    "collapsed": false
   },
   "outputs": [
    {
     "data": {
      "text/html": [
       "<div>\n",
       "<table border=\"1\" class=\"dataframe\">\n",
       "  <thead>\n",
       "    <tr style=\"text-align: right;\">\n",
       "      <th></th>\n",
       "      <th>Name</th>\n",
       "      <th>geometry</th>\n",
       "    </tr>\n",
       "  </thead>\n",
       "  <tbody>\n",
       "    <tr>\n",
       "      <th>0</th>\n",
       "      <td>selection</td>\n",
       "      <td>POLYGON Z ((4.322742733269624 52.0722001465526...</td>\n",
       "    </tr>\n",
       "  </tbody>\n",
       "</table>\n",
       "</div>"
      ],
      "text/plain": [
       "        Name                                           geometry\n",
       "0  selection  POLYGON Z ((4.322742733269624 52.0722001465526..."
      ]
     },
     "execution_count": 21,
     "metadata": {},
     "output_type": "execute_result"
    }
   ],
   "source": [
    "selection = gp.read_file('../selection.geojson')[['Name', 'geometry']]\n",
    "selection.head()"
   ]
  },
  {
   "cell_type": "code",
   "execution_count": 22,
   "metadata": {
    "collapsed": false
   },
   "outputs": [
    {
     "ename": "NameError",
     "evalue": "name 'polygon' is not defined",
     "output_type": "error",
     "traceback": [
      "\u001b[0;31m---------------------------------------------------------------------------\u001b[0m",
      "\u001b[0;31mNameError\u001b[0m                                 Traceback (most recent call last)",
      "\u001b[0;32m<ipython-input-22-a455256a7998>\u001b[0m in \u001b[0;36m<module>\u001b[0;34m()\u001b[0m\n\u001b[0;32m----> 1\u001b[0;31m \u001b[0mselected_sites\u001b[0m \u001b[0;34m=\u001b[0m \u001b[0mmdf\u001b[0m\u001b[0;34m[\u001b[0m\u001b[0mmdf\u001b[0m\u001b[0;34m[\u001b[0m\u001b[0;34m'location'\u001b[0m\u001b[0;34m]\u001b[0m \u001b[0;34m==\u001b[0m \u001b[0;34m(\u001b[0m\u001b[0mmdf\u001b[0m\u001b[0;34m[\u001b[0m\u001b[0;34m'location'\u001b[0m\u001b[0;34m]\u001b[0m\u001b[0;34m.\u001b[0m\u001b[0mgeometry\u001b[0m \u001b[0;34m-\u001b[0m \u001b[0mpolygon\u001b[0m\u001b[0;34m.\u001b[0m\u001b[0mgeometry\u001b[0m\u001b[0;34m)\u001b[0m\u001b[0;34m]\u001b[0m\u001b[0;34m\u001b[0m\u001b[0m\n\u001b[0m\u001b[1;32m      2\u001b[0m \u001b[0mselected_sites\u001b[0m\u001b[0;34m.\u001b[0m\u001b[0mhead\u001b[0m\u001b[0;34m(\u001b[0m\u001b[0;34m)\u001b[0m\u001b[0;34m\u001b[0m\u001b[0m\n",
      "\u001b[0;31mNameError\u001b[0m: name 'polygon' is not defined"
     ]
    }
   ],
   "source": [
    "selected_sites = mdf[mdf['location'] == (mdf['location'].geometry - polygon.geometry)]\n",
    "selected_sites.head()"
   ]
  },
  {
   "cell_type": "code",
   "execution_count": 96,
   "metadata": {
    "collapsed": false
   },
   "outputs": [
    {
     "data": {
      "text/plain": [
       "['rws01_monibas_0010vwa0065ra',\n",
       " 'rws01_monibas_0010vwa0223ra',\n",
       " 'rws01_monibas_0010vwa0248ra',\n",
       " 'rws01_monibas_0010vwa0269ra',\n",
       " 'rws01_monibas_0010vwa0286ra']"
      ]
     },
     "execution_count": 96,
     "metadata": {},
     "output_type": "execute_result"
    }
   ],
   "source": [
    "selected_sites_names = list(selected_sites['ndwid'].apply(lambda r: r.lower()).to_dict().values())\n",
    "selected_sites_names[:5]"
   ]
  },
  {
   "cell_type": "code",
   "execution_count": 97,
   "metadata": {
    "collapsed": true
   },
   "outputs": [],
   "source": [
    "import pickle"
   ]
  },
  {
   "cell_type": "code",
   "execution_count": 98,
   "metadata": {
    "collapsed": false
   },
   "outputs": [],
   "source": [
    "fname = open('../selected_sites.pkl', mode='wb')"
   ]
  },
  {
   "cell_type": "code",
   "execution_count": 99,
   "metadata": {
    "collapsed": false
   },
   "outputs": [],
   "source": [
    "pickle.dump(selected_sites_names, fname)"
   ]
  },
  {
   "cell_type": "code",
   "execution_count": 100,
   "metadata": {
    "collapsed": true
   },
   "outputs": [],
   "source": [
    "fname.close()"
   ]
  },
  {
   "cell_type": "markdown",
   "metadata": {},
   "source": [
    "#### Plot roads with geopandas"
   ]
  },
  {
   "cell_type": "code",
   "execution_count": 23,
   "metadata": {
    "collapsed": false
   },
   "outputs": [
    {
     "data": {
      "text/plain": [
       "0    LINESTRING Z (3.59686374664 51.4568066597 0, 3...\n",
       "1    LINESTRING Z (3.59685301781 51.4569568634 0, 3...\n",
       "2    LINESTRING Z (3.86214494705 51.4839291573 0, 3...\n",
       "3    LINESTRING Z (3.87001991272 51.4827382565 0, 3...\n",
       "4    LINESTRING Z (3.87071728706 51.486364603 0, 3....\n",
       "Name: geometry, dtype: object"
      ]
     },
     "execution_count": 23,
     "metadata": {},
     "output_type": "execute_result"
    }
   ],
   "source": [
    "rdw = gp.GeoDataFrame.from_file(str(RDW_FILEPATH))['geometry']\n",
    "rdw.head()"
   ]
  },
  {
   "cell_type": "code",
   "execution_count": 24,
   "metadata": {
    "collapsed": false
   },
   "outputs": [
    {
     "ename": "ImportError",
     "evalue": "No module named 'matplotlib'",
     "output_type": "error",
     "traceback": [
      "\u001b[0;31m---------------------------------------------------------------------------\u001b[0m",
      "\u001b[0;31mImportError\u001b[0m                               Traceback (most recent call last)",
      "\u001b[0;32m<ipython-input-24-4b8b25734d0e>\u001b[0m in \u001b[0;36m<module>\u001b[0;34m()\u001b[0m\n\u001b[0;32m----> 1\u001b[0;31m \u001b[0mroads\u001b[0m \u001b[0;34m=\u001b[0m \u001b[0mrdw\u001b[0m\u001b[0;34m.\u001b[0m\u001b[0mplot\u001b[0m\u001b[0;34m(\u001b[0m\u001b[0;34m)\u001b[0m\u001b[0;34m\u001b[0m\u001b[0m\n\u001b[0m",
      "\u001b[0;32m/usr/local/share/miniconda/envs/companionenv/lib/python3.5/site-packages/geopandas/geoseries.py\u001b[0m in \u001b[0;36mplot\u001b[0;34m(self, *args, **kwargs)\u001b[0m\n\u001b[1;32m    241\u001b[0m \u001b[0;34m\u001b[0m\u001b[0m\n\u001b[1;32m    242\u001b[0m     \u001b[0;32mdef\u001b[0m \u001b[0mplot\u001b[0m\u001b[0;34m(\u001b[0m\u001b[0mself\u001b[0m\u001b[0;34m,\u001b[0m \u001b[0;34m*\u001b[0m\u001b[0margs\u001b[0m\u001b[0;34m,\u001b[0m \u001b[0;34m**\u001b[0m\u001b[0mkwargs\u001b[0m\u001b[0;34m)\u001b[0m\u001b[0;34m:\u001b[0m\u001b[0;34m\u001b[0m\u001b[0m\n\u001b[0;32m--> 243\u001b[0;31m         \u001b[0;32mreturn\u001b[0m \u001b[0mplot_series\u001b[0m\u001b[0;34m(\u001b[0m\u001b[0mself\u001b[0m\u001b[0;34m,\u001b[0m \u001b[0;34m*\u001b[0m\u001b[0margs\u001b[0m\u001b[0;34m,\u001b[0m \u001b[0;34m**\u001b[0m\u001b[0mkwargs\u001b[0m\u001b[0;34m)\u001b[0m\u001b[0;34m\u001b[0m\u001b[0m\n\u001b[0m\u001b[1;32m    244\u001b[0m \u001b[0;34m\u001b[0m\u001b[0m\n\u001b[1;32m    245\u001b[0m     \u001b[0mplot\u001b[0m\u001b[0;34m.\u001b[0m\u001b[0m__doc__\u001b[0m \u001b[0;34m=\u001b[0m \u001b[0mplot_series\u001b[0m\u001b[0;34m.\u001b[0m\u001b[0m__doc__\u001b[0m\u001b[0;34m\u001b[0m\u001b[0m\n",
      "\u001b[0;32m/usr/local/share/miniconda/envs/companionenv/lib/python3.5/site-packages/geopandas/plotting.py\u001b[0m in \u001b[0;36mplot_series\u001b[0;34m(s, cmap, color, ax, linewidth, figsize, **color_kwds)\u001b[0m\n\u001b[1;32m    127\u001b[0m         \u001b[0max\u001b[0m \u001b[0;34m=\u001b[0m \u001b[0mcolor_kwds\u001b[0m\u001b[0;34m.\u001b[0m\u001b[0mpop\u001b[0m\u001b[0;34m(\u001b[0m\u001b[0;34m'axes'\u001b[0m\u001b[0;34m)\u001b[0m\u001b[0;34m\u001b[0m\u001b[0m\n\u001b[1;32m    128\u001b[0m \u001b[0;34m\u001b[0m\u001b[0m\n\u001b[0;32m--> 129\u001b[0;31m     \u001b[0;32mimport\u001b[0m \u001b[0mmatplotlib\u001b[0m\u001b[0;34m.\u001b[0m\u001b[0mpyplot\u001b[0m \u001b[0;32mas\u001b[0m \u001b[0mplt\u001b[0m\u001b[0;34m\u001b[0m\u001b[0m\n\u001b[0m\u001b[1;32m    130\u001b[0m     \u001b[0;32mif\u001b[0m \u001b[0max\u001b[0m \u001b[0;32mis\u001b[0m \u001b[0;32mNone\u001b[0m\u001b[0;34m:\u001b[0m\u001b[0;34m\u001b[0m\u001b[0m\n\u001b[1;32m    131\u001b[0m         \u001b[0mfig\u001b[0m\u001b[0;34m,\u001b[0m \u001b[0max\u001b[0m \u001b[0;34m=\u001b[0m \u001b[0mplt\u001b[0m\u001b[0;34m.\u001b[0m\u001b[0msubplots\u001b[0m\u001b[0;34m(\u001b[0m\u001b[0mfigsize\u001b[0m\u001b[0;34m=\u001b[0m\u001b[0mfigsize\u001b[0m\u001b[0;34m)\u001b[0m\u001b[0;34m\u001b[0m\u001b[0m\n",
      "\u001b[0;31mImportError\u001b[0m: No module named 'matplotlib'"
     ]
    }
   ],
   "source": [
    "roads = rdw.plot()"
   ]
  },
  {
   "cell_type": "code",
   "execution_count": 20,
   "metadata": {
    "collapsed": true
   },
   "outputs": [],
   "source": [
    "mdf.plot?"
   ]
  },
  {
   "cell_type": "code",
   "execution_count": 26,
   "metadata": {
    "collapsed": false
   },
   "outputs": [
    {
     "ename": "AttributeError",
     "evalue": "'str' object has no attribute 'type'",
     "output_type": "error",
     "traceback": [
      "\u001b[0;31m---------------------------------------------------------------------------\u001b[0m",
      "\u001b[0;31mAttributeError\u001b[0m                            Traceback (most recent call last)",
      "\u001b[0;32m<ipython-input-26-1fa8c1e99365>\u001b[0m in \u001b[0;36m<module>\u001b[0;34m()\u001b[0m\n\u001b[0;32m----> 1\u001b[0;31m \u001b[0msites\u001b[0m \u001b[0;34m=\u001b[0m \u001b[0mmdf\u001b[0m\u001b[0;34m.\u001b[0m\u001b[0mplot\u001b[0m\u001b[0;34m(\u001b[0m\u001b[0;34m)\u001b[0m\u001b[0;34m\u001b[0m\u001b[0m\n\u001b[0m",
      "\u001b[0;32m/Users/eltdassen/Applications/anaconda/envs/mlenv/lib/python3.5/site-packages/geopandas/geodataframe.py\u001b[0m in \u001b[0;36mplot\u001b[0;34m(self, *args, **kwargs)\u001b[0m\n\u001b[1;32m    379\u001b[0m \u001b[0;34m\u001b[0m\u001b[0m\n\u001b[1;32m    380\u001b[0m     \u001b[0;32mdef\u001b[0m \u001b[0mplot\u001b[0m\u001b[0;34m(\u001b[0m\u001b[0mself\u001b[0m\u001b[0;34m,\u001b[0m \u001b[0;34m*\u001b[0m\u001b[0margs\u001b[0m\u001b[0;34m,\u001b[0m \u001b[0;34m**\u001b[0m\u001b[0mkwargs\u001b[0m\u001b[0;34m)\u001b[0m\u001b[0;34m:\u001b[0m\u001b[0;34m\u001b[0m\u001b[0m\n\u001b[0;32m--> 381\u001b[0;31m         \u001b[0;32mreturn\u001b[0m \u001b[0mplot_dataframe\u001b[0m\u001b[0;34m(\u001b[0m\u001b[0mself\u001b[0m\u001b[0;34m,\u001b[0m \u001b[0;34m*\u001b[0m\u001b[0margs\u001b[0m\u001b[0;34m,\u001b[0m \u001b[0;34m**\u001b[0m\u001b[0mkwargs\u001b[0m\u001b[0;34m)\u001b[0m\u001b[0;34m\u001b[0m\u001b[0m\n\u001b[0m\u001b[1;32m    382\u001b[0m \u001b[0;34m\u001b[0m\u001b[0m\n\u001b[1;32m    383\u001b[0m \u001b[0;32mdef\u001b[0m \u001b[0m_dataframe_set_geometry\u001b[0m\u001b[0;34m(\u001b[0m\u001b[0mself\u001b[0m\u001b[0;34m,\u001b[0m \u001b[0mcol\u001b[0m\u001b[0;34m,\u001b[0m \u001b[0mdrop\u001b[0m\u001b[0;34m=\u001b[0m\u001b[0;32mFalse\u001b[0m\u001b[0;34m,\u001b[0m \u001b[0minplace\u001b[0m\u001b[0;34m=\u001b[0m\u001b[0;32mFalse\u001b[0m\u001b[0;34m,\u001b[0m \u001b[0mcrs\u001b[0m\u001b[0;34m=\u001b[0m\u001b[0;32mNone\u001b[0m\u001b[0;34m)\u001b[0m\u001b[0;34m:\u001b[0m\u001b[0;34m\u001b[0m\u001b[0m\n",
      "\u001b[0;32m/Users/eltdassen/Applications/anaconda/envs/mlenv/lib/python3.5/site-packages/geopandas/plotting.py\u001b[0m in \u001b[0;36mplot_dataframe\u001b[0;34m(s, column, colormap, alpha, categorical, legend, axes, scheme, k)\u001b[0m\n\u001b[1;32m    178\u001b[0m \u001b[0;34m\u001b[0m\u001b[0m\n\u001b[1;32m    179\u001b[0m     \u001b[0;32mif\u001b[0m \u001b[0mcolumn\u001b[0m \u001b[0;32mis\u001b[0m \u001b[0;32mNone\u001b[0m\u001b[0;34m:\u001b[0m\u001b[0;34m\u001b[0m\u001b[0m\n\u001b[0;32m--> 180\u001b[0;31m         \u001b[0;32mreturn\u001b[0m \u001b[0mplot_series\u001b[0m\u001b[0;34m(\u001b[0m\u001b[0ms\u001b[0m\u001b[0;34m.\u001b[0m\u001b[0mgeometry\u001b[0m\u001b[0;34m,\u001b[0m \u001b[0mcolormap\u001b[0m\u001b[0;34m=\u001b[0m\u001b[0mcolormap\u001b[0m\u001b[0;34m,\u001b[0m \u001b[0malpha\u001b[0m\u001b[0;34m=\u001b[0m\u001b[0malpha\u001b[0m\u001b[0;34m,\u001b[0m \u001b[0maxes\u001b[0m\u001b[0;34m=\u001b[0m\u001b[0maxes\u001b[0m\u001b[0;34m)\u001b[0m\u001b[0;34m\u001b[0m\u001b[0m\n\u001b[0m\u001b[1;32m    181\u001b[0m     \u001b[0;32melse\u001b[0m\u001b[0;34m:\u001b[0m\u001b[0;34m\u001b[0m\u001b[0m\n\u001b[1;32m    182\u001b[0m         \u001b[0;32mif\u001b[0m \u001b[0ms\u001b[0m\u001b[0;34m[\u001b[0m\u001b[0mcolumn\u001b[0m\u001b[0;34m]\u001b[0m\u001b[0;34m.\u001b[0m\u001b[0mdtype\u001b[0m \u001b[0;32mis\u001b[0m \u001b[0mnp\u001b[0m\u001b[0;34m.\u001b[0m\u001b[0mdtype\u001b[0m\u001b[0;34m(\u001b[0m\u001b[0;34m'O'\u001b[0m\u001b[0;34m)\u001b[0m\u001b[0;34m:\u001b[0m\u001b[0;34m\u001b[0m\u001b[0m\n",
      "\u001b[0;32m/Users/eltdassen/Applications/anaconda/envs/mlenv/lib/python3.5/site-packages/geopandas/plotting.py\u001b[0m in \u001b[0;36mplot_series\u001b[0;34m(s, colormap, alpha, axes)\u001b[0m\n\u001b[1;32m    110\u001b[0m     \u001b[0mcolor\u001b[0m \u001b[0;34m=\u001b[0m \u001b[0mgencolor\u001b[0m\u001b[0;34m(\u001b[0m\u001b[0mlen\u001b[0m\u001b[0;34m(\u001b[0m\u001b[0ms\u001b[0m\u001b[0;34m)\u001b[0m\u001b[0;34m,\u001b[0m \u001b[0mcolormap\u001b[0m\u001b[0;34m=\u001b[0m\u001b[0mcolormap\u001b[0m\u001b[0;34m)\u001b[0m\u001b[0;34m\u001b[0m\u001b[0m\n\u001b[1;32m    111\u001b[0m     \u001b[0;32mfor\u001b[0m \u001b[0mgeom\u001b[0m \u001b[0;32min\u001b[0m \u001b[0ms\u001b[0m\u001b[0;34m:\u001b[0m\u001b[0;34m\u001b[0m\u001b[0m\n\u001b[0;32m--> 112\u001b[0;31m         \u001b[0;32mif\u001b[0m \u001b[0mgeom\u001b[0m\u001b[0;34m.\u001b[0m\u001b[0mtype\u001b[0m \u001b[0;34m==\u001b[0m \u001b[0;34m'Polygon'\u001b[0m \u001b[0;32mor\u001b[0m \u001b[0mgeom\u001b[0m\u001b[0;34m.\u001b[0m\u001b[0mtype\u001b[0m \u001b[0;34m==\u001b[0m \u001b[0;34m'MultiPolygon'\u001b[0m\u001b[0;34m:\u001b[0m\u001b[0;34m\u001b[0m\u001b[0m\n\u001b[0m\u001b[1;32m    113\u001b[0m             \u001b[0mplot_multipolygon\u001b[0m\u001b[0;34m(\u001b[0m\u001b[0max\u001b[0m\u001b[0;34m,\u001b[0m \u001b[0mgeom\u001b[0m\u001b[0;34m,\u001b[0m \u001b[0mfacecolor\u001b[0m\u001b[0;34m=\u001b[0m\u001b[0mnext\u001b[0m\u001b[0;34m(\u001b[0m\u001b[0mcolor\u001b[0m\u001b[0;34m)\u001b[0m\u001b[0;34m,\u001b[0m \u001b[0malpha\u001b[0m\u001b[0;34m=\u001b[0m\u001b[0malpha\u001b[0m\u001b[0;34m)\u001b[0m\u001b[0;34m\u001b[0m\u001b[0m\n\u001b[1;32m    114\u001b[0m         \u001b[0;32melif\u001b[0m \u001b[0mgeom\u001b[0m\u001b[0;34m.\u001b[0m\u001b[0mtype\u001b[0m \u001b[0;34m==\u001b[0m \u001b[0;34m'LineString'\u001b[0m \u001b[0;32mor\u001b[0m \u001b[0mgeom\u001b[0m\u001b[0;34m.\u001b[0m\u001b[0mtype\u001b[0m \u001b[0;34m==\u001b[0m \u001b[0;34m'MultiLineString'\u001b[0m\u001b[0;34m:\u001b[0m\u001b[0;34m\u001b[0m\u001b[0m\n",
      "\u001b[0;31mAttributeError\u001b[0m: 'str' object has no attribute 'type'"
     ]
    },
    {
     "data": {
      "image/png": "[encoded data removed]",
      "text/plain": [
       "<matplotlib.figure.Figure at 0x120fd9a90>"
      ]
     },
     "metadata": {},
     "output_type": "display_data"
    }
   ],
   "source": [
    "sites = mdf.plot()"
   ]
  },
  {
   "cell_type": "code",
   "execution_count": null,
   "metadata": {
    "collapsed": true
   },
   "outputs": [],
   "source": []
  },
  {
   "cell_type": "code",
   "execution_count": null,
   "metadata": {
    "collapsed": true
   },
   "outputs": [],
   "source": []
  }
 ],
 "metadata": {
  "kernelspec": {
   "display_name": "companionenv",
   "language": "python",
   "name": "companionenv"
  },
  "language_info": {
   "codemirror_mode": {
    "name": "ipython",
    "version": 3
   },
   "file_extension": ".py",
   "mimetype": "text/x-python",
   "name": "python",
   "nbconvert_exporter": "python",
   "pygments_lexer": "ipython3",
   "version": "3.5.2"
  }
 },
 "nbformat": 4,
 "nbformat_minor": 0
}
